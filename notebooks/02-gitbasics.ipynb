{
 "cells": [
  {
   "cell_type": "markdown",
   "metadata": {
    "slideshow": {
     "slide_type": "slide"
    }
   },
   "source": [
    "# Git\n",
    "\n",
    "Git est un logiciel de gestion de versions.\n",
    "\n",
    "Site officiel https://git-scm.com"
   ]
  },
  {
   "cell_type": "markdown",
   "metadata": {
    "slideshow": {
     "slide_type": "slide"
    }
   },
   "source": [
    "## GitHub\n",
    "\n",
    "- Service web utilisant Git comme gestionnaire de version. \n",
    "- Github permet d'enregistrer et partager toutes les étapes de développement d'un logiciel ou de la rédaction d'un document au format texte au cours du temps. A tout moment vous pouvez revenir à une précedente version, l'ensemble de l'historique est toujours préservé. \n",
    "- Github permet d'organiser un travail collaboratif avec différents niveaux d'accès, la gestion des bugs et hébergement de la documentation.\n",
    "- Github est la plus grande bibliothèque de codes du monde.\n",
    "- Fonctionne de plus en plus comme un réseau social et offre une grande visibilité à vos travaux."
   ]
  },
  {
   "cell_type": "markdown",
   "metadata": {
    "slideshow": {
     "slide_type": "slide"
    }
   },
   "source": [
    "## SCM (Source Code Management)\n",
    "\n",
    "- Enregistrement des changements dans un ou plusieurs fichiers au cours du temps.\n",
    "- Vous pouvez revenir à tout moment vers une version précedente.\n",
    "- Fonctionne avec tout type de document.\n",
    "- Excellent moyen pour collaborer sur un même document.\n",
    "- Chaque modification enregistrée est datée avec le nom de son auteur.\n",
    "- Les figures proviennent du [Pro Git book](http://git-scm.com/book).\n",
    "- Ce support est fortement inspiré de [\"Become a git guru\"](https://www.atlassian.com/git/tutorials)."
   ]
  },
  {
   "cell_type": "markdown",
   "metadata": {
    "slideshow": {
     "slide_type": "slide"
    }
   },
   "source": [
    "## Gestion distribuée des versions\n",
    "\n",
    "<img src=\"images/git.png\" alt=\"git\" width=\"300px\"/>\n",
    "\n",
    "- Chaque membre du projet possède ne copie totale du projet\n",
    "- On peut contribuer seul ou a plusieurs.\n",
    "- Pas besoin de connexion réseau\n",
    "- Les sauvegardes sont très nombreuses grâce à ce système.\n",
    " \n",
    " "
   ]
  },
  {
   "cell_type": "markdown",
   "metadata": {
    "slideshow": {
     "slide_type": "slide"
    }
   },
   "source": [
    "## Configuration\n",
    "\n",
    "Il faut renseigner votre identité avec votre adresse de messagerie\n",
    "\n",
    "```\n",
    "git config --global user.name “Prenom Nom\"\n",
    "git config --global user.email “prenom.nom@domaine.fr\"\n",
    "```"
   ]
  },
  {
   "cell_type": "markdown",
   "metadata": {
    "slideshow": {
     "slide_type": "slide"
    }
   },
   "source": [
    "## Clonage du dépôt\n",
    "\n",
    "```bash\n",
    "git clone https://github.com/pnavaro/agrocampus.git\n",
    "```"
   ]
  },
  {
   "cell_type": "markdown",
   "metadata": {
    "slideshow": {
     "slide_type": "fragment"
    }
   },
   "source": [
    "## Branche\n",
    "\n",
    "```bash\n",
    "git checkout -b my_branch\n",
    "```\n",
    "\n",
    "Permet de \"figer\" une version personnelle locale sur laquelle vous pouvez travailler sans modifier la branche principale \"master\"."
   ]
  },
  {
   "cell_type": "markdown",
   "metadata": {},
   "source": [
    "## Les différents états des fichiers dans la copie du dépôt\n",
    "  \n",
    "<img src=\"images/18333fig0201-tn.png\" alt=\"git\" width=\"450px\"/>"
   ]
  },
  {
   "cell_type": "markdown",
   "metadata": {
    "slideshow": {
     "slide_type": "slide"
    }
   },
   "source": [
    "## Git Workflow\n",
    "\n",
    "<img src=\"images/four_stages.png\" alt=\"git\" width=\"150px\"/>"
   ]
  },
  {
   "cell_type": "markdown",
   "metadata": {
    "slideshow": {
     "slide_type": "slide"
    }
   },
   "source": [
    "## Verifier les fichiers modifiés\n"
   ]
  },
  {
   "cell_type": "code",
   "execution_count": 1,
   "metadata": {
    "slideshow": {
     "slide_type": "fragment"
    }
   },
   "outputs": [
    {
     "name": "stdout",
     "output_type": "stream",
     "text": [
      "On branch master\n",
      "Your branch is up to date with 'origin/master'.\n",
      "\n",
      "Changes not staged for commit:\n",
      "  (use \"git add <file>...\" to update what will be committed)\n",
      "  (use \"git restore <file>...\" to discard changes in working directory)\n",
      "\tmodified:   02-gitbasics.ipynb\n",
      "\n",
      "no changes added to commit (use \"git add\" and/or \"git commit -a\")\n"
     ]
    }
   ],
   "source": [
    "%%bash\n",
    "git status"
   ]
  },
  {
   "cell_type": "markdown",
   "metadata": {
    "slideshow": {
     "slide_type": "slide"
    }
   },
   "source": [
    "## Ajouter le fichier dans l'index\n",
    "\n",
    "```bash\n",
    "git add your_notebook_copy.ipynb\n",
    "```\n",
    "\n",
    "Cette commande est nécessaire pour un nouveau fichier mais aussi pour un fichier qui a été modifié."
   ]
  },
  {
   "cell_type": "markdown",
   "metadata": {
    "slideshow": {
     "slide_type": "fragment"
    }
   },
   "source": [
    "## Verification avant validation\n",
    "\n",
    "```bash\n",
    "git status\n",
    "```"
   ]
  },
  {
   "cell_type": "markdown",
   "metadata": {
    "slideshow": {
     "slide_type": "fragment"
    }
   },
   "source": [
    "## Validation et sauvegarde (commit)\n",
    "\n",
    "```bash\n",
    "git commit -m 'A propos de mes modifications'\n",
    "```"
   ]
  },
  {
   "cell_type": "markdown",
   "metadata": {
    "slideshow": {
     "slide_type": "slide"
    }
   },
   "source": [
    "## Synchroniser avec la version distante sur le dépôt\n",
    "\n",
    "La commande suivante permet de rappatrier toutes les modifications sur le dépôt distant (remote) sans modifier\n",
    "votre version locale. Toutes les branches commencant par \"origin/\\*\" seront mises à jour.\n"
   ]
  },
  {
   "cell_type": "markdown",
   "metadata": {
    "attributes": {
     "classes": [
      "git"
     ],
     "id": ""
    },
    "slideshow": {
     "slide_type": "fragment"
    }
   },
   "source": [
    "```bash\n",
    "git fetch origin\n",
    "git branch -a   # pour voir toutes les branches\n",
    "```"
   ]
  },
  {
   "cell_type": "markdown",
   "metadata": {
    "slideshow": {
     "slide_type": "slide"
    }
   },
   "source": [
    "## Fusionner la branche distante avec la branche locale\n",
    "\n",
    "```bash\n",
    "git merge origin/master\n",
    "```\n",
    "\n",
    "Les deux étapes précédentes peuvent être effectuées en une seule commande avec\n",
    "\n",
    "```bash\n",
    "git pull origin master\n",
    "```\n",
    "\n",
    "Je déconseille cette approche car avec le `git fetch` on peut anticiper des conflits.\n",
    "```bash\n",
    "git diff origin/master\n",
    "```\n",
    "ou en version graphique si l'outil st installé sur votre poste:\n",
    "```bash\n",
    "git difftool origin/master\n",
    "```"
   ]
  },
  {
   "cell_type": "markdown",
   "metadata": {
    "slideshow": {
     "slide_type": "slide"
    }
   },
   "source": [
    "## Résoudre les conflits\n",
    "\n",
    "- En cas de problèmes sur un fichier, vous pouvez annuler toutes les modifications non validées par un *commit* avec :\n",
    "\n",
    "```bash\n",
    "git checkout mon_fichier_modif\n",
    "```\n",
    "\n",
    "- Si vraiment il y a de gros soucis\n",
    "\n",
    "```bash\n",
    "git reset --hard\n",
    "```\n",
    "\n",
    "Attention cette dernière commande, annule tous les changments qui n'ont pas été validés par un *commit*."
   ]
  },
  {
   "cell_type": "markdown",
   "metadata": {
    "slideshow": {
     "slide_type": "slide"
    }
   },
   "source": [
    "## Git en version graphique\n",
    "\n",
    "- [GitHub Desktop](https://desktop.github.com/)\n",
    "- [Sourcetree](https://fr.atlassian.com/software/sourcetree)\n",
    "- [GitKraken](https://www.gitkraken.com/)\n",
    "- [Fork](https://git-fork.com)\n",
    "- Plugins\n",
    "\t- [RStudio](https://www.rstudio.com/)\n",
    "\t- [Eclipse](https://www.eclipse.org/downloads/)\n",
    "\t- [JetBrains](https://www.jetbrains.com/)"
   ]
  }
 ],
 "metadata": {
  "@webio": {
   "lastCommId": null,
   "lastKernelId": null
  },
  "celltoolbar": "Slideshow",
  "jupytext": {
   "cell_metadata_filter": "-all",
   "notebook_metadata_filter": "-all"
  },
  "kernelspec": {
   "display_name": "Python 3",
   "language": "python",
   "name": "python3"
  },
  "language_info": {
   "codemirror_mode": {
    "name": "ipython",
    "version": 3
   },
   "file_extension": ".py",
   "mimetype": "text/x-python",
   "name": "python",
   "nbconvert_exporter": "python",
   "pygments_lexer": "ipython3",
   "version": "3.8.5"
  }
 },
 "nbformat": 4,
 "nbformat_minor": 2
}

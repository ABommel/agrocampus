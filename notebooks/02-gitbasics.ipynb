{
 "cells": [
  {
   "cell_type": "markdown",
   "metadata": {
    "slideshow": {
     "slide_type": "slide"
    }
   },
   "source": [
    "# Git\n",
    "\n",
    "Git est un logiciel de gestion de versions.\n",
    "\n",
    "Site officiel https://git-scm.com\n",
    "\n",
    "Le livre en français https://git-scm.com/book/fr/v2\n"
   ]
  },
  {
   "cell_type": "markdown",
   "metadata": {
    "slideshow": {
     "slide_type": "slide"
    }
   },
   "source": [
    "## Pourquoi un gestionnaire de version\n",
    "\n",
    "- Toutes les modifications sont enregistrées.\n",
    "- A tout moment vous pouvez revenir sur une version précédente.\n",
    "- Vous pouvez l'utiliser pour quasiment tous les types de fichier.\n",
    "- C'est la meilleure approche pour collaborer sur un document.\n",
    "- Chaque modification est identifiée et datée."
   ]
  },
  {
   "cell_type": "markdown",
   "metadata": {
    "slideshow": {
     "slide_type": "slide"
    }
   },
   "source": [
    "## GitHub\n",
    "\n",
    "- Service web utilisant Git comme gestionnaire de version. \n",
    "- Github permet de collaborer toutes les étapes de développement d'un logiciel ou de la rédaction d'un document au format texte au cours du temps.\n",
    "- Github permet d'organiser cette collaboration avec différents niveaux d'accès, la gestion des bugs et l'hébergement de la documentation.\n",
    "- Github est la plus grande bibliothèque de codes du monde et on y retrouve les meilleures développeurs.\n",
    "- Fonctionne de plus en plus comme un réseau social et offre une grande visibilité à vos travaux.\n",
    "\n",
    "Services équivalents: [Gitlab.com](https://about.gitlab.com) et [Bitbucket](https://bitbucket.org)"
   ]
  },
  {
   "cell_type": "markdown",
   "metadata": {
    "slideshow": {
     "slide_type": "slide"
    }
   },
   "source": [
    "## Gestion distribuée des versions\n",
    "\n",
    "<img src=\"images/git.png\" alt=\"git\" width=\"300px\"/>\n",
    "\n",
    "- Chaque membre du projet possède une copie totale du projet\n",
    "- On peut contribuer seul ou à plusieurs.\n",
    "- Pas besoin de connexion réseau\n",
    "- Les sauvegardes sont très nombreuses grâce à ce système."
   ]
  },
  {
   "cell_type": "markdown",
   "metadata": {
    "slideshow": {
     "slide_type": "slide"
    }
   },
   "source": [
    "## Installation et configuration\n",
    "\n",
    "- Télécharger et installer [Git](http://git-scm.com).\n",
    "- Configuration: Il faut renseigner votre identité avec votre adresse de messagerie. \n",
    "\n",
    "Ouvrir la console « Git bash »:\n",
    "\n",
    "```\n",
    "git config --global user.name “Prenom Nom\"\n",
    "git config --global user.email “prenom.nom@domaine.fr\"\n",
    "```"
   ]
  },
  {
   "cell_type": "markdown",
   "metadata": {
    "slideshow": {
     "slide_type": "slide"
    }
   },
   "source": [
    "## Créer sa clé SSH\n",
    "\n",
    "Saisissez la ligne suivante dans le git bash:\n",
    "\n",
    "```bash\n",
    "ssh-keygen\n",
    "```\n",
    "\n",
    "Valider les questions suivantes :\n",
    "\n",
    "```\n",
    "Enter file in which to save the key (/****/****/.ssh/id_rsa):\n",
    "```\n",
    "appuyer sur « enter » ou saisir le nom du certificat puis « enter »\n",
    "\n",
    "```\n",
    "Enter passphrase (empty for no passphrase):\n",
    "```\n",
    "\n",
    "Appuyer sur \"enter\" (conseillé) ou saisir un mot de passe.  Deux fichiers on été créés : un clé publique et une clé privée. La clé publique sera celle que l'on pourra partager et la clé privée ne doit être communiquée sous aucun prétexte, elle est comme un mot de passe. Si vous la perdez vous devrez recommencer la procédure.\n"
   ]
  },
  {
   "cell_type": "markdown",
   "metadata": {
    "lines_to_next_cell": 0
   },
   "source": [
    "## Créer votre compte GitHub\n",
    "\n",
    "Il suffit de cliquer en haut à droite sur `Sign Up`\n",
    "\n",
    "Une fois que le compte a été créé allez sur le dépot <https://github.com/pnavaro/agrocampus> et cliquez sur `Fork` en haut à droite.\n",
    "\n",
    "Vous aurez une copie de ces transparents sur votre compte GitHub."
   ]
  },
  {
   "cell_type": "markdown",
   "metadata": {
    "slideshow": {
     "slide_type": "slide"
    }
   },
   "source": [
    "## Clonage du dépôt\n",
    "\n",
    "```bash\n",
    "git clone https://github.com/{GITHUB_LOGIN}/agrocampus.git\n",
    "```"
   ]
  },
  {
   "cell_type": "markdown",
   "metadata": {
    "slideshow": {
     "slide_type": "fragment"
    }
   },
   "source": [
    "## Branche\n",
    "\n",
    "```bash\n",
    "git checkout -b dev\n",
    "```\n",
    "\n",
    "Permet de \"figer\" une version personnelle locale sur laquelle vous pouvez travailler sans modifier la branche principale \"master\"."
   ]
  },
  {
   "cell_type": "markdown",
   "metadata": {},
   "source": [
    "## Les différents états des fichiers dans la copie du dépôt\n",
    "  \n",
    "<img src=\"images/18333fig0201-tn.png\" alt=\"git\" width=\"450px\"/>"
   ]
  },
  {
   "cell_type": "markdown",
   "metadata": {
    "slideshow": {
     "slide_type": "slide"
    }
   },
   "source": [
    "## Git Workflow\n",
    "\n",
    "<img src=\"images/four_stages.png\" alt=\"git\" width=\"150px\"/>"
   ]
  },
  {
   "cell_type": "markdown",
   "metadata": {
    "slideshow": {
     "slide_type": "slide"
    }
   },
   "source": [
    "## Verifier les fichiers modifiés\n"
   ]
  },
  {
   "cell_type": "code",
   "execution_count": 1,
   "metadata": {
    "slideshow": {
     "slide_type": "fragment"
    }
   },
   "outputs": [
    {
     "name": "stdout",
     "output_type": "stream",
     "text": [
      "On branch mabranche\n",
      "Changes not staged for commit:\n",
      "  (use \"git add <file>...\" to update what will be committed)\n",
      "  (use \"git restore <file>...\" to discard changes in working directory)\n",
      "\tmodified:   02-gitbasics.ipynb\n",
      "\n",
      "Untracked files:\n",
      "  (use \"git add <file>...\" to include in what will be committed)\n",
      "\t../Dockerfile\n",
      "\timages/git_cycle.png\n",
      "\timages/index1.png\n",
      "\timages/index2.png\n",
      "\timages/lr-branches-2.png\n",
      "\n",
      "no changes added to commit (use \"git add\" and/or \"git commit -a\")\n"
     ]
    }
   ],
   "source": [
    "%%bash\n",
    "git status"
   ]
  },
  {
   "cell_type": "markdown",
   "metadata": {
    "slideshow": {
     "slide_type": "slide"
    }
   },
   "source": [
    "## Ajouter un fichier dans l'index\n",
    "\n",
    "```bash\n",
    "git add your_notebook_copy.ipynb\n",
    "```\n",
    "\n",
    "Cette commande est nécessaire pour un nouveau fichier mais aussi pour un fichier qui a été modifié."
   ]
  },
  {
   "cell_type": "markdown",
   "metadata": {
    "slideshow": {
     "slide_type": "fragment"
    }
   },
   "source": [
    "## Validation et sauvegarde (commit)\n",
    "\n",
    "```bash\n",
    "git commit -m 'A propos de mes modifications'\n",
    "```"
   ]
  },
  {
   "cell_type": "markdown",
   "metadata": {
    "slideshow": {
     "slide_type": "slide"
    }
   },
   "source": [
    "## Synchroniser avec la version distante sur le dépôt\n",
    "\n",
    "La commande suivante permet de rappatrier toutes les modifications sur le dépôt distant (remote) sans modifier\n",
    "votre version locale. Toutes les branches commencant par \"origin/\\*\" seront mises à jour.\n"
   ]
  },
  {
   "cell_type": "markdown",
   "metadata": {
    "attributes": {
     "classes": [
      "git"
     ],
     "id": ""
    },
    "slideshow": {
     "slide_type": "fragment"
    }
   },
   "source": [
    "```bash\n",
    "git fetch origin\n",
    "git branch -a   # pour voir toutes les branches\n",
    "```"
   ]
  },
  {
   "cell_type": "markdown",
   "metadata": {
    "slideshow": {
     "slide_type": "slide"
    }
   },
   "source": [
    "## Fusionner la branche distante avec la branche locale\n",
    "\n",
    "```bash\n",
    "git merge origin/master\n",
    "```\n",
    "\n",
    "Les deux étapes précédentes peuvent être effectuées en une seule commande avec\n",
    "\n",
    "```bash\n",
    "git pull origin master\n",
    "```\n",
    "\n",
    "Je déconseille cette approche car avec le `git fetch` on peut anticiper des conflits.\n",
    "```bash\n",
    "git diff origin/master\n",
    "```\n",
    "ou en version graphique si l'outil st installé sur votre poste:\n",
    "```bash\n",
    "git difftool origin/master\n",
    "```"
   ]
  },
  {
   "cell_type": "markdown",
   "metadata": {
    "slideshow": {
     "slide_type": "slide"
    }
   },
   "source": [
    "## Résoudre les conflits\n",
    "\n",
    "- En cas de problèmes sur un fichier, vous pouvez annuler toutes les modifications non validées par un *commit* avec :\n",
    "\n",
    "```bash\n",
    "git checkout mon_fichier_modif\n",
    "```\n",
    "\n",
    "- Si vraiment il y a de gros soucis\n",
    "\n",
    "```bash\n",
    "git reset --hard\n",
    "```\n",
    "\n",
    "Attention cette dernière commande, annule tous les changments qui n'ont pas été validés par un *commit*."
   ]
  },
  {
   "cell_type": "markdown",
   "metadata": {
    "slideshow": {
     "slide_type": "slide"
    }
   },
   "source": [
    "## Prise en main\n",
    "\n",
    "### Configuration\n",
    "\n",
    "```bash\n",
    "git config --global user.name \"Prenom Nom\"\n",
    "git config --global user.email \"prenom.nom@univ-rennes1.fr\"\n",
    "```"
   ]
  },
  {
   "cell_type": "markdown",
   "metadata": {
    "slideshow": {
     "slide_type": "fragment"
    }
   },
   "source": [
    "Utiliser la même adresse que pour votre compte GitHub. Verifier la configuration avec:"
   ]
  },
  {
   "cell_type": "code",
   "execution_count": 2,
   "metadata": {
    "slideshow": {
     "slide_type": "fragment"
    }
   },
   "outputs": [
    {
     "name": "stdout",
     "output_type": "stream",
     "text": [
      "credential.helper=osxkeychain\n",
      "filter.lfs.clean=git-lfs clean -- %f\n",
      "filter.lfs.smudge=git-lfs smudge -- %f\n",
      "filter.lfs.process=git-lfs filter-process\n",
      "filter.lfs.required=true\n",
      "filter.media.required=true\n",
      "filter.media.clean=git media clean %f\n",
      "filter.media.smudge=git media smudge %f\n",
      "user.name=Pierre Navaro\n",
      "user.email=navaro@math.cnrs.fr\n",
      "filter.hawser.clean=git hawser clean %f\n",
      "filter.hawser.smudge=git hawser smudge %f\n",
      "filter.hawser.required=true\n",
      "filter.lfs.clean=git-lfs clean -- %f\n",
      "filter.lfs.smudge=git-lfs smudge -- %f\n",
      "filter.lfs.process=git-lfs filter-process\n",
      "filter.lfs.required=true\n",
      "github.user=pnavaro\n",
      "core.repositoryformatversion=0\n",
      "core.filemode=true\n",
      "core.bare=false\n",
      "core.logallrefupdates=true\n",
      "core.ignorecase=true\n",
      "core.precomposeunicode=true\n",
      "user.name=Pierre Navaro\n",
      "user.email=pierre.navaro@univ-rennes1.fr\n",
      "remote.origin.url=git@gitlab.math.unistra.fr:navaro/agrocampus.git\n",
      "remote.origin.fetch=+refs/heads/*:refs/remotes/origin/*\n",
      "branch.master.remote=origin\n",
      "branch.master.merge=refs/heads/master\n"
     ]
    }
   ],
   "source": [
    "%%bash\n",
    "git config --list"
   ]
  },
  {
   "cell_type": "markdown",
   "metadata": {
    "slideshow": {
     "slide_type": "slide"
    }
   },
   "source": [
    "## Mettre en place git sur un répertoire existant\n",
    "\n",
    "Imaginons un article avec deux fichiers:\n",
    "\n",
    "```\n",
    "$ mkdir sandbox\n",
    "$ cd sandbox\n",
    "$ touch document.tex figure.png\n",
    "$ ls article\n",
    "\tdocument.tex\tfigure.png\n",
    "$ git init\n",
    "\tInitialized empty Git repository in /Users/navaro/article/.git/\n",
    "$ git status\n",
    "\tOn branch master\n",
    "\tInitial commit\n",
    "\tUntracked files:\n",
    " \t (use \"git add <file>...\" to include in what will be committed)\n",
    "\n",
    "\t\tdocument.tex\n",
    "\t\tfigure.png\n",
    "\n",
    "\tnothing added to commit but untracked files present\n",
    "\t(use \"git add\" to track)\n",
    "```"
   ]
  },
  {
   "cell_type": "markdown",
   "metadata": {
    "slideshow": {
     "slide_type": "slide"
    }
   },
   "source": [
    "## Ajouter les fichiers au dépôt git\n",
    "\n",
    "```\n",
    "$ git add document.tex\n",
    "$ git add figure.png\n",
    "$ git status\n",
    "\tOn branch master\n",
    "\tInitial commit\n",
    "\tChanges to be committed:\n",
    " \t (use \"git rm --cached <file>...\" to unstage)\n",
    "\n",
    "\t\tnew file:   document.tex\n",
    "\t\tnew file:   figure.png\n",
    "\n",
    "$ git commit -m 'Initial project version'}\n",
    "\t[master (root-commit) 9d23b49] Initial project version\n",
    " \t2 files changed, 0 insertions(+), 0 deletions(-)\n",
    " \tcreate mode 100644 document.tex\n",
    " \tcreate mode 100644 figure.png\n",
    "```"
   ]
  },
  {
   "cell_type": "markdown",
   "metadata": {
    "slideshow": {
     "slide_type": "slide"
    }
   },
   "source": [
    "## `Add`  et `commit` \n",
    "\n",
    "```bash\n",
    "git add document.tex figure.png\n",
    "git commit -m 'Add my contribution to the project'\n",
    "```\n",
    "\n",
    "Vos fichiers ne sont pas encore présents sur le serveur. Il faut créer un dépot github, que vous pouvez appeler\n",
    "sandbox:\n",
    "- Cliquer sur le '+' en haut à droite et \"New repository\"\n",
    "- Repository name = \"sandbox\"\n",
    "- Laisser les options par défaut\n",
    "- Cliquer sur \"Create repository\"\n",
    "\n",
    "```bash\n",
    "git remote add origin git@github.com:pnavaro/sandbox.git\n",
    "```\n",
    "\n",
    "```bash\n",
    "git status\n",
    "\tOn branch master\n",
    "\tYour branch is ahead of 'origin/master' by 1 commit.\n",
    "  \t(use \"git push\" to publish your local commits)\n",
    "```"
   ]
  },
  {
   "cell_type": "markdown",
   "metadata": {
    "slideshow": {
     "slide_type": "slide"
    }
   },
   "source": [
    "## \"Push\"\n",
    "\n",
    "par défaut vous êtes sur la branche \"master\"\n",
    "\n",
    "```\n",
    "$ git branch\n",
    "\t* master\n",
    "```\n",
    "\n",
    "\"Pousser\" voos fichiers sur le serveur\n",
    "\n",
    "```\n",
    "$ git push -u origin master\n",
    "\t...\n",
    "\tTo https://github.com/pnavaro/irmar-git-project\n",
    "   \t\tae2ce3c..ed796ea  master -> master\n",
    "```"
   ]
  },
  {
   "cell_type": "markdown",
   "metadata": {
    "slideshow": {
     "slide_type": "slide"
    }
   },
   "source": [
    "## Git Workflow\n",
    "![4-stages](images/four_stages.png){width=10%}"
   ]
  },
  {
   "cell_type": "markdown",
   "metadata": {
    "slideshow": {
     "slide_type": "slide"
    }
   },
   "source": [
    "## Afficher les branches"
   ]
  },
  {
   "cell_type": "code",
   "execution_count": 3,
   "metadata": {
    "slideshow": {
     "slide_type": "fragment"
    }
   },
   "outputs": [
    {
     "name": "stdout",
     "output_type": "stream",
     "text": [
      "* mabranche\n",
      "  master\n",
      "  remotes/origin/mabranche\n",
      "  remotes/origin/master\n"
     ]
    }
   ],
   "source": [
    "%%bash\n",
    "git branch -a"
   ]
  },
  {
   "cell_type": "code",
   "execution_count": null,
   "metadata": {},
   "outputs": [],
   "source": []
  },
  {
   "cell_type": "markdown",
   "metadata": {
    "slideshow": {
     "slide_type": "slide"
    }
   },
   "source": [
    "## Créer une branche"
   ]
  },
  {
   "cell_type": "code",
   "execution_count": 4,
   "metadata": {
    "slideshow": {
     "slide_type": "fragment"
    }
   },
   "outputs": [
    {
     "name": "stdout",
     "output_type": "stream",
     "text": [
      "M\tnotebooks/02-gitbasics.ipynb\n"
     ]
    },
    {
     "name": "stderr",
     "output_type": "stream",
     "text": [
      "fatal: A branch named 'mabranche' already exists.\n",
      "Already on 'mabranche'\n"
     ]
    }
   ],
   "source": [
    "%%bash\n",
    "git branch mabranche\n",
    "git checkout mabranche"
   ]
  },
  {
   "cell_type": "code",
   "execution_count": 5,
   "metadata": {
    "slideshow": {
     "slide_type": "fragment"
    }
   },
   "outputs": [
    {
     "name": "stdout",
     "output_type": "stream",
     "text": [
      "* mabranche\n",
      "  master\n"
     ]
    }
   ],
   "source": [
    "%%bash\n",
    "git branch"
   ]
  },
  {
   "cell_type": "markdown",
   "metadata": {
    "slideshow": {
     "slide_type": "fragment"
    }
   },
   "source": [
    "Des fichiers peuvent être différents ou meme inexsitants dans deux branches distinctes mais ils se trouveront au même endroit dans le système de fichiers."
   ]
  },
  {
   "cell_type": "markdown",
   "metadata": {
    "slideshow": {
     "slide_type": "slide"
    }
   },
   "source": [
    "## Modifier un fichier"
   ]
  },
  {
   "cell_type": "code",
   "execution_count": 6,
   "metadata": {
    "slideshow": {
     "slide_type": "slide"
    }
   },
   "outputs": [
    {
     "name": "stdout",
     "output_type": "stream",
     "text": [
      "On branch mabranche\n",
      "Changes not staged for commit:\n",
      "  (use \"git add <file>...\" to update what will be committed)\n",
      "  (use \"git restore <file>...\" to discard changes in working directory)\n",
      "\tmodified:   02-gitbasics.ipynb\n",
      "\n",
      "Untracked files:\n",
      "  (use \"git add <file>...\" to include in what will be committed)\n",
      "\t../Dockerfile\n",
      "\timages/git_cycle.png\n",
      "\timages/index1.png\n",
      "\timages/index2.png\n",
      "\timages/lr-branches-2.png\n",
      "\n",
      "no changes added to commit (use \"git add\" and/or \"git commit -a\")\n"
     ]
    }
   ],
   "source": [
    "%%bash\n",
    "git status"
   ]
  },
  {
   "cell_type": "code",
   "execution_count": 7,
   "metadata": {
    "slideshow": {
     "slide_type": "slide"
    }
   },
   "outputs": [
    {
     "name": "stdout",
     "output_type": "stream",
     "text": [
      "diff --git a/notebooks/02-gitbasics.ipynb b/notebooks/02-gitbasics.ipynb\n",
      "index 20681de..b631feb 100644\n",
      "--- a/notebooks/02-gitbasics.ipynb\n",
      "+++ b/notebooks/02-gitbasics.ipynb\n",
      "@@ -14,26 +14,53 @@\n",
      "     \"\\n\",\n",
      "     \"Site officiel https://git-scm.com\\n\",\n",
      "     \"\\n\",\n",
      "-    \"Le livre en français https://git-scm.com/book/fr/v2\\n\",\n",
      "-    \"\\n\",\n",
      "-    \"Installer [Git](https://git-scm.com/downloads) sur votre ordinateur\\n\",\n",
      "-    \"\\n\",\n",
      "+    \"Le livre en français https://git-scm.com/book/fr/v2\\n\"\n",
      "+   ]\n",
      "+  },\n",
      "+  {\n",
      "+   \"cell_type\": \"markdown\",\n",
      "+   \"metadata\": {\n",
      "+    \"slideshow\": {\n",
      "+     \"slide_type\": \"slide\"\n",
      "+    }\n",
      "+   },\n",
      "+   \"source\": [\n",
      "     \"## Pourquoi un gestionnaire de version\\n\",\n",
      "     \"\\n\",\n",
      "     \"- Toutes les modifications sont enregistrées.\\n\",\n",
      "     \"- A tout moment vous pouvez revenir sur une version précédente.\\n\",\n",
      "     \"- Vous pouvez l'utiliser pour quasiment tous les types de fichier.\\n\",\n",
      "     \"- C'est la meilleure approche pour collaborer sur un document.\\n\",\n",
      "-    \"- Chaque modification est identifiée et datée.\\n\",\n",
      "-    \"\\n\",\n",
      "+    \"- Chaque modification est identifiée et datée.\"\n",
      "+   ]\n",
      "+  },\n",
      "+  {\n",
      "+   \"cell_type\": \"markdown\",\n",
      "+   \"metadata\": {\n",
      "+    \"slideshow\": {\n",
      "+     \"slide_type\": \"slide\"\n",
      "+    }\n",
      "+   },\n",
      "+   \"source\": [\n",
      "     \"## GitHub\\n\",\n",
      "     \"\\n\",\n",
      "     \"- Service web utilisant Git comme gestionnaire de version. \\n\",\n",
      "-    \"- Github permet d'enregistrer et partager toutes les étapes de développement d'un logiciel ou de la rédaction d'un document au format texte au cours du temps. A tout moment vous pouvez revenir à une précedente version, l'ensemble de l'historique est toujours préservé. \\n\",\n",
      "-    \"- Github permet d'organiser un travail collaboratif avec différents niveaux d'accès, la gestion des bugs et hébergement de la documentation.\\n\",\n",
      "-    \"- Github est la plus grande bibliothèque de codes du monde.\\n\",\n",
      "+    \"- Github permet de collaborer toutes les étapes de développement d'un logiciel ou de la rédaction d'un document au format texte au cours du temps.\\n\",\n",
      "+    \"- Github permet d'organiser cette collaboration avec différents niveaux d'accès, la gestion des bugs et l'hébergement de la documentation.\\n\",\n",
      "+    \"- Github est la plus grande bibliothèque de codes du monde et on y retrouve les meilleures développeurs.\\n\",\n",
      "     \"- Fonctionne de plus en plus comme un réseau social et offre une grande visibilité à vos travaux.\\n\",\n",
      "     \"\\n\",\n",
      "+    \"Services équivalents: [Gitlab.com](https://about.gitlab.com) et [Bitbucket](https://bitbucket.org)\"\n",
      "+   ]\n",
      "+  },\n",
      "+  {\n",
      "+   \"cell_type\": \"markdown\",\n",
      "+   \"metadata\": {\n",
      "+    \"slideshow\": {\n",
      "+     \"slide_type\": \"slide\"\n",
      "+    }\n",
      "+   },\n",
      "+   \"source\": [\n",
      "     \"## Gestion distribuée des versions\\n\",\n",
      "     \"\\n\",\n",
      "     \"<img src=\\\"images/git.png\\\" alt=\\\"git\\\" width=\\\"300px\\\"/>\\n\",\n",
      "@@ -41,11 +68,20 @@\n",
      "     \"- Chaque membre du projet possède une copie totale du projet\\n\",\n",
      "     \"- On peut contribuer seul ou à plusieurs.\\n\",\n",
      "     \"- Pas besoin de connexion réseau\\n\",\n",
      "-    \"- Les sauvegardes sont très nombreuses grâce à ce système.\\n\",\n",
      "-    \"\\n\",\n",
      "+    \"- Les sauvegardes sont très nombreuses grâce à ce système.\"\n",
      "+   ]\n",
      "+  },\n",
      "+  {\n",
      "+   \"cell_type\": \"markdown\",\n",
      "+   \"metadata\": {\n",
      "+    \"slideshow\": {\n",
      "+     \"slide_type\": \"slide\"\n",
      "+    }\n",
      "+   },\n",
      "+   \"source\": [\n",
      "     \"## Installation et configuration\\n\",\n",
      "     \"\\n\",\n",
      "-    \"- Télécharger et installer [Git pour windows](http://git-scm.com).\\n\",\n",
      "+    \"- Télécharger et installer [Git](http://git-scm.com).\\n\",\n",
      "     \"- Configuration: Il faut renseigner votre identité avec votre adresse de messagerie. \\n\",\n",
      "     \"\\n\",\n",
      "     \"Ouvrir la console « Git bash »:\\n\",\n",
      "@@ -66,7 +102,7 @@\n",
      "    \"source\": [\n",
      "     \"## Créer sa clé SSH\\n\",\n",
      "     \"\\n\",\n",
      "-    \"Saisissez la ligne suivante dasn le git bash:\\n\",\n",
      "+    \"Saisissez la ligne suivante dans le git bash:\\n\",\n",
      "     \"\\n\",\n",
      "     \"```bash\\n\",\n",
      "     \"ssh-keygen\\n\",\n",
      "@@ -83,7 +119,7 @@\n",
      "     \"Enter passphrase (empty for no passphrase):\\n\",\n",
      "     \"```\\n\",\n",
      "     \"\\n\",\n",
      "-    \"Appuyer sur \\\"enter\\\" (conseillé) ou saisir un mot de passe.  Deux fichiers on été créés : un clé publique et une clé privée. La clé publique sera celle que l'on pourra partager et la clé privée ne doit être communiquée sous aucun prétexte, elle est comme un mot de passe. Si vous la perder vous devrez recommencer la procédure.\\n\"\n",
      "+    \"Appuyer sur \\\"enter\\\" (conseillé) ou saisir un mot de passe.  Deux fichiers on été créés : un clé publique et une clé privée. La clé publique sera celle que l'on pourra partager et la clé privée ne doit être communiquée sous aucun prétexte, elle est comme un mot de passe. Si vous la perdez vous devrez recommencer la procédure.\\n\"\n",
      "    ]\n",
      "   },\n",
      "   {\n",
      "@@ -168,7 +204,7 @@\n",
      "   },\n",
      "   {\n",
      "    \"cell_type\": \"code\",\n",
      "-   \"execution_count\": 1,\n",
      "+   \"execution_count\": 2,\n",
      "    \"metadata\": {\n",
      "     \"slideshow\": {\n",
      "      \"slide_type\": \"fragment\"\n",
      "@@ -187,11 +223,16 @@\n",
      "       \"  (use \\\"git restore <file>...\\\" to discard changes in working directory)\\n\",\n",
      "       \"\\tmodified:   02-gitbasics.ipynb\\n\",\n",
      "       \"\\n\",\n",
      "+      \"Untracked files:\\n\",\n",
      "+      \"  (use \\\"git add <file>...\\\" to include in what will be committed)\\n\",\n",
      "+      \"\\t../Dockerfile\\n\",\n",
      "+      \"\\n\",\n",
      "       \"no changes added to commit (use \\\"git add\\\" and/or \\\"git commit -a\\\")\\n\"\n",
      "      ]\n",
      "     }\n",
      "    ],\n",
      "    \"source\": [\n",
      "+    \"%%bash\\n\",\n",
      "     \"git status\"\n",
      "    ]\n",
      "   },\n",
      "@@ -203,7 +244,7 @@\n",
      "     }\n",
      "    },\n",
      "    \"source\": [\n",
      "-    \"## Ajouter le fichier dans l'index\\n\",\n",
      "+    \"## Ajouter un fichier dans l'index\\n\",\n",
      "     \"\\n\",\n",
      "     \"```bash\\n\",\n",
      "     \"git add your_notebook_copy.ipynb\\n\",\n",
      "@@ -212,21 +253,6 @@\n",
      "     \"Cette commande est nécessaire pour un nouveau fichier mais aussi pour un fichier qui a été modifié.\"\n",
      "    ]\n",
      "   },\n",
      "-  {\n",
      "-   \"cell_type\": \"markdown\",\n",
      "-   \"metadata\": {\n",
      "-    \"slideshow\": {\n",
      "-     \"slide_type\": \"fragment\"\n",
      "-    }\n",
      "-   },\n",
      "-   \"source\": [\n",
      "-    \"## Verification avant validation\\n\",\n",
      "-    \"\\n\",\n",
      "-    \"```bash\\n\",\n",
      "-    \"git status\\n\",\n",
      "-    \"```\"\n",
      "-   ]\n",
      "-  },\n",
      "   {\n",
      "    \"cell_type\": \"markdown\",\n",
      "    \"metadata\": {\n",
      "@@ -333,26 +359,92 @@\n",
      "   },\n",
      "   {\n",
      "    \"cell_type\": \"markdown\",\n",
      "-   \"metadata\": {},\n",
      "+   \"metadata\": {\n",
      "+    \"slideshow\": {\n",
      "+     \"slide_type\": \"slide\"\n",
      "+    }\n",
      "+   },\n",
      "    \"source\": [\n",
      "     \"## Prise en main\\n\",\n",
      "     \"\\n\",\n",
      "     \"### Configuration\\n\",\n",
      "     \"\\n\",\n",
      "     \"```bash\\n\",\n",
      "-    \"$ git config --global user.name \\\"Pierre Navaro\\\"\\n\",\n",
      "-    \"$ git config --global user.email \\\"pierre.navaro@univ-rennes1.fr\\\"\\n\",\n",
      "-    \"```\\n\",\n",
      "-    \"\\n\",\n",
      "-    \"Utiliser la même adresse qu pour votre compte GitHub. Verifier la configuration avec:\\n\",\n",
      "-    \"\\n\",\n",
      "-    \"\\n\",\n",
      "-    \"```bash\\n\",\n",
      "-    \"$ git config --list\\n\",\n",
      "-    \"```\\n\",\n",
      "-    \"\\n\",\n",
      "-    \"Settings are saved on the computer for all your git repositories.\\n\",\n",
      "-    \"\\n\",\n",
      "+    \"git config --global user.name \\\"Prenom Nom\\\"\\n\",\n",
      "+    \"git config --global user.email \\\"prenom.nom@univ-rennes1.fr\\\"\\n\",\n",
      "+    \"```\"\n",
      "+   ]\n",
      "+  },\n",
      "+  {\n",
      "+   \"cell_type\": \"markdown\",\n",
      "+   \"metadata\": {\n",
      "+    \"slideshow\": {\n",
      "+     \"slide_type\": \"fragment\"\n",
      "+    }\n",
      "+   },\n",
      "+   \"source\": [\n",
      "+    \"Utiliser la même adresse que pour votre compte GitHub. Verifier la configuration avec:\"\n",
      "+   ]\n",
      "+  },\n",
      "+  {\n",
      "+   \"cell_type\": \"code\",\n",
      "+   \"execution_count\": 3,\n",
      "+   \"metadata\": {\n",
      "+    \"slideshow\": {\n",
      "+     \"slide_type\": \"fragment\"\n",
      "+    }\n",
      "+   },\n",
      "+   \"outputs\": [\n",
      "+    {\n",
      "+     \"name\": \"stdout\",\n",
      "+     \"output_type\": \"stream\",\n",
      "+     \"text\": [\n",
      "+      \"credential.helper=osxkeychain\\n\",\n",
      "+      \"filter.lfs.clean=git-lfs clean -- %f\\n\",\n",
      "+      \"filter.lfs.smudge=git-lfs smudge -- %f\\n\",\n",
      "+      \"filter.lfs.process=git-lfs filter-process\\n\",\n",
      "+      \"filter.lfs.required=true\\n\",\n",
      "+      \"filter.media.required=true\\n\",\n",
      "+      \"filter.media.clean=git media clean %f\\n\",\n",
      "+      \"filter.media.smudge=git media smudge %f\\n\",\n",
      "+      \"user.name=Pierre Navaro\\n\",\n",
      "+      \"user.email=navaro@math.cnrs.fr\\n\",\n",
      "+      \"filter.hawser.clean=git hawser clean %f\\n\",\n",
      "+      \"filter.hawser.smudge=git hawser smudge %f\\n\",\n",
      "+      \"filter.hawser.required=true\\n\",\n",
      "+      \"filter.lfs.clean=git-lfs clean -- %f\\n\",\n",
      "+      \"filter.lfs.smudge=git-lfs smudge -- %f\\n\",\n",
      "+      \"filter.lfs.process=git-lfs filter-process\\n\",\n",
      "+      \"filter.lfs.required=true\\n\",\n",
      "+      \"github.user=pnavaro\\n\",\n",
      "+      \"core.repositoryformatversion=0\\n\",\n",
      "+      \"core.filemode=true\\n\",\n",
      "+      \"core.bare=false\\n\",\n",
      "+      \"core.logallrefupdates=true\\n\",\n",
      "+      \"core.ignorecase=true\\n\",\n",
      "+      \"core.precomposeunicode=true\\n\",\n",
      "+      \"user.name=Pierre Navaro\\n\",\n",
      "+      \"user.email=pierre.navaro@univ-rennes1.fr\\n\",\n",
      "+      \"remote.origin.url=git@gitlab.math.unistra.fr:navaro/agrocampus.git\\n\",\n",
      "+      \"remote.origin.fetch=+refs/heads/*:refs/remotes/origin/*\\n\",\n",
      "+      \"branch.master.remote=origin\\n\",\n",
      "+      \"branch.master.merge=refs/heads/master\\n\"\n",
      "+     ]\n",
      "+    }\n",
      "+   ],\n",
      "+   \"source\": [\n",
      "+    \"%%bash\\n\",\n",
      "+    \"git config --list\"\n",
      "+   ]\n",
      "+  },\n",
      "+  {\n",
      "+   \"cell_type\": \"markdown\",\n",
      "+   \"metadata\": {\n",
      "+    \"slideshow\": {\n",
      "+     \"slide_type\": \"slide\"\n",
      "+    }\n",
      "+   },\n",
      "+   \"source\": [\n",
      "     \"## Mettre en place git sur un répertoire existant\\n\",\n",
      "     \"\\n\",\n",
      "     \"Imaginons un article avec deux fichiers:\\n\",\n",
      "@@ -376,8 +468,17 @@\n",
      "     \"\\n\",\n",
      "     \"\\tnothing added to commit but untracked files present\\n\",\n",
      "     \"\\t(use \\\"git add\\\" to track)\\n\",\n",
      "-    \"```\\n\",\n",
      "-    \"\\n\",\n",
      "+    \"```\"\n",
      "+   ]\n",
      "+  },\n",
      "+  {\n",
      "+   \"cell_type\": \"markdown\",\n",
      "+   \"metadata\": {\n",
      "+    \"slideshow\": {\n",
      "+     \"slide_type\": \"slide\"\n",
      "+    }\n",
      "+   },\n",
      "+   \"source\": [\n",
      "     \"## Ajouter les fichiers au dépôt git\\n\",\n",
      "     \"\\n\",\n",
      "     \"```\\n\",\n",
      "@@ -397,9 +498,17 @@\n",
      "     \" \\t2 files changed, 0 insertions(+), 0 deletions(-)\\n\",\n",
      "     \" \\tcreate mode 100644 document.tex\\n\",\n",
      "     \" \\tcreate mode 100644 figure.png\\n\",\n",
      "-    \"```\\n\",\n",
      "-    \"\\n\",\n",
      "-    \"\\n\",\n",
      "+    \"```\"\n",
      "+   ]\n",
      "+  },\n",
      "+  {\n",
      "+   \"cell_type\": \"markdown\",\n",
      "+   \"metadata\": {\n",
      "+    \"slideshow\": {\n",
      "+     \"slide_type\": \"slide\"\n",
      "+    }\n",
      "+   },\n",
      "+   \"source\": [\n",
      "     \"## `Add`  et `commit` \\n\",\n",
      "     \"\\n\",\n",
      "     \"```bash\\n\",\n",
      "@@ -423,8 +532,17 @@\n",
      "     \"\\tOn branch master\\n\",\n",
      "     \"\\tYour branch is ahead of 'origin/master' by 1 commit.\\n\",\n",
      "     \"  \\t(use \\\"git push\\\" to publish your local commits)\\n\",\n",
      "-    \"```\\n\",\n",
      "-    \"\\n\",\n",
      "+    \"```\"\n",
      "+   ]\n",
      "+  },\n",
      "+  {\n",
      "+   \"cell_type\": \"markdown\",\n",
      "+   \"metadata\": {\n",
      "+    \"slideshow\": {\n",
      "+     \"slide_type\": \"slide\"\n",
      "+    }\n",
      "+   },\n",
      "+   \"source\": [\n",
      "     \"## \\\"Push\\\"\\n\",\n",
      "     \"\\n\",\n",
      "     \"par défaut vous êtes sur la branche \\\"master\\\"\\n\",\n",
      "@@ -441,279 +559,1261 @@\n",
      "     \"\\t...\\n\",\n",
      "     \"\\tTo https://github.com/pnavaro/irmar-git-project\\n\",\n",
      "     \"   \\t\\tae2ce3c..ed796ea  master -> master\\n\",\n",
      "-    \"```\\n\",\n",
      "-    \"\\n\",\n",
      "-    \"# Git Workflow\\n\",\n",
      "-    \"![4-stages](images/four_stages.png){width=30%}\\n\",\n",
      "-    \"\\n\",\n",
      "-    \"# Cloning an Existing Directory\\n\",\n",
      "-    \"Now i change my computer.\\n\",\n",
      "-    \"\\n\",\n",
      "-    \"```\\n\",\n",
      "-    \"$ git clone git@github.com:pnavaro/irmar-git-project.git\\n\",\n",
      "-    \"\\tCloning into 'irmar-git-project'...\\n\",\n",
      "-    \"$ cd irmar-git-project\\n\",\n",
      "-    \"$ git log\\n\",\n",
      "-    \"\\tcommit ed796ea1cbd15c8f7ec040b303c950569527012c (HEAD -> master, origin/master, origin/HEAD)\\n\",\n",
      "-    \"\\tAuthor: Pierre Navaro <pierre.navaro@univ-rennes1.fr>\\n\",\n",
      "-    \"\\tDate:   Thu Apr 19 13:26:01 2018 +0200\\n\",\n",
      "-    \"\\n\",\n",
      "-    \"    \\tAdd my contribution to the project\\n\",\n",
      "-    \"```\\n\",\n",
      "-    \"\\n\",\n",
      "-    \"# Display and Create a Branch\\n\",\n",
      "-    \"\\n\",\n",
      "-    \"Display all branches :\\n\",\n",
      "-    \"\\n\",\n",
      "-    \"```\\n\",\n",
      "-    \"$ git branch -a\\n\",\n",
      "-    \"\\t* master\\n\",\n",
      "-    \"  \\t\\tremotes/origin/HEAD -> origin/master\\n\",\n",
      "-    \"  \\t\\tremotes/origin/master\\n\",\n",
      "-    \"```\\n\",\n",
      "-    \"\\n\",\n",
      "-    \"Create your own branch and switch:\\n\",\n",
      "-    \"\\n\",\n",
      "-    \"```\\n\",\n",
      "-    \"$ git branch pierre-branch\\n\",\n",
      "-    \"$ git checkout pierre-branch\\n\",\n",
      "-    \"```\\n\",\n",
      "-    \"\\n\",\n",
      "-    \"Switched to branch 'pierre-branch'\\n\",\n",
      "-    \"\\n\",\n",
      "-    \"```\\n\",\n",
      "-    \"$ git branch\\n\",\n",
      "-    \"  \\tmaster\\n\",\n",
      "-    \"\\t* pierre-branch\\n\",\n",
      "-    \"```\\n\",\n",
      "-    \"\\n\",\n",
      "-    \"Files could be different or non existant between branches but are at the same place on the file system\\n\",\n",
      "-    \"\\n\",\n",
      "-    \"\\n\",\n",
      "-    \"# Contributing\\n\",\n",
      "-    \"\\n\",\n",
      "-    \"Modify the file document.tex\\n\",\n",
      "-    \"\\n\",\n",
      "-    \"```\\n\",\n",
      "-    \"$ git status\\n\",\n",
      "-    \"\\tOn branch pierre-branch\\n\",\n",
      "-    \"\\tChanges not staged for commit:\\n\",\n",
      "-    \" \\t (use \\\"git add <file>...\\\" to update what will be committed)\\n\",\n",
      "-    \" \\t (use \\\"git checkout -- <file>...\\\" to discard changes in working directory)\\n\",\n",
      "-    \"\\t\\tmodified:   document.tex\\n\",\n",
      "-    \"\\tno changes added to commit (use \\\"git add\\\" and/or \\\"git commit -a\\\")\\n\",\n",
      "-    \"\\n\",\n",
      "-    \"$ git diff\\n\",\n",
      "-    \"\\tdiff --git a/document.tex b/document.tex\\n\",\n",
      "-    \"\\tindex a608114..e69de29 100644\\n\",\n",
      "-    \"\\t--- a/document.tex\\n\",\n",
      "-    \"\\t+++ b/document.tex\\n\",\n",
      "-    \"\\t@@ -1,3 +0,0 @@\\n\",\n",
      "-    \"\\t-Exemple Git pour la journee de rentree\\n\",\n",
      "-    \"```\\n\",\n",
      "-    \"\\n\",\n",
      "-    \"# Locally saving your modifications\\n\",\n",
      "-    \"\\n\",\n",
      "-    \"```\\n\",\n",
      "-    \"$ git add document.tex\\n\",\n",
      "-    \"```\\n\",\n",
      "-    \"Checking which files are ready to be committed.\\n\",\n",
      "-    \"\\n\",\n",
      "-    \"```\\n\",\n",
      "-    \"$ git status\\n\",\n",
      "-    \"On branch pierre-branch\\n\",\n",
      "-    \"Changes to be committed:\\n\",\n",
      "-    \"  (use \\\"git reset HEAD <file>...\\\" to unstage)\\n\",\n",
      "-    \"\\tmodified:   document.tex\\n\",\n",
      "-    \"```\\n\",\n",
      "-    \"Now save your work, the branch is local.\\n\",\n",
      "-    \"\\n\",\n",
      "-    \"```\\n\",\n",
      "-    \"$ git commit -m 'Some modifications'\\n\",\n",
      "-    \"[pierre-branch 8c6bf81] Some modification is available\\n\",\n",
      "-    \" 1 file changed, 3 insertions(+)\\n\",\n",
      "-    \"```\\n\",\n",
      "-    \"\\n\",\n",
      "-    \"# Fast commit\\n\",\n",
      "-    \"\\n\",\n",
      "-    \"![index1](images/index1.png){width=50%}\\n\",\n",
      "-    \"![index2](images/index2.png){width=50%}\\n\",\n",
      "-    \"\\n\",\n",
      "-    \"Use it carefully!\\n\",\n",
      "-    \"\\n\",\n",
      "-    \"# Share your work and make it available on the server\\n\",\n",
      "-    \"\\n\",\n",
      "-    \"## Option 1 : Merge to the main branch and push\\n\",\n",
      "-    \"\\n\",\n",
      "-    \"```\\n\",\n",
      "-    \"$ git checkout master\\n\",\n",
      "-    \"\\n\",\n",
      "-    \"\\tSwitched to branch 'master'\\n\",\n",
      "-    \"\\tYour branch is up-to-date with 'origin/master'.\\n\",\n",
      "-    \"\\n\",\n",
      "-    \"$ git merge pierre-branch\\n\",\n",
      "-    \"\\n\",\n",
      "-    \"\\tUpdating 7cef21a..8c6bf81\\n\",\n",
      "-    \"\\tFast-forward\\n\",\n",
      "-    \" \\tdocument.tex | 3 +++\\n\",\n",
      "-    \" \\t1 file changed, 3 insertions(+)\\n\",\n",
      "-    \"\\n\",\n",
      "-    \"$ git push origin master\\n\",\n",
      "-    \"\\n\",\n",
      "-    \"\\tCounting objects: 3, done.\\n\",\n",
      "-    \"\\t...\\n\",\n",
      "-    \"```\\n\",\n",
      "-    \"\\n\",\n",
      "-    \"# Share your work and make it available on the server\\n\",\n",
      "-    \"\\n\",\n",
      "-    \"## Option 2 : Push your branch to the server\\n\",\n",
      "-    \"\\n\",\n",
      "-    \"```\\n\",\n",
      "-    \"$ git checkout pierre-branch\\n\",\n",
      "-    \"\\n\",\n",
      "-    \"\\tSwitched to branch 'pierre-branch'\\n\",\n",
      "-    \"\\n\",\n",
      "-    \"$ git push origin pierre-branch\\n\",\n",
      "-    \"\\n\",\n",
      "-    \"$ git branch -a\\n\",\n",
      "-    \"  \\tmaster\\n\",\n",
      "-    \"\\t* pierre-branch\\n\",\n",
      "-    \"  \\tremotes/origin/HEAD -> origin/master\\n\",\n",
      "-    \"  \\tremotes/origin/master\\n\",\n",
      "-    \"  \\tremotes/origin/pierre-branch\\n\",\n",
      "-    \"```\\n\",\n",
      "-    \"\\n\",\n",
      "-    \"# Updating from the Repository\\n\",\n",
      "-    \"\\n\",\n",
      "-    \"The master branch has changed. To get all new updates :\\n\",\n",
      "-    \"\\n\",\n",
      "-    \"```git\\n\",\n",
      "-    \"$ git checkout master\\n\",\n",
      "-    \"\\tSwitched to branch 'master'\\n\",\n",
      "-    \"\\n\",\n",
      "-    \"$ git fetch origin\\n\",\n",
      "-    \"\\tdownload changes from repository\\n\",\n",
      "-    \"\\n\",\n",
      "-    \"$ git merge origin/master\\n\",\n",
      "-    \"\\tupdate local branch master\\n\",\n",
      "-    \"\\n\",\n",
      "-    \"$ git checkout pierre-branch\\n\",\n",
      "-    \"\\tSwitched to branch 'pierre-branch'\\n\",\n",
      "-    \"\\n\",\n",
      "-    \"$ git merge master\\n\",\n",
      "-    \"\\tupdate your branch\\n\",\n",
      "-    \"```\\n\",\n",
      "-    \"If you did not push your branch, use `rebase` instead of `merge`\\n\",\n",
      "-    \"\\n\",\n",
      "-    \"# Merge conflicts\\n\",\n",
      "-    \"\\n\",\n",
      "-    \"If you have conflict, no problem just do :\\n\",\n",
      "-    \"\\n\",\n",
      "-    \"```\\n\",\n",
      "-    \"$ git mergetool\\n\",\n",
      "-    \"```\\n\",\n",
      "-    \"\\n\",\n",
      "-    \"A nice editor helps you to choose the right version. Close and :\\n\",\n",
      "-    \"\\n\",\n",
      "-    \"```\\n\",\n",
      "-    \"$ git commit -m 'Update and fixed conflicts'\\n\",\n",
      "-    \"```\\n\",\n",
      "-    \"\\n\",\n",
      "-    \"# Git cycle on a single branch\\n\",\n",
      "-    \"\\n\",\n",
      "-    \"![Cycle](images/git_cycle.png){width=50%}\\n\",\n",
      "-    \"\\n\",\n",
      "-    \"\\n\",\n",
      "-    \"# Progressive-stability branching\\n\",\n",
      "-    \"\\n\",\n",
      "-    \"![Branches](images/lr-branches-2.png){width=50%}\\n\",\n",
      "-    \"\\n\",\n",
      "-    \"# Stash\\n\",\n",
      "-    \"Use itwhen you want to record the current state of the working directory and the index.\\n\",\n",
      "-    \"\\n\",\n",
      "-    \"- Modify a file in the repository and save it with\\n\",\n",
      "-    \"\\n\",\n",
      "-    \"```\\n\",\n",
      "-    \"$ git stash\\n\",\n",
      "-    \"```\\n\",\n",
      "-    \"- You can display saved changes with\\n\",\n",
      "-    \"\\n\",\n",
      "-    \"```\\n\",\n",
      "-    \"$ git stash show\\n\",\n",
      "-    \"```\\n\",\n",
      "-    \"\\n\",\n",
      "-    \"- Apply the modifications with\\n\",\n",
      "-    \"\\n\",\n",
      "-    \"```\\n\",\n",
      "-    \"git stash pop (or apply)\\n\",\n",
      "-    \"```\\n\",\n",
      "-    \"\\n\",\n",
      "-    \"or drop them with\\n\",\n",
      "-    \"\\n\",\n",
      "-    \"```\\n\",\n",
      "-    \"$ git stash drop\\n\",\n",
      "-    \"```\\n\",\n",
      "-    \"\\n\",\n",
      "-    \"\\n\",\n",
      "-    \"\\n\",\n",
      "-    \"# Why Git?\\n\",\n",
      "-    \"\\n\",\n",
      "-    \"- Tracking and controlling changes in the software.\\n\",\n",
      "-    \"- Branches : Frictionless Context Switching, Role-Based Codelines.\\n\",\n",
      "-    \"- Everything is local : Git is fast.\\n\",\n",
      "-    \"- Multiple Backups.\\n\",\n",
      "-    \"- It's impossible to get anything out of Git other than the exact bits you put in.\\n\",\n",
      "-    \"- Staging Area : intermediate index between working directory and repository.\\n\",\n",
      "-    \"- Pull-request is a nice feature for code reviewing and protect the stable branch.\\n\",\n",
      "-    \"\\n\",\n",
      "-    \"# Why not\\n\",\n",
      "-    \"\\n\",\n",
      "-    \"- Sometimes confusing for new users coming from CVS or subversion.\\n\",\n",
      "-    \"- Crazy command line syntax.\\n\",\n",
      "-    \"- Simple tasks need many commands.\\n\",\n",
      "-    \"- Git history is often strange.\\n\",\n",
      "-    \"- It is possible to destroy the repository on the remote server.\\n\",\n",
      "-    \"- Power for the maintainer, at the expense of the contributor.\\n\",\n",
      "-    \"\\n\",\n",
      "-    \"\\n\",\n",
      "-    \"# Some useful commands\\n\",\n",
      "-    \"\\n\",\n",
      "-    \"- Showing which files have changed between git branches\\n\",\n",
      "+    \"```\"\n",
      "+   ]\n",
      "+  },\n",
      "+  {\n",
      "+   \"cell_type\": \"markdown\",\n",
      "+   \"metadata\": {\n",
      "+    \"slideshow\": {\n",
      "+     \"slide_type\": \"slide\"\n",
      "+    }\n",
      "+   },\n",
      "+   \"source\": [\n",
      "+    \"## Git Workflow\\n\",\n",
      "+    \"![4-stages](images/four_stages.png){width=10%}\"\n",
      "+   ]\n",
      "+  },\n",
      "+  {\n",
      "+   \"cell_type\": \"markdown\",\n",
      "+   \"metadata\": {\n",
      "+    \"slideshow\": {\n",
      "+     \"slide_type\": \"slide\"\n",
      "+    }\n",
      "+   },\n",
      "+   \"source\": [\n",
      "+    \"## Afficher les branches\"\n",
      "+   ]\n",
      "+  },\n",
      "+  {\n",
      "+   \"cell_type\": \"code\",\n",
      "+   \"execution_count\": 4,\n",
      "+   \"metadata\": {\n",
      "+    \"slideshow\": {\n",
      "+     \"slide_type\": \"fragment\"\n",
      "+    }\n",
      "+   },\n",
      "+   \"outputs\": [\n",
      "+    {\n",
      "+     \"name\": \"stdout\",\n",
      "+     \"output_type\": \"stream\",\n",
      "+     \"text\": [\n",
      "+      \"* master\\n\",\n",
      "+      \"  remotes/origin/master\\n\"\n",
      "+     ]\n",
      "+    }\n",
      "+   ],\n",
      "+   \"source\": [\n",
      "+    \"%%bash\\n\",\n",
      "+    \"git branch -a\"\n",
      "+   ]\n",
      "+  },\n",
      "+  {\n",
      "+   \"cell_type\": \"code\",\n",
      "+   \"execution_count\": null,\n",
      "+   \"metadata\": {},\n",
      "+   \"outputs\": [],\n",
      "+   \"source\": []\n",
      "+  },\n",
      "+  {\n",
      "+   \"cell_type\": \"markdown\",\n",
      "+   \"metadata\": {\n",
      "+    \"slideshow\": {\n",
      "+     \"slide_type\": \"slide\"\n",
      "+    }\n",
      "+   },\n",
      "+   \"source\": [\n",
      "+    \"## Créer une branche\"\n",
      "+   ]\n",
      "+  },\n",
      "+  {\n",
      "+   \"cell_type\": \"code\",\n",
      "+   \"execution_count\": 5,\n",
      "+   \"metadata\": {\n",
      "+    \"slideshow\": {\n",
      "+     \"slide_type\": \"fragment\"\n",
      "+    }\n",
      "+   },\n",
      "+   \"outputs\": [\n",
      "+    {\n",
      "+     \"name\": \"stdout\",\n",
      "+     \"output_type\": \"stream\",\n",
      "+     \"text\": [\n",
      "+      \"M\\tnotebooks/02-gitbasics.ipynb\\n\"\n",
      "+     ]\n",
      "+    },\n",
      "+    {\n",
      "+     \"name\": \"stderr\",\n",
      "+     \"output_type\": \"stream\",\n",
      "+     \"text\": [\n",
      "+      \"Switched to branch 'mabranche'\\n\"\n",
      "+     ]\n",
      "+    }\n",
      "+   ],\n",
      "+   \"source\": [\n",
      "+    \"%%bash\\n\",\n",
      "+    \"git branch mabranche\\n\",\n",
      "+    \"git checkout mabranche\"\n",
      "+   ]\n",
      "+  },\n",
      "+  {\n",
      "+   \"cell_type\": \"code\",\n",
      "+   \"execution_count\": 6,\n",
      "+   \"metadata\": {\n",
      "+    \"slideshow\": {\n",
      "+     \"slide_type\": \"fragment\"\n",
      "+    }\n",
      "+   },\n",
      "+   \"outputs\": [\n",
      "+    {\n",
      "+     \"name\": \"stdout\",\n",
      "+     \"output_type\": \"stream\",\n",
      "+     \"text\": [\n",
      "+      \"* mabranche\\n\",\n",
      "+      \"  master\\n\"\n",
      "+     ]\n",
      "+    }\n",
      "+   ],\n",
      "+   \"source\": [\n",
      "+    \"%%bash\\n\",\n",
      "+    \"git branch\"\n",
      "+   ]\n",
      "+  },\n",
      "+  {\n",
      "+   \"cell_type\": \"markdown\",\n",
      "+   \"metadata\": {\n",
      "+    \"slideshow\": {\n",
      "+     \"slide_type\": \"fragment\"\n",
      "+    }\n",
      "+   },\n",
      "+   \"source\": [\n",
      "+    \"Des fichiers peuvent être différents ou meme inexsitants dans deux branches distinctes mais ils se trouveront au même endroit dans le système de fichiers.\"\n",
      "+   ]\n",
      "+  },\n",
      "+  {\n",
      "+   \"cell_type\": \"markdown\",\n",
      "+   \"metadata\": {\n",
      "+    \"slideshow\": {\n",
      "+     \"slide_type\": \"slide\"\n",
      "+    }\n",
      "+   },\n",
      "+   \"source\": [\n",
      "+    \"## Modifier un fichier\"\n",
      "+   ]\n",
      "+  },\n",
      "+  {\n",
      "+   \"cell_type\": \"code\",\n",
      "+   \"execution_count\": 7,\n",
      "+   \"metadata\": {\n",
      "+    \"slideshow\": {\n",
      "+     \"slide_type\": \"slide\"\n",
      "+    }\n",
      "+   },\n",
      "+   \"outputs\": [\n",
      "+    {\n",
      "+     \"name\": \"stdout\",\n",
      "+     \"output_type\": \"stream\",\n",
      "+     \"text\": [\n",
      "+      \"On branch mabranche\\n\",\n",
      "+      \"Changes not staged for commit:\\n\",\n",
      "+      \"  (use \\\"git add <file>...\\\" to update what will be committed)\\n\",\n",
      "+      \"  (use \\\"git restore <file>...\\\" to discard changes in working directory)\\n\",\n",
      "+      \"\\tmodified:   02-gitbasics.ipynb\\n\",\n",
      "+      \"\\n\",\n",
      "+      \"Untracked files:\\n\",\n",
      "+      \"  (use \\\"git add <file>...\\\" to include in what will be committed)\\n\",\n",
      "+      \"\\t../Dockerfile\\n\",\n",
      "+      \"\\n\",\n",
      "+      \"no changes added to commit (use \\\"git add\\\" and/or \\\"git commit -a\\\")\\n\"\n",
      "+     ]\n",
      "+    }\n",
      "+   ],\n",
      "+   \"source\": [\n",
      "+    \"%%bash\\n\",\n",
      "+    \"git status\"\n",
      "+   ]\n",
      "+  },\n",
      "+  {\n",
      "+   \"cell_type\": \"code\",\n",
      "+   \"execution_count\": 8,\n",
      "+   \"metadata\": {\n",
      "+    \"slideshow\": {\n",
      "+     \"slide_type\": \"slide\"\n",
      "+    }\n",
      "+   },\n",
      "+   \"outputs\": [\n",
      "+    {\n",
      "+     \"name\": \"stdout\",\n",
      "+     \"output_type\": \"stream\",\n",
      "+     \"text\": [\n",
      "+      \"diff --git a/notebooks/02-gitbasics.ipynb b/notebooks/02-gitbasics.ipynb\\n\",\n",
      "+      \"index 20681de..55e9ee9 100644\\n\",\n",
      "+      \"--- a/notebooks/02-gitbasics.ipynb\\n\",\n",
      "+      \"+++ b/notebooks/02-gitbasics.ipynb\\n\",\n",
      "+      \"@@ -14,26 +14,53 @@\\n\",\n",
      "+      \"     \\\"\\\\n\\\",\\n\",\n",
      "+      \"     \\\"Site officiel https://git-scm.com\\\\n\\\",\\n\",\n",
      "+      \"     \\\"\\\\n\\\",\\n\",\n",
      "+      \"-    \\\"Le livre en français https://git-scm.com/book/fr/v2\\\\n\\\",\\n\",\n",
      "+      \"-    \\\"\\\\n\\\",\\n\",\n",
      "+      \"-    \\\"Installer [Git](https://git-scm.com/downloads) sur votre ordinateur\\\\n\\\",\\n\",\n",
      "+      \"-    \\\"\\\\n\\\",\\n\",\n",
      "+      \"+    \\\"Le livre en français https://git-scm.com/book/fr/v2\\\\n\\\"\\n\",\n",
      "+      \"+   ]\\n\",\n",
      "+      \"+  },\\n\",\n",
      "+      \"+  {\\n\",\n",
      "+      \"+   \\\"cell_type\\\": \\\"markdown\\\",\\n\",\n",
      "+      \"+   \\\"metadata\\\": {\\n\",\n",
      "+      \"+    \\\"slideshow\\\": {\\n\",\n",
      "+      \"+     \\\"slide_type\\\": \\\"slide\\\"\\n\",\n",
      "+      \"+    }\\n\",\n",
      "+      \"+   },\\n\",\n",
      "+      \"+   \\\"source\\\": [\\n\",\n",
      "+      \"     \\\"## Pourquoi un gestionnaire de version\\\\n\\\",\\n\",\n",
      "+      \"     \\\"\\\\n\\\",\\n\",\n",
      "+      \"     \\\"- Toutes les modifications sont enregistrées.\\\\n\\\",\\n\",\n",
      "+      \"     \\\"- A tout moment vous pouvez revenir sur une version précédente.\\\\n\\\",\\n\",\n",
      "+      \"     \\\"- Vous pouvez l'utiliser pour quasiment tous les types de fichier.\\\\n\\\",\\n\",\n",
      "+      \"     \\\"- C'est la meilleure approche pour collaborer sur un document.\\\\n\\\",\\n\",\n",
      "+      \"-    \\\"- Chaque modification est identifiée et datée.\\\\n\\\",\\n\",\n",
      "+      \"-    \\\"\\\\n\\\",\\n\",\n",
      "+      \"+    \\\"- Chaque modification est identifiée et datée.\\\"\\n\",\n",
      "+      \"+   ]\\n\",\n",
      "+      \"+  },\\n\",\n",
      "+      \"+  {\\n\",\n",
      "+      \"+   \\\"cell_type\\\": \\\"markdown\\\",\\n\",\n",
      "+      \"+   \\\"metadata\\\": {\\n\",\n",
      "+      \"+    \\\"slideshow\\\": {\\n\",\n",
      "+      \"+     \\\"slide_type\\\": \\\"slide\\\"\\n\",\n",
      "+      \"+    }\\n\",\n",
      "+      \"+   },\\n\",\n",
      "+      \"+   \\\"source\\\": [\\n\",\n",
      "+      \"     \\\"## GitHub\\\\n\\\",\\n\",\n",
      "+      \"     \\\"\\\\n\\\",\\n\",\n",
      "+      \"     \\\"- Service web utilisant Git comme gestionnaire de version. \\\\n\\\",\\n\",\n",
      "+      \"-    \\\"- Github permet d'enregistrer et partager toutes les étapes de développement d'un logiciel ou de la rédaction d'un document au format texte au cours du temps. A tout moment vous pouvez revenir à une précedente version, l'ensemble de l'historique est toujours préservé. \\\\n\\\",\\n\",\n",
      "+      \"-    \\\"- Github permet d'organiser un travail collaboratif avec différents niveaux d'accès, la gestion des bugs et hébergement de la documentation.\\\\n\\\",\\n\",\n",
      "+      \"-    \\\"- Github est la plus grande bibliothèque de codes du monde.\\\\n\\\",\\n\",\n",
      "+      \"+    \\\"- Github permet de collaborer toutes les étapes de développement d'un logiciel ou de la rédaction d'un document au format texte au cours du temps.\\\\n\\\",\\n\",\n",
      "+      \"+    \\\"- Github permet d'organiser cette collaboration avec différents niveaux d'accès, la gestion des bugs et l'hébergement de la documentation.\\\\n\\\",\\n\",\n",
      "+      \"+    \\\"- Github est la plus grande bibliothèque de codes du monde et on y retrouve les meilleures développeurs.\\\\n\\\",\\n\",\n",
      "+      \"     \\\"- Fonctionne de plus en plus comme un réseau social et offre une grande visibilité à vos travaux.\\\\n\\\",\\n\",\n",
      "+      \"     \\\"\\\\n\\\",\\n\",\n",
      "+      \"+    \\\"Services équivalents: [Gitlab.com](https://about.gitlab.com) et [Bitbucket](https://bitbucket.org)\\\"\\n\",\n",
      "+      \"+   ]\\n\",\n",
      "+      \"+  },\\n\",\n",
      "+      \"+  {\\n\",\n",
      "+      \"+   \\\"cell_type\\\": \\\"markdown\\\",\\n\",\n",
      "+      \"+   \\\"metadata\\\": {\\n\",\n",
      "+      \"+    \\\"slideshow\\\": {\\n\",\n",
      "+      \"+     \\\"slide_type\\\": \\\"slide\\\"\\n\",\n",
      "+      \"+    }\\n\",\n",
      "+      \"+   },\\n\",\n",
      "+      \"+   \\\"source\\\": [\\n\",\n",
      "+      \"     \\\"## Gestion distribuée des versions\\\\n\\\",\\n\",\n",
      "+      \"     \\\"\\\\n\\\",\\n\",\n",
      "+      \"     \\\"<img src=\\\\\\\"images/git.png\\\\\\\" alt=\\\\\\\"git\\\\\\\" width=\\\\\\\"300px\\\\\\\"/>\\\\n\\\",\\n\",\n",
      "+      \"@@ -41,11 +68,20 @@\\n\",\n",
      "+      \"     \\\"- Chaque membre du projet possède une copie totale du projet\\\\n\\\",\\n\",\n",
      "+      \"     \\\"- On peut contribuer seul ou à plusieurs.\\\\n\\\",\\n\",\n",
      "+      \"     \\\"- Pas besoin de connexion réseau\\\\n\\\",\\n\",\n",
      "+      \"-    \\\"- Les sauvegardes sont très nombreuses grâce à ce système.\\\\n\\\",\\n\",\n",
      "+      \"-    \\\"\\\\n\\\",\\n\",\n",
      "+      \"+    \\\"- Les sauvegardes sont très nombreuses grâce à ce système.\\\"\\n\",\n",
      "+      \"+   ]\\n\",\n",
      "+      \"+  },\\n\",\n",
      "+      \"+  {\\n\",\n",
      "+      \"+   \\\"cell_type\\\": \\\"markdown\\\",\\n\",\n",
      "+      \"+   \\\"metadata\\\": {\\n\",\n",
      "+      \"+    \\\"slideshow\\\": {\\n\",\n",
      "+      \"+     \\\"slide_type\\\": \\\"slide\\\"\\n\",\n",
      "+      \"+    }\\n\",\n",
      "+      \"+   },\\n\",\n",
      "+      \"+   \\\"source\\\": [\\n\",\n",
      "+      \"     \\\"## Installation et configuration\\\\n\\\",\\n\",\n",
      "+      \"     \\\"\\\\n\\\",\\n\",\n",
      "+      \"-    \\\"- Télécharger et installer [Git pour windows](http://git-scm.com).\\\\n\\\",\\n\",\n",
      "+      \"+    \\\"- Télécharger et installer [Git](http://git-scm.com).\\\\n\\\",\\n\",\n",
      "+      \"     \\\"- Configuration: Il faut renseigner votre identité avec votre adresse de messagerie. \\\\n\\\",\\n\",\n",
      "+      \"     \\\"\\\\n\\\",\\n\",\n",
      "+      \"     \\\"Ouvrir la console « Git bash »:\\\\n\\\",\\n\",\n",
      "+      \"@@ -66,7 +102,7 @@\\n\",\n",
      "+      \"    \\\"source\\\": [\\n\",\n",
      "+      \"     \\\"## Créer sa clé SSH\\\\n\\\",\\n\",\n",
      "+      \"     \\\"\\\\n\\\",\\n\",\n",
      "+      \"-    \\\"Saisissez la ligne suivante dasn le git bash:\\\\n\\\",\\n\",\n",
      "+      \"+    \\\"Saisissez la ligne suivante dans le git bash:\\\\n\\\",\\n\",\n",
      "+      \"     \\\"\\\\n\\\",\\n\",\n",
      "+      \"     \\\"```bash\\\\n\\\",\\n\",\n",
      "+      \"     \\\"ssh-keygen\\\\n\\\",\\n\",\n",
      "+      \"@@ -83,7 +119,7 @@\\n\",\n",
      "+      \"     \\\"Enter passphrase (empty for no passphrase):\\\\n\\\",\\n\",\n",
      "+      \"     \\\"```\\\\n\\\",\\n\",\n",
      "+      \"     \\\"\\\\n\\\",\\n\",\n",
      "+      \"-    \\\"Appuyer sur \\\\\\\"enter\\\\\\\" (conseillé) ou saisir un mot de passe.  Deux fichiers on été créés : un clé publique et une clé privée. La clé publique sera celle que l'on pourra partager et la clé privée ne doit être communiquée sous aucun prétexte, elle est comme un mot de passe. Si vous la perder vous devrez recommencer la procédure.\\\\n\\\"\\n\",\n",
      "+      \"+    \\\"Appuyer sur \\\\\\\"enter\\\\\\\" (conseillé) ou saisir un mot de passe.  Deux fichiers on été créés : un clé publique et une clé privée. La clé publique sera celle que l'on pourra partager et la clé privée ne doit être communiquée sous aucun prétexte, elle est comme un mot de passe. Si vous la perdez vous devrez recommencer la procédure.\\\\n\\\"\\n\",\n",
      "+      \"    ]\\n\",\n",
      "+      \"   },\\n\",\n",
      "+      \"   {\\n\",\n",
      "+      \"@@ -168,7 +204,7 @@\\n\",\n",
      "+      \"   },\\n\",\n",
      "+      \"   {\\n\",\n",
      "+      \"    \\\"cell_type\\\": \\\"code\\\",\\n\",\n",
      "+      \"-   \\\"execution_count\\\": 1,\\n\",\n",
      "+      \"+   \\\"execution_count\\\": 2,\\n\",\n",
      "+      \"    \\\"metadata\\\": {\\n\",\n",
      "+      \"     \\\"slideshow\\\": {\\n\",\n",
      "+      \"      \\\"slide_type\\\": \\\"fragment\\\"\\n\",\n",
      "+      \"@@ -187,11 +223,16 @@\\n\",\n",
      "+      \"       \\\"  (use \\\\\\\"git restore <file>...\\\\\\\" to discard changes in working directory)\\\\n\\\",\\n\",\n",
      "+      \"       \\\"\\\\tmodified:   02-gitbasics.ipynb\\\\n\\\",\\n\",\n",
      "+      \"       \\\"\\\\n\\\",\\n\",\n",
      "+      \"+      \\\"Untracked files:\\\\n\\\",\\n\",\n",
      "+      \"+      \\\"  (use \\\\\\\"git add <file>...\\\\\\\" to include in what will be committed)\\\\n\\\",\\n\",\n",
      "+      \"+      \\\"\\\\t../Dockerfile\\\\n\\\",\\n\",\n",
      "+      \"+      \\\"\\\\n\\\",\\n\",\n",
      "+      \"       \\\"no changes added to commit (use \\\\\\\"git add\\\\\\\" and/or \\\\\\\"git commit -a\\\\\\\")\\\\n\\\"\\n\",\n",
      "+      \"      ]\\n\",\n",
      "+      \"     }\\n\",\n",
      "+      \"    ],\\n\",\n",
      "+      \"    \\\"source\\\": [\\n\",\n",
      "+      \"+    \\\"%%bash\\\\n\\\",\\n\",\n",
      "+      \"     \\\"git status\\\"\\n\",\n",
      "+      \"    ]\\n\",\n",
      "+      \"   },\\n\",\n",
      "+      \"@@ -203,7 +244,7 @@\\n\",\n",
      "+      \"     }\\n\",\n",
      "+      \"    },\\n\",\n",
      "+      \"    \\\"source\\\": [\\n\",\n",
      "+      \"-    \\\"## Ajouter le fichier dans l'index\\\\n\\\",\\n\",\n",
      "+      \"+    \\\"## Ajouter un fichier dans l'index\\\\n\\\",\\n\",\n",
      "+      \"     \\\"\\\\n\\\",\\n\",\n",
      "+      \"     \\\"```bash\\\\n\\\",\\n\",\n",
      "+      \"     \\\"git add your_notebook_copy.ipynb\\\\n\\\",\\n\",\n",
      "+      \"@@ -212,21 +253,6 @@\\n\",\n",
      "+      \"     \\\"Cette commande est nécessaire pour un nouveau fichier mais aussi pour un fichier qui a été modifié.\\\"\\n\",\n",
      "+      \"    ]\\n\",\n",
      "+      \"   },\\n\",\n",
      "+      \"-  {\\n\",\n",
      "+      \"-   \\\"cell_type\\\": \\\"markdown\\\",\\n\",\n",
      "+      \"-   \\\"metadata\\\": {\\n\",\n",
      "+      \"-    \\\"slideshow\\\": {\\n\",\n",
      "+      \"-     \\\"slide_type\\\": \\\"fragment\\\"\\n\",\n",
      "+      \"-    }\\n\",\n",
      "+      \"-   },\\n\",\n",
      "+      \"-   \\\"source\\\": [\\n\",\n",
      "+      \"-    \\\"## Verification avant validation\\\\n\\\",\\n\",\n",
      "+      \"-    \\\"\\\\n\\\",\\n\",\n",
      "+      \"-    \\\"```bash\\\\n\\\",\\n\",\n",
      "+      \"-    \\\"git status\\\\n\\\",\\n\",\n",
      "+      \"-    \\\"```\\\"\\n\",\n",
      "+      \"-   ]\\n\",\n",
      "+      \"-  },\\n\",\n",
      "+      \"   {\\n\",\n",
      "+      \"    \\\"cell_type\\\": \\\"markdown\\\",\\n\",\n",
      "+      \"    \\\"metadata\\\": {\\n\",\n",
      "+      \"@@ -333,26 +359,92 @@\\n\",\n",
      "+      \"   },\\n\",\n",
      "+      \"   {\\n\",\n",
      "+      \"    \\\"cell_type\\\": \\\"markdown\\\",\\n\",\n",
      "+      \"-   \\\"metadata\\\": {},\\n\",\n",
      "+      \"+   \\\"metadata\\\": {\\n\",\n",
      "+      \"+    \\\"slideshow\\\": {\\n\",\n",
      "+      \"+     \\\"slide_type\\\": \\\"slide\\\"\\n\",\n",
      "+      \"+    }\\n\",\n",
      "+      \"+   },\\n\",\n",
      "+      \"    \\\"source\\\": [\\n\",\n",
      "+      \"     \\\"## Prise en main\\\\n\\\",\\n\",\n",
      "+      \"     \\\"\\\\n\\\",\\n\",\n",
      "+      \"     \\\"### Configuration\\\\n\\\",\\n\",\n",
      "+      \"     \\\"\\\\n\\\",\\n\",\n",
      "+      \"     \\\"```bash\\\\n\\\",\\n\",\n",
      "+      \"-    \\\"$ git config --global user.name \\\\\\\"Pierre Navaro\\\\\\\"\\\\n\\\",\\n\",\n",
      "+      \"-    \\\"$ git config --global user.email \\\\\\\"pierre.navaro@univ-rennes1.fr\\\\\\\"\\\\n\\\",\\n\",\n",
      "+      \"-    \\\"```\\\\n\\\",\\n\",\n",
      "+      \"-    \\\"\\\\n\\\",\\n\",\n",
      "+      \"-    \\\"Utiliser la même adresse qu pour votre compte GitHub. Verifier la configuration avec:\\\\n\\\",\\n\",\n",
      "+      \"-    \\\"\\\\n\\\",\\n\",\n",
      "+      \"-    \\\"\\\\n\\\",\\n\",\n",
      "+      \"-    \\\"```bash\\\\n\\\",\\n\",\n",
      "+      \"-    \\\"$ git config --list\\\\n\\\",\\n\",\n",
      "+      \"-    \\\"```\\\\n\\\",\\n\",\n",
      "+      \"-    \\\"\\\\n\\\",\\n\",\n",
      "+      \"-    \\\"Settings are saved on the computer for all your git repositories.\\\\n\\\",\\n\",\n",
      "+      \"-    \\\"\\\\n\\\",\\n\",\n",
      "+      \"+    \\\"git config --global user.name \\\\\\\"Prenom Nom\\\\\\\"\\\\n\\\",\\n\",\n",
      "+      \"+    \\\"git config --global user.email \\\\\\\"prenom.nom@univ-rennes1.fr\\\\\\\"\\\\n\\\",\\n\",\n",
      "+      \"+    \\\"```\\\"\\n\",\n",
      "+      \"+   ]\\n\",\n",
      "+      \"+  },\\n\",\n",
      "+      \"+  {\\n\",\n",
      "+      \"+   \\\"cell_type\\\": \\\"markdown\\\",\\n\",\n",
      "+      \"+   \\\"metadata\\\": {\\n\",\n",
      "+      \"+    \\\"slideshow\\\": {\\n\",\n",
      "+      \"+     \\\"slide_type\\\": \\\"fragment\\\"\\n\",\n",
      "+      \"+    }\\n\",\n",
      "+      \"+   },\\n\",\n",
      "+      \"+   \\\"source\\\": [\\n\",\n",
      "+      \"+    \\\"Utiliser la même adresse que pour votre compte GitHub. Verifier la configuration avec:\\\"\\n\",\n",
      "+      \"+   ]\\n\",\n",
      "+      \"+  },\\n\",\n",
      "+      \"+  {\\n\",\n",
      "+      \"+   \\\"cell_type\\\": \\\"code\\\",\\n\",\n",
      "+      \"+   \\\"execution_count\\\": 3,\\n\",\n",
      "+      \"+   \\\"metadata\\\": {\\n\",\n",
      "+      \"+    \\\"slideshow\\\": {\\n\",\n",
      "+      \"+     \\\"slide_type\\\": \\\"fragment\\\"\\n\",\n",
      "+      \"+    }\\n\",\n",
      "+      \"+   },\\n\",\n",
      "+      \"+   \\\"outputs\\\": [\\n\",\n",
      "+      \"+    {\\n\",\n",
      "+      \"+     \\\"name\\\": \\\"stdout\\\",\\n\",\n",
      "+      \"+     \\\"output_type\\\": \\\"stream\\\",\\n\",\n",
      "+      \"+     \\\"text\\\": [\\n\",\n",
      "+      \"+      \\\"credential.helper=osxkeychain\\\\n\\\",\\n\",\n",
      "+      \"+      \\\"filter.lfs.clean=git-lfs clean -- %f\\\\n\\\",\\n\",\n",
      "+      \"+      \\\"filter.lfs.smudge=git-lfs smudge -- %f\\\\n\\\",\\n\",\n",
      "+      \"+      \\\"filter.lfs.process=git-lfs filter-process\\\\n\\\",\\n\",\n",
      "+      \"+      \\\"filter.lfs.required=true\\\\n\\\",\\n\",\n",
      "+      \"+      \\\"filter.media.required=true\\\\n\\\",\\n\",\n",
      "+      \"+      \\\"filter.media.clean=git media clean %f\\\\n\\\",\\n\",\n",
      "+      \"+      \\\"filter.media.smudge=git media smudge %f\\\\n\\\",\\n\",\n",
      "+      \"+      \\\"user.name=Pierre Navaro\\\\n\\\",\\n\",\n",
      "+      \"+      \\\"user.email=navaro@math.cnrs.fr\\\\n\\\",\\n\",\n",
      "+      \"+      \\\"filter.hawser.clean=git hawser clean %f\\\\n\\\",\\n\",\n",
      "+      \"+      \\\"filter.hawser.smudge=git hawser smudge %f\\\\n\\\",\\n\",\n",
      "+      \"+      \\\"filter.hawser.required=true\\\\n\\\",\\n\",\n",
      "+      \"+      \\\"filter.lfs.clean=git-lfs clean -- %f\\\\n\\\",\\n\",\n",
      "+      \"+      \\\"filter.lfs.smudge=git-lfs smudge -- %f\\\\n\\\",\\n\",\n",
      "+      \"+      \\\"filter.lfs.process=git-lfs filter-process\\\\n\\\",\\n\",\n",
      "+      \"+      \\\"filter.lfs.required=true\\\\n\\\",\\n\",\n",
      "+      \"+      \\\"github.user=pnavaro\\\\n\\\",\\n\",\n",
      "+      \"+      \\\"core.repositoryformatversion=0\\\\n\\\",\\n\",\n",
      "+      \"+      \\\"core.filemode=true\\\\n\\\",\\n\",\n",
      "+      \"+      \\\"core.bare=false\\\\n\\\",\\n\",\n",
      "+      \"+      \\\"core.logallrefupdates=true\\\\n\\\",\\n\",\n",
      "+      \"+      \\\"core.ignorecase=true\\\\n\\\",\\n\",\n",
      "+      \"+      \\\"core.precomposeunicode=true\\\\n\\\",\\n\",\n",
      "+      \"+      \\\"user.name=Pierre Navaro\\\\n\\\",\\n\",\n",
      "+      \"+      \\\"user.email=pierre.navaro@univ-rennes1.fr\\\\n\\\",\\n\",\n",
      "+      \"+      \\\"remote.origin.url=git@gitlab.math.unistra.fr:navaro/agrocampus.git\\\\n\\\",\\n\",\n",
      "+      \"+      \\\"remote.origin.fetch=+refs/heads/*:refs/remotes/origin/*\\\\n\\\",\\n\",\n",
      "+      \"+      \\\"branch.master.remote=origin\\\\n\\\",\\n\",\n",
      "+      \"+      \\\"branch.master.merge=refs/heads/master\\\\n\\\"\\n\",\n",
      "+      \"+     ]\\n\",\n",
      "+      \"+    }\\n\",\n",
      "+      \"+   ],\\n\",\n",
      "+      \"+   \\\"source\\\": [\\n\",\n",
      "+      \"+    \\\"%%bash\\\\n\\\",\\n\",\n",
      "+      \"+    \\\"git config --list\\\"\\n\",\n",
      "+      \"+   ]\\n\",\n",
      "+      \"+  },\\n\",\n",
      "+      \"+  {\\n\",\n",
      "+      \"+   \\\"cell_type\\\": \\\"markdown\\\",\\n\",\n",
      "+      \"+   \\\"metadata\\\": {\\n\",\n",
      "+      \"+    \\\"slideshow\\\": {\\n\",\n",
      "+      \"+     \\\"slide_type\\\": \\\"slide\\\"\\n\",\n",
      "+      \"+    }\\n\",\n",
      "+      \"+   },\\n\",\n",
      "+      \"+   \\\"source\\\": [\\n\",\n",
      "+      \"     \\\"## Mettre en place git sur un répertoire existant\\\\n\\\",\\n\",\n",
      "+      \"     \\\"\\\\n\\\",\\n\",\n",
      "+      \"     \\\"Imaginons un article avec deux fichiers:\\\\n\\\",\\n\",\n",
      "+      \"@@ -376,8 +468,17 @@\\n\",\n",
      "+      \"     \\\"\\\\n\\\",\\n\",\n",
      "+      \"     \\\"\\\\tnothing added to commit but untracked files present\\\\n\\\",\\n\",\n",
      "+      \"     \\\"\\\\t(use \\\\\\\"git add\\\\\\\" to track)\\\\n\\\",\\n\",\n",
      "+      \"-    \\\"```\\\\n\\\",\\n\",\n",
      "+      \"-    \\\"\\\\n\\\",\\n\",\n",
      "+      \"+    \\\"```\\\"\\n\",\n",
      "+      \"+   ]\\n\",\n",
      "+      \"+  },\\n\",\n",
      "+      \"+  {\\n\",\n",
      "+      \"+   \\\"cell_type\\\": \\\"markdown\\\",\\n\",\n",
      "+      \"+   \\\"metadata\\\": {\\n\",\n",
      "+      \"+    \\\"slideshow\\\": {\\n\",\n",
      "+      \"+     \\\"slide_type\\\": \\\"slide\\\"\\n\",\n",
      "+      \"+    }\\n\",\n",
      "+      \"+   },\\n\",\n",
      "+      \"+   \\\"source\\\": [\\n\",\n",
      "+      \"     \\\"## Ajouter les fichiers au dépôt git\\\\n\\\",\\n\",\n",
      "+      \"     \\\"\\\\n\\\",\\n\",\n",
      "+      \"     \\\"```\\\\n\\\",\\n\",\n",
      "+      \"@@ -397,9 +498,17 @@\\n\",\n",
      "+      \"     \\\" \\\\t2 files changed, 0 insertions(+), 0 deletions(-)\\\\n\\\",\\n\",\n",
      "+      \"     \\\" \\\\tcreate mode 100644 document.tex\\\\n\\\",\\n\",\n",
      "+      \"     \\\" \\\\tcreate mode 100644 figure.png\\\\n\\\",\\n\",\n",
      "+      \"-    \\\"```\\\\n\\\",\\n\",\n",
      "+      \"-    \\\"\\\\n\\\",\\n\",\n",
      "+      \"-    \\\"\\\\n\\\",\\n\",\n",
      "+      \"+    \\\"```\\\"\\n\",\n",
      "+      \"+   ]\\n\",\n",
      "+      \"+  },\\n\",\n",
      "+      \"+  {\\n\",\n",
      "+      \"+   \\\"cell_type\\\": \\\"markdown\\\",\\n\",\n",
      "+      \"+   \\\"metadata\\\": {\\n\",\n",
      "+      \"+    \\\"slideshow\\\": {\\n\",\n",
      "+      \"+     \\\"slide_type\\\": \\\"slide\\\"\\n\",\n",
      "+      \"+    }\\n\",\n",
      "+      \"+   },\\n\",\n",
      "+      \"+   \\\"source\\\": [\\n\",\n",
      "+      \"     \\\"## `Add`  et `commit` \\\\n\\\",\\n\",\n",
      "+      \"     \\\"\\\\n\\\",\\n\",\n",
      "+      \"     \\\"```bash\\\\n\\\",\\n\",\n",
      "+      \"@@ -423,8 +532,17 @@\\n\",\n",
      "+      \"     \\\"\\\\tOn branch master\\\\n\\\",\\n\",\n",
      "+      \"     \\\"\\\\tYour branch is ahead of 'origin/master' by 1 commit.\\\\n\\\",\\n\",\n",
      "+      \"     \\\"  \\\\t(use \\\\\\\"git push\\\\\\\" to publish your local commits)\\\\n\\\",\\n\",\n",
      "+      \"-    \\\"```\\\\n\\\",\\n\",\n",
      "+      \"-    \\\"\\\\n\\\",\\n\",\n",
      "+      \"+    \\\"```\\\"\\n\",\n",
      "+      \"+   ]\\n\",\n",
      "+      \"+  },\\n\",\n",
      "+      \"+  {\\n\",\n",
      "+      \"+   \\\"cell_type\\\": \\\"markdown\\\",\\n\",\n",
      "+      \"+   \\\"metadata\\\": {\\n\",\n",
      "+      \"+    \\\"slideshow\\\": {\\n\",\n",
      "+      \"+     \\\"slide_type\\\": \\\"slide\\\"\\n\",\n",
      "+      \"+    }\\n\",\n",
      "+      \"+   },\\n\",\n",
      "+      \"+   \\\"source\\\": [\\n\",\n",
      "+      \"     \\\"## \\\\\\\"Push\\\\\\\"\\\\n\\\",\\n\",\n",
      "+      \"     \\\"\\\\n\\\",\\n\",\n",
      "+      \"     \\\"par défaut vous êtes sur la branche \\\\\\\"master\\\\\\\"\\\\n\\\",\\n\",\n",
      "+      \"@@ -441,56 +559,139 @@\\n\",\n",
      "+      \"     \\\"\\\\t...\\\\n\\\",\\n\",\n",
      "+      \"     \\\"\\\\tTo https://github.com/pnavaro/irmar-git-project\\\\n\\\",\\n\",\n",
      "+      \"     \\\"   \\\\t\\\\tae2ce3c..ed796ea  master -> master\\\\n\\\",\\n\",\n",
      "+      \"-    \\\"```\\\\n\\\",\\n\",\n",
      "+      \"-    \\\"\\\\n\\\",\\n\",\n",
      "+      \"-    \\\"# Git Workflow\\\\n\\\",\\n\",\n",
      "+      \"-    \\\"![4-stages](images/four_stages.png){width=30%}\\\\n\\\",\\n\",\n",
      "+      \"-    \\\"\\\\n\\\",\\n\",\n",
      "+      \"-    \\\"# Cloning an Existing Directory\\\\n\\\",\\n\",\n",
      "+      \"-    \\\"Now i change my computer.\\\\n\\\",\\n\",\n",
      "+      \"-    \\\"\\\\n\\\",\\n\",\n",
      "+      \"-    \\\"```\\\\n\\\",\\n\",\n",
      "+      \"-    \\\"$ git clone git@github.com:pnavaro/irmar-git-project.git\\\\n\\\",\\n\",\n",
      "+      \"-    \\\"\\\\tCloning into 'irmar-git-project'...\\\\n\\\",\\n\",\n",
      "+      \"-    \\\"$ cd irmar-git-project\\\\n\\\",\\n\",\n",
      "+      \"-    \\\"$ git log\\\\n\\\",\\n\",\n",
      "+      \"-    \\\"\\\\tcommit ed796ea1cbd15c8f7ec040b303c950569527012c (HEAD -> master, origin/master, origin/HEAD)\\\\n\\\",\\n\",\n",
      "+      \"-    \\\"\\\\tAuthor: Pierre Navaro <pierre.navaro@univ-rennes1.fr>\\\\n\\\",\\n\",\n",
      "+      \"-    \\\"\\\\tDate:   Thu Apr 19 13:26:01 2018 +0200\\\\n\\\",\\n\",\n",
      "+      \"-    \\\"\\\\n\\\",\\n\",\n",
      "+      \"-    \\\"    \\\\tAdd my contribution to the project\\\\n\\\",\\n\",\n",
      "+      \"-    \\\"```\\\\n\\\",\\n\",\n",
      "+      \"-    \\\"\\\\n\\\",\\n\",\n",
      "+      \"-    \\\"# Display and Create a Branch\\\\n\\\",\\n\",\n",
      "+      \"-    \\\"\\\\n\\\",\\n\",\n",
      "+      \"-    \\\"Display all branches :\\\\n\\\",\\n\",\n",
      "+      \"-    \\\"\\\\n\\\",\\n\",\n",
      "+      \"-    \\\"```\\\\n\\\",\\n\",\n",
      "+      \"-    \\\"$ git branch -a\\\\n\\\",\\n\",\n",
      "+      \"-    \\\"\\\\t* master\\\\n\\\",\\n\",\n",
      "+      \"-    \\\"  \\\\t\\\\tremotes/origin/HEAD -> origin/master\\\\n\\\",\\n\",\n",
      "+      \"-    \\\"  \\\\t\\\\tremotes/origin/master\\\\n\\\",\\n\",\n",
      "+      \"-    \\\"```\\\\n\\\",\\n\",\n",
      "+      \"-    \\\"\\\\n\\\",\\n\",\n",
      "+      \"-    \\\"Create your own branch and switch:\\\\n\\\",\\n\",\n",
      "+      \"-    \\\"\\\\n\\\",\\n\",\n",
      "+      \"-    \\\"```\\\\n\\\",\\n\",\n",
      "+      \"-    \\\"$ git branch pierre-branch\\\\n\\\",\\n\",\n",
      "+      \"-    \\\"$ git checkout pierre-branch\\\\n\\\",\\n\",\n",
      "+      \"-    \\\"```\\\\n\\\",\\n\",\n",
      "+      \"-    \\\"\\\\n\\\",\\n\",\n",
      "+      \"-    \\\"Switched to branch 'pierre-branch'\\\\n\\\",\\n\",\n",
      "+      \"-    \\\"\\\\n\\\",\\n\",\n",
      "+      \"-    \\\"```\\\\n\\\",\\n\",\n",
      "+      \"-    \\\"$ git branch\\\\n\\\",\\n\",\n",
      "+      \"-    \\\"  \\\\tmaster\\\\n\\\",\\n\",\n",
      "+      \"-    \\\"\\\\t* pierre-branch\\\\n\\\",\\n\",\n",
      "+      \"-    \\\"```\\\\n\\\",\\n\",\n",
      "+      \"-    \\\"\\\\n\\\",\\n\",\n",
      "+      \"-    \\\"Files could be different or non existant between branches but are at the same place on the file system\\\\n\\\",\\n\",\n",
      "+      \"-    \\\"\\\\n\\\",\\n\",\n",
      "+      \"-    \\\"\\\\n\\\",\\n\",\n",
      "+      \"-    \\\"# Contributing\\\\n\\\",\\n\",\n",
      "+      \"+    \\\"```\\\"\\n\",\n",
      "+      \"+   ]\\n\",\n",
      "+      \"+  },\\n\",\n",
      "+      \"+  {\\n\",\n",
      "+      \"+   \\\"cell_type\\\": \\\"markdown\\\",\\n\",\n",
      "+      \"+   \\\"metadata\\\": {\\n\",\n",
      "+      \"+    \\\"slideshow\\\": {\\n\",\n",
      "+      \"+     \\\"slide_type\\\": \\\"slide\\\"\\n\",\n",
      "+      \"+    }\\n\",\n",
      "+      \"+   },\\n\",\n",
      "+      \"+   \\\"source\\\": [\\n\",\n",
      "+      \"+    \\\"## Git Workflow\\\\n\\\",\\n\",\n",
      "+      \"+    \\\"![4-stages](images/four_stages.png){width=10%}\\\"\\n\",\n",
      "+      \"+   ]\\n\",\n",
      "+      \"+  },\\n\",\n",
      "+      \"+  {\\n\",\n",
      "+      \"+   \\\"cell_type\\\": \\\"markdown\\\",\\n\",\n",
      "+      \"+   \\\"metadata\\\": {\\n\",\n",
      "+      \"+    \\\"slideshow\\\": {\\n\",\n",
      "+      \"+     \\\"slide_type\\\": \\\"slide\\\"\\n\",\n",
      "+      \"+    }\\n\",\n",
      "+      \"+   },\\n\",\n",
      "+      \"+   \\\"source\\\": [\\n\",\n",
      "+      \"+    \\\"## Afficher les branches\\\"\\n\",\n",
      "+      \"+   ]\\n\",\n",
      "+      \"+  },\\n\",\n",
      "+      \"+  {\\n\",\n",
      "+      \"+   \\\"cell_type\\\": \\\"code\\\",\\n\",\n",
      "+      \"+   \\\"execution_count\\\": 4,\\n\",\n",
      "+      \"+   \\\"metadata\\\": {\\n\",\n",
      "+      \"+    \\\"slideshow\\\": {\\n\",\n",
      "+      \"+     \\\"slide_type\\\": \\\"fragment\\\"\\n\",\n",
      "+      \"+    }\\n\",\n",
      "+      \"+   },\\n\",\n",
      "+      \"+   \\\"outputs\\\": [\\n\",\n",
      "+      \"+    {\\n\",\n",
      "+      \"+     \\\"name\\\": \\\"stdout\\\",\\n\",\n",
      "+      \"+     \\\"output_type\\\": \\\"stream\\\",\\n\",\n",
      "+      \"+     \\\"text\\\": [\\n\",\n",
      "+      \"+      \\\"* master\\\\n\\\",\\n\",\n",
      "+      \"+      \\\"  remotes/origin/master\\\\n\\\"\\n\",\n",
      "+      \"+     ]\\n\",\n",
      "+      \"+    }\\n\",\n",
      "+      \"+   ],\\n\",\n",
      "+      \"+   \\\"source\\\": [\\n\",\n",
      "+      \"+    \\\"%%bash\\\\n\\\",\\n\",\n",
      "+      \"+    \\\"git branch -a\\\"\\n\",\n",
      "+      \"+   ]\\n\",\n",
      "+      \"+  },\\n\",\n",
      "+      \"+  {\\n\",\n",
      "+      \"+   \\\"cell_type\\\": \\\"markdown\\\",\\n\",\n",
      "+      \"+   \\\"metadata\\\": {\\n\",\n",
      "+      \"+    \\\"slideshow\\\": {\\n\",\n",
      "+      \"+     \\\"slide_type\\\": \\\"slide\\\"\\n\",\n",
      "+      \"+    }\\n\",\n",
      "+      \"+   },\\n\",\n",
      "+      \"+   \\\"source\\\": [\\n\",\n",
      "+      \"+    \\\"## Créer une branche\\\"\\n\",\n",
      "+      \"+   ]\\n\",\n",
      "+      \"+  },\\n\",\n",
      "+      \"+  {\\n\",\n",
      "+      \"+   \\\"cell_type\\\": \\\"code\\\",\\n\",\n",
      "+      \"+   \\\"execution_count\\\": 5,\\n\",\n",
      "+      \"+   \\\"metadata\\\": {\\n\",\n",
      "+      \"+    \\\"slideshow\\\": {\\n\",\n",
      "+      \"+     \\\"slide_type\\\": \\\"fragment\\\"\\n\",\n",
      "+      \"+    }\\n\",\n",
      "+      \"+   },\\n\",\n",
      "+      \"+   \\\"outputs\\\": [\\n\",\n",
      "+      \"+    {\\n\",\n",
      "+      \"+     \\\"name\\\": \\\"stdout\\\",\\n\",\n",
      "+      \"+     \\\"output_type\\\": \\\"stream\\\",\\n\",\n",
      "+      \"+     \\\"text\\\": [\\n\",\n",
      "+      \"+      \\\"M\\\\tnotebooks/02-gitbasics.ipynb\\\\n\\\"\\n\",\n",
      "+      \"+     ]\\n\",\n",
      "+      \"+    },\\n\",\n",
      "+      \"+    {\\n\",\n",
      "+      \"+     \\\"name\\\": \\\"stderr\\\",\\n\",\n",
      "+      \"+     \\\"output_type\\\": \\\"stream\\\",\\n\",\n",
      "+      \"+     \\\"text\\\": [\\n\",\n",
      "+      \"+      \\\"Switched to branch 'mabranche'\\\\n\\\"\\n\",\n",
      "+      \"+     ]\\n\",\n",
      "+      \"+    }\\n\",\n",
      "+      \"+   ],\\n\",\n",
      "+      \"+   \\\"source\\\": [\\n\",\n",
      "+      \"+    \\\"%%bash\\\\n\\\",\\n\",\n",
      "+      \"+    \\\"git branch mabranche\\\\n\\\",\\n\",\n",
      "+      \"+    \\\"git checkout mabranche\\\"\\n\",\n",
      "+      \"+   ]\\n\",\n",
      "+      \"+  },\\n\",\n",
      "+      \"+  {\\n\",\n",
      "+      \"+   \\\"cell_type\\\": \\\"code\\\",\\n\",\n",
      "+      \"+   \\\"execution_count\\\": 6,\\n\",\n",
      "+      \"+   \\\"metadata\\\": {\\n\",\n",
      "+      \"+    \\\"slideshow\\\": {\\n\",\n",
      "+      \"+     \\\"slide_type\\\": \\\"fragment\\\"\\n\",\n",
      "+      \"+    }\\n\",\n",
      "+      \"+   },\\n\",\n",
      "+      \"+   \\\"outputs\\\": [\\n\",\n",
      "+      \"+    {\\n\",\n",
      "+      \"+     \\\"name\\\": \\\"stdout\\\",\\n\",\n",
      "+      \"+     \\\"output_type\\\": \\\"stream\\\",\\n\",\n",
      "+      \"+     \\\"text\\\": [\\n\",\n",
      "+      \"+      \\\"* mabranche\\\\n\\\",\\n\",\n",
      "+      \"+      \\\"  master\\\\n\\\"\\n\",\n",
      "+      \"+     ]\\n\",\n",
      "+      \"+    }\\n\",\n",
      "+      \"+   ],\\n\",\n",
      "+      \"+   \\\"source\\\": [\\n\",\n",
      "+      \"+    \\\"%%bash\\\\n\\\",\\n\",\n",
      "+      \"+    \\\"git branch\\\"\\n\",\n",
      "+      \"+   ]\\n\",\n",
      "+      \"+  },\\n\",\n",
      "+      \"+  {\\n\",\n",
      "+      \"+   \\\"cell_type\\\": \\\"markdown\\\",\\n\",\n",
      "+      \"+   \\\"metadata\\\": {\\n\",\n",
      "+      \"+    \\\"slideshow\\\": {\\n\",\n",
      "+      \"+     \\\"slide_type\\\": \\\"fragment\\\"\\n\",\n",
      "+      \"+    }\\n\",\n",
      "+      \"+   },\\n\",\n",
      "+      \"+   \\\"source\\\": [\\n\",\n",
      "+      \"+    \\\"Des fichiers peuvent être différents ou meme inexsitants dans deux branches distinctes mais ils se trouveront au même endroit dans le système de fichiers.\\\"\\n\",\n",
      "+      \"+   ]\\n\",\n",
      "+      \"+  },\\n\",\n",
      "+      \"+  {\\n\",\n",
      "+      \"+   \\\"cell_type\\\": \\\"markdown\\\",\\n\",\n",
      "+      \"+   \\\"metadata\\\": {\\n\",\n",
      "+      \"+    \\\"slideshow\\\": {\\n\",\n",
      "+      \"+     \\\"slide_type\\\": \\\"slide\\\"\\n\",\n",
      "+      \"+    }\\n\",\n",
      "+      \"+   },\\n\",\n",
      "+      \"+   \\\"source\\\": [\\n\",\n",
      "+      \"+    \\\"## Modifier un fichier\\\\n\\\",\\n\",\n",
      "+      \"     \\\"\\\\n\\\",\\n\",\n",
      "+      \"     \\\"Modify the file document.tex\\\\n\\\",\\n\",\n",
      "+      \"     \\\"\\\\n\\\",\\n\",\n",
      "+      \"@@ -510,8 +711,17 @@\\n\",\n",
      "+      \"     \\\"\\\\t+++ b/document.tex\\\\n\\\",\\n\",\n",
      "+      \"     \\\"\\\\t@@ -1,3 +0,0 @@\\\\n\\\",\\n\",\n",
      "+      \"     \\\"\\\\t-Exemple Git pour la journee de rentree\\\\n\\\",\\n\",\n",
      "+      \"-    \\\"```\\\\n\\\",\\n\",\n",
      "+      \"-    \\\"\\\\n\\\",\\n\",\n",
      "+      \"+    \\\"```\\\"\\n\",\n",
      "+      \"+   ]\\n\",\n",
      "+      \"+  },\\n\",\n",
      "+      \"+  {\\n\",\n",
      "+      \"+   \\\"cell_type\\\": \\\"markdown\\\",\\n\",\n",
      "+      \"+   \\\"metadata\\\": {\\n\",\n",
      "+      \"+    \\\"slideshow\\\": {\\n\",\n",
      "+      \"+     \\\"slide_type\\\": \\\"slide\\\"\\n\",\n",
      "+      \"+    }\\n\",\n",
      "+      \"+   },\\n\",\n",
      "+      \"+   \\\"source\\\": [\\n\",\n",
      "+      \"     \\\"# Locally saving your modifications\\\\n\\\",\\n\",\n",
      "+      \"     \\\"\\\\n\\\",\\n\",\n",
      "+      \"     \\\"```\\\\n\\\",\\n\"\n",
      "+     ]\n",
      "+    }\n",
      "+   ],\n",
      "+   \"source\": [\n",
      "+    \"%%bash\\n\",\n",
      "+    \"git diff\"\n",
      "+   ]\n",
      "+  },\n",
      "+  {\n",
      "+   \"cell_type\": \"markdown\",\n",
      "+   \"metadata\": {\n",
      "+    \"slideshow\": {\n",
      "+     \"slide_type\": \"slide\"\n",
      "+    }\n",
      "+   },\n",
      "+   \"source\": [\n",
      "+    \"## Enregister les modifications\"\n",
      "+   ]\n",
      "+  },\n",
      "+  {\n",
      "+   \"cell_type\": \"code\",\n",
      "+   \"execution_count\": null,\n",
      "+   \"metadata\": {\n",
      "+    \"slideshow\": {\n",
      "+     \"slide_type\": \"slide\"\n",
      "+    }\n",
      "+   },\n",
      "+   \"outputs\": [],\n",
      "+   \"source\": [\n",
      "+    \"%%bash\\n\",\n",
      "+    \"git add intro.md\"\n",
      "+   ]\n",
      "+  },\n",
      "+  {\n",
      "+   \"cell_type\": \"code\",\n",
      "+   \"execution_count\": null,\n",
      "+   \"metadata\": {\n",
      "+    \"slideshow\": {\n",
      "+     \"slide_type\": \"slide\"\n",
      "+    }\n",
      "+   },\n",
      "+   \"outputs\": [],\n",
      "+   \"source\": [\n",
      "+    \"%%bash\\n\",\n",
      "+    \"git status\"\n",
      "+   ]\n",
      "+  },\n",
      "+  {\n",
      "+   \"cell_type\": \"markdown\",\n",
      "+   \"metadata\": {\n",
      "+    \"slideshow\": {\n",
      "+     \"slide_type\": \"slide\"\n",
      "+    }\n",
      "+   },\n",
      "+   \"source\": [\n",
      "+    \"## Commit\"\n",
      "+   ]\n",
      "+  },\n",
      "+  {\n",
      "+   \"cell_type\": \"markdown\",\n",
      "+   \"metadata\": {\n",
      "+    \"slideshow\": {\n",
      "+     \"slide_type\": \"fragment\"\n",
      "+    }\n",
      "+   },\n",
      "+   \"source\": [\n",
      "+    \"%%bash\\n\",\n",
      "+    \"git commit -m 'Some modifications'\"\n",
      "+   ]\n",
      "+  },\n",
      "+  {\n",
      "+   \"cell_type\": \"markdown\",\n",
      "+   \"metadata\": {\n",
      "+    \"slideshow\": {\n",
      "+     \"slide_type\": \"slide\"\n",
      "+    }\n",
      "+   },\n",
      "+   \"source\": [\n",
      "+    \"## Commit\\n\",\n",
      "     \"\\n\",\n",
      "-    \"```\\n\",\n",
      "-    \"$ git diff --name-status master..mybranch\\n\",\n",
      "-    \"```\\n\",\n",
      "-    \"- Compare the master version of a file to my current branch version\\n\",\n",
      "+    \"![index1](images/index1.png)\"\n",
      "+   ]\n",
      "+  },\n",
      "+  {\n",
      "+   \"cell_type\": \"markdown\",\n",
      "+   \"metadata\": {\n",
      "+    \"slideshow\": {\n",
      "+     \"slide_type\": \"slide\"\n",
      "+    }\n",
      "+   },\n",
      "+   \"source\": [\n",
      "+    \"## Fast commit\\n\",\n",
      "+    \"![index2](images/index2.png)\"\n",
      "+   ]\n",
      "+  },\n",
      "+  {\n",
      "+   \"cell_type\": \"markdown\",\n",
      "+   \"metadata\": {\n",
      "+    \"slideshow\": {\n",
      "+     \"slide_type\": \"slide\"\n",
      "+    }\n",
      "+   },\n",
      "+   \"source\": [\n",
      "+    \"## Partager votre travail sur le serveur\\n\",\n",
      "     \"\\n\",\n",
      "-    \"```\\n\",\n",
      "-    \"$ git diff mybranch master -- myfile.F90\\n\",\n",
      "-    \"```\\n\",\n",
      "+    \"### Option 1 : fusionner sur la branche principale et pousser\"\n",
      "+   ]\n",
      "+  },\n",
      "+  {\n",
      "+   \"cell_type\": \"code\",\n",
      "+   \"execution_count\": 11,\n",
      "+   \"metadata\": {\n",
      "+    \"slideshow\": {\n",
      "+     \"slide_type\": \"slide\"\n",
      "+    }\n",
      "+   },\n",
      "+   \"outputs\": [\n",
      "+    {\n",
      "+     \"name\": \"stdout\",\n",
      "+     \"output_type\": \"stream\",\n",
      "+     \"text\": [\n",
      "+      \"M\\tnotebooks/02-gitbasics.ipynb\\n\",\n",
      "+      \"Your branch is up to date with 'origin/master'.\\n\",\n",
      "+      \"Already up to date.\\n\"\n",
      "+     ]\n",
      "+    },\n",
      "+    {\n",
      "+     \"name\": \"stderr\",\n",
      "+     \"output_type\": \"stream\",\n",
      "+     \"text\": [\n",
      "+      \"Switched to branch 'master'\\n\",\n",
      "+      \"Everything up-to-date\\n\"\n",
      "+     ]\n",
      "+    }\n",
      "+   ],\n",
      "+   \"source\": [\n",
      "+    \"%%bash\\n\",\n",
      "+    \"git checkout master\\n\",\n",
      "+    \"git merge mabranche\\n\",\n",
      "+    \"git push origin master\"\n",
      "+   ]\n",
      "+  },\n",
      "+  {\n",
      "+   \"cell_type\": \"markdown\",\n",
      "+   \"metadata\": {\n",
      "+    \"slideshow\": {\n",
      "+     \"slide_type\": \"slide\"\n",
      "+    }\n",
      "+   },\n",
      "+   \"source\": [\n",
      "+    \"## Partager votre travail sur le serveur\\n\",\n",
      "     \"\\n\",\n",
      "-    \"- Remove all ignored files (do it after a commit)\\n\",\n",
      "     \"\\n\",\n",
      "-    \"```\\n\",\n",
      "-    \"$ git clean -xdf\\n\",\n",
      "-    \"```\\n\",\n",
      "+    \"## Option 2 : Pousser la branche locale sur le serveur\"\n",
      "+   ]\n",
      "+  },\n",
      "+  {\n",
      "+   \"cell_type\": \"code\",\n",
      "+   \"execution_count\": 12,\n",
      "+   \"metadata\": {\n",
      "+    \"slideshow\": {\n",
      "+     \"slide_type\": \"slide\"\n",
      "+    }\n",
      "+   },\n",
      "+   \"outputs\": [\n",
      "+    {\n",
      "+     \"name\": \"stdout\",\n",
      "+     \"output_type\": \"stream\",\n",
      "+     \"text\": [\n",
      "+      \"M\\tnotebooks/02-gitbasics.ipynb\\n\"\n",
      "+     ]\n",
      "+    },\n",
      "+    {\n",
      "+     \"name\": \"stderr\",\n",
      "+     \"output_type\": \"stream\",\n",
      "+     \"text\": [\n",
      "+      \"Switched to branch 'mabranche'\\n\",\n",
      "+      \"remote: \\n\",\n",
      "+      \"remote: To create a merge request for mabranche, visit:        \\n\",\n",
      "+      \"remote:   https://gitlab.math.unistra.fr/navaro/agrocampus/-/merge_requests/new?merge_request%5Bsource_branch%5D=mabranche        \\n\",\n",
      "+      \"remote: \\n\",\n",
      "+      \"To gitlab.math.unistra.fr:navaro/agrocampus.git\\n\",\n",
      "+      \" * [new branch]      mabranche -> mabranche\\n\"\n",
      "+     ]\n",
      "+    }\n",
      "+   ],\n",
      "+   \"source\": [\n",
      "+    \"%%bash\\n\",\n",
      "+    \"git checkout mabranche\\n\",\n",
      "+    \"git push origin mabranche\"\n",
      "+   ]\n",
      "+  },\n",
      "+  {\n",
      "+   \"cell_type\": \"markdown\",\n",
      "+   \"metadata\": {\n",
      "+    \"slideshow\": {\n",
      "+     \"slide_type\": \"slide\"\n",
      "+    }\n",
      "+   },\n",
      "+   \"source\": [\n",
      "+    \"## Mise à jour depuis le dépôt distant\"\n",
      "+   ]\n",
      "+  },\n",
      "+  {\n",
      "+   \"cell_type\": \"code\",\n",
      "+   \"execution_count\": 13,\n",
      "+   \"metadata\": {\n",
      "+    \"slideshow\": {\n",
      "+     \"slide_type\": \"slide\"\n",
      "+    }\n",
      "+   },\n",
      "+   \"outputs\": [\n",
      "+    {\n",
      "+     \"name\": \"stdout\",\n",
      "+     \"output_type\": \"stream\",\n",
      "+     \"text\": [\n",
      "+      \"M\\tnotebooks/02-gitbasics.ipynb\\n\",\n",
      "+      \"Your branch is up to date with 'origin/master'.\\n\",\n",
      "+      \"Already up to date.\\n\"\n",
      "+     ]\n",
      "+    },\n",
      "+    {\n",
      "+     \"name\": \"stderr\",\n",
      "+     \"output_type\": \"stream\",\n",
      "+     \"text\": [\n",
      "+      \"Switched to branch 'master'\\n\"\n",
      "+     ]\n",
      "+    }\n",
      "+   ],\n",
      "+   \"source\": [\n",
      "+    \"%%bash\\n\",\n",
      "+    \"git checkout master\\n\",\n",
      "+    \"git fetch origin\\n\",\n",
      "+    \"git merge origin/master\"\n",
      "+   ]\n",
      "+  },\n",
      "+  {\n",
      "+   \"cell_type\": \"code\",\n",
      "+   \"execution_count\": 14,\n",
      "+   \"metadata\": {\n",
      "+    \"slideshow\": {\n",
      "+     \"slide_type\": \"slide\"\n",
      "+    }\n",
      "+   },\n",
      "+   \"outputs\": [\n",
      "+    {\n",
      "+     \"name\": \"stdout\",\n",
      "+     \"output_type\": \"stream\",\n",
      "+     \"text\": [\n",
      "+      \"M\\tnotebooks/02-gitbasics.ipynb\\n\",\n",
      "+      \"Already up to date.\\n\"\n",
      "+     ]\n",
      "+    },\n",
      "+    {\n",
      "+     \"name\": \"stderr\",\n",
      "+     \"output_type\": \"stream\",\n",
      "+     \"text\": [\n",
      "+      \"Switched to branch 'mabranche'\\n\"\n",
      "+     ]\n",
      "+    }\n",
      "+   ],\n",
      "+   \"source\": [\n",
      "+    \"%%bash\\n\",\n",
      "+    \"git checkout mabranche\\n\",\n",
      "+    \"git merge master\"\n",
      "+   ]\n",
      "+  },\n",
      "+  {\n",
      "+   \"cell_type\": \"markdown\",\n",
      "+   \"metadata\": {\n",
      "+    \"slideshow\": {\n",
      "+     \"slide_type\": \"slide\"\n",
      "+    }\n",
      "+   },\n",
      "+   \"source\": [\n",
      "+    \"Si votre branche locale n'est pas présente sur le serveur, vous pouvez utiliser `rebase` à la place de `merge`. Cette opération permet de récrire l'historique en datant vos modifcations postérieures à la dernière modification de la branche master.\"\n",
      "+   ]\n",
      "+  },\n",
      "+  {\n",
      "+   \"cell_type\": \"markdown\",\n",
      "+   \"metadata\": {\n",
      "+    \"slideshow\": {\n",
      "+     \"slide_type\": \"slide\"\n",
      "+    }\n",
      "+   },\n",
      "+   \"source\": [\n",
      "+    \"# Conflits\"\n",
      "+   ]\n",
      "+  },\n",
      "+  {\n",
      "+   \"cell_type\": \"markdown\",\n",
      "+   \"metadata\": {\n",
      "+    \"slideshow\": {\n",
      "+     \"slide_type\": \"slide\"\n",
      "+    }\n",
      "+   },\n",
      "+   \"source\": [\n",
      "+    \"```bash\\n\",\n",
      "+    \"git mergetool\\n\",\n",
      "+    \"```\"\n",
      "+   ]\n",
      "+  },\n",
      "+  {\n",
      "+   \"cell_type\": \"markdown\",\n",
      "+   \"metadata\": {\n",
      "+    \"slideshow\": {\n",
      "+     \"slide_type\": \"slide\"\n",
      "+    }\n",
      "+   },\n",
      "+   \"source\": [\n",
      "+    \"## Cycle \\n\",\n",
      "     \"\\n\",\n",
      "-    \"- To revert to a previous commit, ignoring any changes:\\n\",\n",
      "+    \"![Cycle](images/git_cycle.png)\"\n",
      "+   ]\n",
      "+  },\n",
      "+  {\n",
      "+   \"cell_type\": \"markdown\",\n",
      "+   \"metadata\": {\n",
      "+    \"slideshow\": {\n",
      "+     \"slide_type\": \"slide\"\n",
      "+    }\n",
      "+   },\n",
      "+   \"source\": [\n",
      "+    \"## Développement pour garantir la stabibité\\n\",\n",
      "     \"\\n\",\n",
      "-    \"```\\n\",\n",
      "-    \"$ git checkout myfile.cpp\\n\",\n",
      "-    \"$ git reset --hard\\n\",\n",
      "-    \"```\\n\",\n",
      "+    \"![Branches](images/lr-branches-2.png)\"\n",
      "+   ]\n",
      "+  },\n",
      "+  {\n",
      "+   \"cell_type\": \"markdown\",\n",
      "+   \"metadata\": {\n",
      "+    \"slideshow\": {\n",
      "+     \"slide_type\": \"slide\"\n",
      "+    }\n",
      "+   },\n",
      "+   \"source\": [\n",
      "+    \"## Stash\\n\",\n",
      "     \"\\n\",\n",
      "-    \"# Git through IDE\\n\",\n",
      "+    \"Permet d'enregistrer l'état de vos fichiers sans enregistrer les modifications par un `commit`\"\n",
      "+   ]\n",
      "+  },\n",
      "+  {\n",
      "+   \"cell_type\": \"code\",\n",
      "+   \"execution_count\": null,\n",
      "+   \"metadata\": {\n",
      "+    \"slideshow\": {\n",
      "+     \"slide_type\": \"slide\"\n",
      "+    }\n",
      "+   },\n",
      "+   \"outputs\": [],\n",
      "+   \"source\": [\n",
      "+    \"git stash\\n\",\n",
      "+    \"git stash show\"\n",
      "+   ]\n",
      "+  },\n",
      "+  {\n",
      "+   \"cell_type\": \"code\",\n",
      "+   \"execution_count\": null,\n",
      "+   \"metadata\": {\n",
      "+    \"slideshow\": {\n",
      "+     \"slide_type\": \"slide\"\n",
      "+    }\n",
      "+   },\n",
      "+   \"outputs\": [],\n",
      "+   \"source\": [\n",
      "+    \"git stash pop\"\n",
      "+   ]\n",
      "+  },\n",
      "+  {\n",
      "+   \"cell_type\": \"markdown\",\n",
      "+   \"metadata\": {\n",
      "+    \"slideshow\": {\n",
      "+     \"slide_type\": \"slide\"\n",
      "+    }\n",
      "+   },\n",
      "+   \"source\": [\n",
      "+    \"Supprimer avec\"\n",
      "+   ]\n",
      "+  },\n",
      "+  {\n",
      "+   \"cell_type\": \"markdown\",\n",
      "+   \"metadata\": {\n",
      "+    \"slideshow\": {\n",
      "+     \"slide_type\": \"slide\"\n",
      "+    }\n",
      "+   },\n",
      "+   \"source\": [\n",
      "+    \"%%bash\\n\",\n",
      "+    \"git stash drop\"\n",
      "+   ]\n",
      "+  },\n",
      "+  {\n",
      "+   \"cell_type\": \"markdown\",\n",
      "+   \"metadata\": {\n",
      "+    \"slideshow\": {\n",
      "+     \"slide_type\": \"slide\"\n",
      "+    }\n",
      "+   },\n",
      "+   \"source\": [\n",
      "+    \"## Pourquoi Git ?\\n\",\n",
      "+    \"\\n\",\n",
      "+    \"- Tracer et controler les modifications dans un logiciel.\\n\",\n",
      "+    \"- Branches : Développement dédié pouvant fonctionner en paralléle.\\n\",\n",
      "+    \"- Tout est local : Git est rapide.\\n\",\n",
      "+    \"- Des sauvegardes trés nombreuses.\\n\",\n",
      "+    \"- Cette distinction local-distant offre plus de sécurité\\n\",\n",
      "+    \"- Le mécanisme des `pull request` favorise la relecture et est une garantie supplémentaire de stabilité.\"\n",
      "+   ]\n",
      "+  },\n",
      "+  {\n",
      "+   \"cell_type\": \"markdown\",\n",
      "+   \"metadata\": {\n",
      "+    \"slideshow\": {\n",
      "+     \"slide_type\": \"slide\"\n",
      "+    }\n",
      "+   },\n",
      "+   \"source\": [\n",
      "+    \"## Pourquoi pas\\n\",\n",
      "+    \"\\n\",\n",
      "+    \"- Difficile a comprendre pour les anciens adpetes de cvs et subversion.\\n\",\n",
      "+    \"- Syntaxe en ligne de commande un peu folle et parfois confuse.\\n\",\n",
      "+    \"- Il faut parfois enchainer beaucoup d'instructions pour des opérations assez simples.\\n\",\n",
      "+    \"- L'historique créé par git est parfois étrange, certaines modifications peuvent changer d'auteur.\\n\",\n",
      "+    \"- On peut détruire le dépôt distant involontairement.\\n\",\n",
      "+    \"- Offre beaucoup de confort au propriétaire du code mais au détriment des contributeurs.\"\n",
      "+   ]\n",
      "+  },\n",
      "+  {\n",
      "+   \"cell_type\": \"markdown\",\n",
      "+   \"metadata\": {\n",
      "+    \"slideshow\": {\n",
      "+     \"slide_type\": \"slide\"\n",
      "+    }\n",
      "+   },\n",
      "+   \"source\": [\n",
      "+    \"## Quelques commandes utiles\\n\",\n",
      "     \"\\n\",\n",
      "-    \"- Install bash-completion and source git-prompt.sh.\\n\",\n",
      "-    \"- Use Gui tools:\\n\",\n",
      "-    \"\\t- [GitHub Desktop](https://desktop.github.com/)\\n\",\n",
      "-    \"\\t- [Sourcetree](https://fr.atlassian.com/software/sourcetree)\\n\",\n",
      "-    \"\\t- [GitKraken](https://www.gitkraken.com/)\\n\",\n",
      "-    \"- VCS plugin of IDE\\n\",\n",
      "-    \"\\t- [RStudio](https://www.rstudio.com/)\\n\",\n",
      "-    \"\\t- [Eclipse](https://www.eclipse.org/downloads/)\\n\",\n",
      "-    \"\\t- [TeXstudio](www.texstudio.org/)\\n\",\n",
      "-    \"\\t- [JetBrains](https://www.jetbrains.com/)\"\n",
      "+    \"- Quels fichiers différent dans deux branches distinctes ?\"\n",
      "+   ]\n",
      "+  },\n",
      "+  {\n",
      "+   \"cell_type\": \"markdown\",\n",
      "+   \"metadata\": {\n",
      "+    \"slideshow\": {\n",
      "+     \"slide_type\": \"slide\"\n",
      "+    }\n",
      "+   },\n",
      "+   \"source\": [\n",
      "+    \"%%bash\\n\",\n",
      "+    \"git diff --name-status master..mybranch\"\n",
      "+   ]\n",
      "+  },\n",
      "+  {\n",
      "+   \"cell_type\": \"markdown\",\n",
      "+   \"metadata\": {\n",
      "+    \"slideshow\": {\n",
      "+     \"slide_type\": \"slide\"\n",
      "+    }\n",
      "+   },\n",
      "+   \"source\": [\n",
      "+    \"- Comparer la version sur la branche principale avec une autre branche\"\n",
      "+   ]\n",
      "+  },\n",
      "+  {\n",
      "+   \"cell_type\": \"code\",\n",
      "+   \"execution_count\": 18,\n",
      "+   \"metadata\": {\n",
      "+    \"slideshow\": {\n",
      "+     \"slide_type\": \"fragment\"\n",
      "+    }\n",
      "+   },\n",
      "+   \"outputs\": [],\n",
      "+   \"source\": [\n",
      "+    \"%%bash\\n\",\n",
      "+    \"git diff mabranche master -- intro.md\"\n",
      "+   ]\n",
      "+  },\n",
      "+  {\n",
      "+   \"cell_type\": \"markdown\",\n",
      "+   \"metadata\": {\n",
      "+    \"slideshow\": {\n",
      "+     \"slide_type\": \"slide\"\n",
      "+    }\n",
      "+   },\n",
      "+   \"source\": [\n",
      "+    \"- Effacer tous les fichiers ignorés\"\n",
      "+   ]\n",
      "+  },\n",
      "+  {\n",
      "+   \"cell_type\": \"code\",\n",
      "+   \"execution_count\": null,\n",
      "+   \"metadata\": {\n",
      "+    \"slideshow\": {\n",
      "+     \"slide_type\": \"fragment\"\n",
      "+    }\n",
      "+   },\n",
      "+   \"outputs\": [],\n",
      "+   \"source\": [\n",
      "+    \"%%bash\\n\",\n",
      "+    \"git clean -xdf\"\n",
      "+   ]\n",
      "+  },\n",
      "+  {\n",
      "+   \"cell_type\": \"markdown\",\n",
      "+   \"metadata\": {\n",
      "+    \"slideshow\": {\n",
      "+     \"slide_type\": \"slide\"\n",
      "+    }\n",
      "+   },\n",
      "+   \"source\": [\n",
      "+    \"- Ignorer tous les changements et revenir au point de départ\"\n",
      "+   ]\n",
      "+  },\n",
      "+  {\n",
      "+   \"cell_type\": \"markdown\",\n",
      "+   \"metadata\": {\n",
      "+    \"slideshow\": {\n",
      "+     \"slide_type\": \"fragment\"\n",
      "+    }\n",
      "+   },\n",
      "+   \"source\": [\n",
      "+    \"%%bash\\n\",\n",
      "+    \"git checkout myfile.cpp\\n\",\n",
      "+    \"git reset --hard\"\n",
      "    ]\n",
      "   },\n",
      "   {\n",
      "@@ -724,16 +1824,15 @@\n",
      "     }\n",
      "    },\n",
      "    \"source\": [\n",
      "-    \"## Git en version graphique\\n\",\n",
      "+    \"## Utiliser git plus facilement\\n\",\n",
      "     \"\\n\",\n",
      "     \"- [GitHub Desktop](https://desktop.github.com/)\\n\",\n",
      "     \"- [Sourcetree](https://fr.atlassian.com/software/sourcetree)\\n\",\n",
      "     \"- [GitKraken](https://www.gitkraken.com/)\\n\",\n",
      "     \"- [Fork](https://git-fork.com)\\n\",\n",
      "-    \"- Plugins\\n\",\n",
      "-    \"\\t- [RStudio](https://www.rstudio.com/)\\n\",\n",
      "-    \"\\t- [Eclipse](https://www.eclipse.org/downloads/)\\n\",\n",
      "-    \"\\t- [JetBrains](https://www.jetbrains.com/)\"\n",
      "+    \"- [Plugin RStudio](https://www.rstudio.com/)\\n\",\n",
      "+    \"- [Plugin Eclipse](https://www.eclipse.org/downloads/)\\n\",\n",
      "+    \"- [Produits JetBrains](https://www.jetbrains.com/)\"\n",
      "    ]\n",
      "   }\n",
      "  ],\n"
     ]
    }
   ],
   "source": [
    "%%bash\n",
    "git diff"
   ]
  },
  {
   "cell_type": "markdown",
   "metadata": {
    "slideshow": {
     "slide_type": "slide"
    }
   },
   "source": [
    "## Enregister les modifications"
   ]
  },
  {
   "cell_type": "code",
   "execution_count": 8,
   "metadata": {
    "slideshow": {
     "slide_type": "slide"
    }
   },
   "outputs": [],
   "source": [
    "%%bash\n",
    "git add intro.md"
   ]
  },
  {
   "cell_type": "code",
   "execution_count": 9,
   "metadata": {
    "slideshow": {
     "slide_type": "slide"
    }
   },
   "outputs": [
    {
     "name": "stdout",
     "output_type": "stream",
     "text": [
      "On branch mabranche\n",
      "Changes not staged for commit:\n",
      "  (use \"git add <file>...\" to update what will be committed)\n",
      "  (use \"git restore <file>...\" to discard changes in working directory)\n",
      "\tmodified:   02-gitbasics.ipynb\n",
      "\n",
      "Untracked files:\n",
      "  (use \"git add <file>...\" to include in what will be committed)\n",
      "\t../Dockerfile\n",
      "\timages/git_cycle.png\n",
      "\timages/index1.png\n",
      "\timages/index2.png\n",
      "\timages/lr-branches-2.png\n",
      "\n",
      "no changes added to commit (use \"git add\" and/or \"git commit -a\")\n"
     ]
    }
   ],
   "source": [
    "%%bash\n",
    "git status"
   ]
  },
  {
   "cell_type": "markdown",
   "metadata": {
    "slideshow": {
     "slide_type": "slide"
    }
   },
   "source": [
    "## Commit"
   ]
  },
  {
   "cell_type": "markdown",
   "metadata": {
    "slideshow": {
     "slide_type": "fragment"
    }
   },
   "source": [
    "%%bash\n",
    "git commit -m 'Some modifications'"
   ]
  },
  {
   "cell_type": "markdown",
   "metadata": {
    "slideshow": {
     "slide_type": "slide"
    }
   },
   "source": [
    "## Commit\n",
    "\n",
    "![index1](images/index1.png)"
   ]
  },
  {
   "cell_type": "markdown",
   "metadata": {
    "slideshow": {
     "slide_type": "slide"
    }
   },
   "source": [
    "## Fast commit\n",
    "![index2](images/index2.png)"
   ]
  },
  {
   "cell_type": "markdown",
   "metadata": {
    "slideshow": {
     "slide_type": "slide"
    }
   },
   "source": [
    "## Partager votre travail sur le serveur\n",
    "\n",
    "### Option 1 : fusionner sur la branche principale et pousser"
   ]
  },
  {
   "cell_type": "code",
   "execution_count": 10,
   "metadata": {
    "slideshow": {
     "slide_type": "slide"
    }
   },
   "outputs": [
    {
     "name": "stdout",
     "output_type": "stream",
     "text": [
      "M\tnotebooks/02-gitbasics.ipynb\n",
      "Your branch is up to date with 'origin/master'.\n",
      "Already up to date.\n"
     ]
    },
    {
     "name": "stderr",
     "output_type": "stream",
     "text": [
      "Switched to branch 'master'\n",
      "Everything up-to-date\n"
     ]
    }
   ],
   "source": [
    "%%bash\n",
    "git checkout master\n",
    "git merge mabranche\n",
    "git push origin master"
   ]
  },
  {
   "cell_type": "markdown",
   "metadata": {
    "slideshow": {
     "slide_type": "slide"
    }
   },
   "source": [
    "## Partager votre travail sur le serveur\n",
    "\n",
    "\n",
    "## Option 2 : Pousser la branche locale sur le serveur"
   ]
  },
  {
   "cell_type": "code",
   "execution_count": 11,
   "metadata": {
    "slideshow": {
     "slide_type": "slide"
    }
   },
   "outputs": [
    {
     "name": "stdout",
     "output_type": "stream",
     "text": [
      "M\tnotebooks/02-gitbasics.ipynb\n"
     ]
    },
    {
     "name": "stderr",
     "output_type": "stream",
     "text": [
      "Switched to branch 'mabranche'\n",
      "Everything up-to-date\n"
     ]
    }
   ],
   "source": [
    "%%bash\n",
    "git checkout mabranche\n",
    "git push origin mabranche"
   ]
  },
  {
   "cell_type": "markdown",
   "metadata": {
    "slideshow": {
     "slide_type": "slide"
    }
   },
   "source": [
    "## Mise à jour depuis le dépôt distant"
   ]
  },
  {
   "cell_type": "code",
   "execution_count": 12,
   "metadata": {
    "slideshow": {
     "slide_type": "slide"
    }
   },
   "outputs": [
    {
     "name": "stdout",
     "output_type": "stream",
     "text": [
      "M\tnotebooks/02-gitbasics.ipynb\n",
      "Your branch is up to date with 'origin/master'.\n",
      "Already up to date.\n"
     ]
    },
    {
     "name": "stderr",
     "output_type": "stream",
     "text": [
      "Switched to branch 'master'\n"
     ]
    }
   ],
   "source": [
    "%%bash\n",
    "git checkout master\n",
    "git fetch origin\n",
    "git merge origin/master"
   ]
  },
  {
   "cell_type": "code",
   "execution_count": 13,
   "metadata": {
    "slideshow": {
     "slide_type": "slide"
    }
   },
   "outputs": [
    {
     "name": "stdout",
     "output_type": "stream",
     "text": [
      "M\tnotebooks/02-gitbasics.ipynb\n",
      "Already up to date.\n"
     ]
    },
    {
     "name": "stderr",
     "output_type": "stream",
     "text": [
      "Switched to branch 'mabranche'\n"
     ]
    }
   ],
   "source": [
    "%%bash\n",
    "git checkout mabranche\n",
    "git merge master"
   ]
  },
  {
   "cell_type": "markdown",
   "metadata": {
    "slideshow": {
     "slide_type": "slide"
    }
   },
   "source": [
    "Si votre branche locale n'est pas présente sur le serveur, vous pouvez utiliser `rebase` à la place de `merge`. Cette opération permet de récrire l'historique en datant vos modifcations postérieures à la dernière modification de la branche master."
   ]
  },
  {
   "cell_type": "markdown",
   "metadata": {
    "slideshow": {
     "slide_type": "slide"
    }
   },
   "source": [
    "# Conflits"
   ]
  },
  {
   "cell_type": "markdown",
   "metadata": {
    "slideshow": {
     "slide_type": "slide"
    }
   },
   "source": [
    "```bash\n",
    "git mergetool\n",
    "```"
   ]
  },
  {
   "cell_type": "markdown",
   "metadata": {
    "slideshow": {
     "slide_type": "slide"
    }
   },
   "source": [
    "## Cycle \n",
    "\n",
    "![Cycle](images/git_cycle.png)"
   ]
  },
  {
   "cell_type": "markdown",
   "metadata": {
    "slideshow": {
     "slide_type": "slide"
    }
   },
   "source": [
    "## Développement pour garantir la stabibité\n",
    "\n",
    "![Branches](images/lr-branches-2.png)"
   ]
  },
  {
   "cell_type": "markdown",
   "metadata": {
    "slideshow": {
     "slide_type": "slide"
    }
   },
   "source": [
    "## Stash\n",
    "\n",
    "Permet d'enregistrer l'état de vos fichiers sans enregistrer les modifications par un `commit`"
   ]
  },
  {
   "cell_type": "code",
   "execution_count": 15,
   "metadata": {
    "slideshow": {
     "slide_type": "slide"
    }
   },
   "outputs": [
    {
     "name": "stdout",
     "output_type": "stream",
     "text": [
      "Saved working directory and index state WIP on mabranche: 1467489 Improve git notebook\n",
      " notebooks/02-gitbasics.ipynb | 1743 ++++++++++++++++++++++++++++++++++--------\n",
      " 1 file changed, 1421 insertions(+), 322 deletions(-)\n"
     ]
    }
   ],
   "source": [
    "%%bash\n",
    "git stash\n",
    "git stash show"
   ]
  },
  {
   "cell_type": "code",
   "execution_count": 18,
   "metadata": {
    "slideshow": {
     "slide_type": "slide"
    }
   },
   "outputs": [
    {
     "name": "stdout",
     "output_type": "stream",
     "text": [
      "On branch mabranche\n",
      "Changes not staged for commit:\n",
      "  (use \"git add <file>...\" to update what will be committed)\n",
      "  (use \"git restore <file>...\" to discard changes in working directory)\n",
      "\tmodified:   02-gitbasics.ipynb\n",
      "\n",
      "Untracked files:\n",
      "  (use \"git add <file>...\" to include in what will be committed)\n",
      "\t../Dockerfile\n",
      "\timages/git_cycle.png\n",
      "\timages/index1.png\n",
      "\timages/index2.png\n",
      "\timages/lr-branches-2.png\n",
      "\n",
      "no changes added to commit (use \"git add\" and/or \"git commit -a\")\n",
      "Dropped refs/stash@{0} (921f8b0e60e3af89a3ece52235000875eca39d50)\n"
     ]
    }
   ],
   "source": [
    "%%bash\n",
    "git stash pop"
   ]
  },
  {
   "cell_type": "markdown",
   "metadata": {
    "slideshow": {
     "slide_type": "slide"
    }
   },
   "source": [
    "Supprimer avec"
   ]
  },
  {
   "cell_type": "code",
   "execution_count": 19,
   "metadata": {
    "slideshow": {
     "slide_type": "fragment"
    }
   },
   "outputs": [
    {
     "name": "stderr",
     "output_type": "stream",
     "text": [
      "No stash entries found.\n"
     ]
    },
    {
     "ename": "CalledProcessError",
     "evalue": "Command 'b'git stash drop\\n'' returned non-zero exit status 1.",
     "output_type": "error",
     "traceback": [
      "\u001b[0;31m---------------------------------------------------------------------------\u001b[0m",
      "\u001b[0;31mCalledProcessError\u001b[0m                        Traceback (most recent call last)",
      "\u001b[0;32m<ipython-input-19-e5f939d7b59f>\u001b[0m in \u001b[0;36m<module>\u001b[0;34m\u001b[0m\n\u001b[0;32m----> 1\u001b[0;31m \u001b[0mget_ipython\u001b[0m\u001b[0;34m(\u001b[0m\u001b[0;34m)\u001b[0m\u001b[0;34m.\u001b[0m\u001b[0mrun_cell_magic\u001b[0m\u001b[0;34m(\u001b[0m\u001b[0;34m'bash'\u001b[0m\u001b[0;34m,\u001b[0m \u001b[0;34m''\u001b[0m\u001b[0;34m,\u001b[0m \u001b[0;34m'git stash drop\\n'\u001b[0m\u001b[0;34m)\u001b[0m\u001b[0;34m\u001b[0m\u001b[0;34m\u001b[0m\u001b[0m\n\u001b[0m",
      "\u001b[0;32m/usr/local/lib/python3.8/site-packages/IPython/core/interactiveshell.py\u001b[0m in \u001b[0;36mrun_cell_magic\u001b[0;34m(self, magic_name, line, cell)\u001b[0m\n\u001b[1;32m   2379\u001b[0m             \u001b[0;32mwith\u001b[0m \u001b[0mself\u001b[0m\u001b[0;34m.\u001b[0m\u001b[0mbuiltin_trap\u001b[0m\u001b[0;34m:\u001b[0m\u001b[0;34m\u001b[0m\u001b[0;34m\u001b[0m\u001b[0m\n\u001b[1;32m   2380\u001b[0m                 \u001b[0margs\u001b[0m \u001b[0;34m=\u001b[0m \u001b[0;34m(\u001b[0m\u001b[0mmagic_arg_s\u001b[0m\u001b[0;34m,\u001b[0m \u001b[0mcell\u001b[0m\u001b[0;34m)\u001b[0m\u001b[0;34m\u001b[0m\u001b[0;34m\u001b[0m\u001b[0m\n\u001b[0;32m-> 2381\u001b[0;31m                 \u001b[0mresult\u001b[0m \u001b[0;34m=\u001b[0m \u001b[0mfn\u001b[0m\u001b[0;34m(\u001b[0m\u001b[0;34m*\u001b[0m\u001b[0margs\u001b[0m\u001b[0;34m,\u001b[0m \u001b[0;34m**\u001b[0m\u001b[0mkwargs\u001b[0m\u001b[0;34m)\u001b[0m\u001b[0;34m\u001b[0m\u001b[0;34m\u001b[0m\u001b[0m\n\u001b[0m\u001b[1;32m   2382\u001b[0m             \u001b[0;32mreturn\u001b[0m \u001b[0mresult\u001b[0m\u001b[0;34m\u001b[0m\u001b[0;34m\u001b[0m\u001b[0m\n\u001b[1;32m   2383\u001b[0m \u001b[0;34m\u001b[0m\u001b[0m\n",
      "\u001b[0;32m/usr/local/lib/python3.8/site-packages/IPython/core/magics/script.py\u001b[0m in \u001b[0;36mnamed_script_magic\u001b[0;34m(line, cell)\u001b[0m\n\u001b[1;32m    140\u001b[0m             \u001b[0;32melse\u001b[0m\u001b[0;34m:\u001b[0m\u001b[0;34m\u001b[0m\u001b[0;34m\u001b[0m\u001b[0m\n\u001b[1;32m    141\u001b[0m                 \u001b[0mline\u001b[0m \u001b[0;34m=\u001b[0m \u001b[0mscript\u001b[0m\u001b[0;34m\u001b[0m\u001b[0;34m\u001b[0m\u001b[0m\n\u001b[0;32m--> 142\u001b[0;31m             \u001b[0;32mreturn\u001b[0m \u001b[0mself\u001b[0m\u001b[0;34m.\u001b[0m\u001b[0mshebang\u001b[0m\u001b[0;34m(\u001b[0m\u001b[0mline\u001b[0m\u001b[0;34m,\u001b[0m \u001b[0mcell\u001b[0m\u001b[0;34m)\u001b[0m\u001b[0;34m\u001b[0m\u001b[0;34m\u001b[0m\u001b[0m\n\u001b[0m\u001b[1;32m    143\u001b[0m \u001b[0;34m\u001b[0m\u001b[0m\n\u001b[1;32m    144\u001b[0m         \u001b[0;31m# write a basic docstring:\u001b[0m\u001b[0;34m\u001b[0m\u001b[0;34m\u001b[0m\u001b[0;34m\u001b[0m\u001b[0m\n",
      "\u001b[0;32m<decorator-gen-103>\u001b[0m in \u001b[0;36mshebang\u001b[0;34m(self, line, cell)\u001b[0m\n",
      "\u001b[0;32m/usr/local/lib/python3.8/site-packages/IPython/core/magic.py\u001b[0m in \u001b[0;36m<lambda>\u001b[0;34m(f, *a, **k)\u001b[0m\n\u001b[1;32m    185\u001b[0m     \u001b[0;31m# but it's overkill for just that one bit of state.\u001b[0m\u001b[0;34m\u001b[0m\u001b[0;34m\u001b[0m\u001b[0;34m\u001b[0m\u001b[0m\n\u001b[1;32m    186\u001b[0m     \u001b[0;32mdef\u001b[0m \u001b[0mmagic_deco\u001b[0m\u001b[0;34m(\u001b[0m\u001b[0marg\u001b[0m\u001b[0;34m)\u001b[0m\u001b[0;34m:\u001b[0m\u001b[0;34m\u001b[0m\u001b[0;34m\u001b[0m\u001b[0m\n\u001b[0;32m--> 187\u001b[0;31m         \u001b[0mcall\u001b[0m \u001b[0;34m=\u001b[0m \u001b[0;32mlambda\u001b[0m \u001b[0mf\u001b[0m\u001b[0;34m,\u001b[0m \u001b[0;34m*\u001b[0m\u001b[0ma\u001b[0m\u001b[0;34m,\u001b[0m \u001b[0;34m**\u001b[0m\u001b[0mk\u001b[0m\u001b[0;34m:\u001b[0m \u001b[0mf\u001b[0m\u001b[0;34m(\u001b[0m\u001b[0;34m*\u001b[0m\u001b[0ma\u001b[0m\u001b[0;34m,\u001b[0m \u001b[0;34m**\u001b[0m\u001b[0mk\u001b[0m\u001b[0;34m)\u001b[0m\u001b[0;34m\u001b[0m\u001b[0;34m\u001b[0m\u001b[0m\n\u001b[0m\u001b[1;32m    188\u001b[0m \u001b[0;34m\u001b[0m\u001b[0m\n\u001b[1;32m    189\u001b[0m         \u001b[0;32mif\u001b[0m \u001b[0mcallable\u001b[0m\u001b[0;34m(\u001b[0m\u001b[0marg\u001b[0m\u001b[0;34m)\u001b[0m\u001b[0;34m:\u001b[0m\u001b[0;34m\u001b[0m\u001b[0;34m\u001b[0m\u001b[0m\n",
      "\u001b[0;32m/usr/local/lib/python3.8/site-packages/IPython/core/magics/script.py\u001b[0m in \u001b[0;36mshebang\u001b[0;34m(self, line, cell)\u001b[0m\n\u001b[1;32m    243\u001b[0m             \u001b[0msys\u001b[0m\u001b[0;34m.\u001b[0m\u001b[0mstderr\u001b[0m\u001b[0;34m.\u001b[0m\u001b[0mflush\u001b[0m\u001b[0;34m(\u001b[0m\u001b[0;34m)\u001b[0m\u001b[0;34m\u001b[0m\u001b[0;34m\u001b[0m\u001b[0m\n\u001b[1;32m    244\u001b[0m         \u001b[0;32mif\u001b[0m \u001b[0margs\u001b[0m\u001b[0;34m.\u001b[0m\u001b[0mraise_error\u001b[0m \u001b[0;32mand\u001b[0m \u001b[0mp\u001b[0m\u001b[0;34m.\u001b[0m\u001b[0mreturncode\u001b[0m\u001b[0;34m!=\u001b[0m\u001b[0;36m0\u001b[0m\u001b[0;34m:\u001b[0m\u001b[0;34m\u001b[0m\u001b[0;34m\u001b[0m\u001b[0m\n\u001b[0;32m--> 245\u001b[0;31m             \u001b[0;32mraise\u001b[0m \u001b[0mCalledProcessError\u001b[0m\u001b[0;34m(\u001b[0m\u001b[0mp\u001b[0m\u001b[0;34m.\u001b[0m\u001b[0mreturncode\u001b[0m\u001b[0;34m,\u001b[0m \u001b[0mcell\u001b[0m\u001b[0;34m,\u001b[0m \u001b[0moutput\u001b[0m\u001b[0;34m=\u001b[0m\u001b[0mout\u001b[0m\u001b[0;34m,\u001b[0m \u001b[0mstderr\u001b[0m\u001b[0;34m=\u001b[0m\u001b[0merr\u001b[0m\u001b[0;34m)\u001b[0m\u001b[0;34m\u001b[0m\u001b[0;34m\u001b[0m\u001b[0m\n\u001b[0m\u001b[1;32m    246\u001b[0m \u001b[0;34m\u001b[0m\u001b[0m\n\u001b[1;32m    247\u001b[0m     \u001b[0;32mdef\u001b[0m \u001b[0m_run_script\u001b[0m\u001b[0;34m(\u001b[0m\u001b[0mself\u001b[0m\u001b[0;34m,\u001b[0m \u001b[0mp\u001b[0m\u001b[0;34m,\u001b[0m \u001b[0mcell\u001b[0m\u001b[0;34m,\u001b[0m \u001b[0mto_close\u001b[0m\u001b[0;34m)\u001b[0m\u001b[0;34m:\u001b[0m\u001b[0;34m\u001b[0m\u001b[0;34m\u001b[0m\u001b[0m\n",
      "\u001b[0;31mCalledProcessError\u001b[0m: Command 'b'git stash drop\\n'' returned non-zero exit status 1."
     ]
    }
   ],
   "source": [
    "%%bash\n",
    "git stash drop"
   ]
  },
  {
   "cell_type": "markdown",
   "metadata": {
    "slideshow": {
     "slide_type": "slide"
    }
   },
   "source": [
    "## Pourquoi Git ?\n",
    "\n",
    "- Tracer et controler les modifications dans un logiciel.\n",
    "- Branches : Développement dédié pouvant fonctionner en paralléle.\n",
    "- Tout est local : Git est rapide.\n",
    "- Des sauvegardes trés nombreuses.\n",
    "- Cette distinction local-distant offre plus de sécurité\n",
    "- Le mécanisme des `pull request` favorise la relecture et est une garantie supplémentaire de stabilité."
   ]
  },
  {
   "cell_type": "markdown",
   "metadata": {
    "slideshow": {
     "slide_type": "slide"
    }
   },
   "source": [
    "## Pourquoi pas\n",
    "\n",
    "- Difficile à comprendre pour les anciens adpetes de cvs et subversion.\n",
    "- Syntaxe en ligne de commande un peu folle et parfois confuse.\n",
    "- Il faut parfois enchainer beaucoup d'instructions pour des opérations assez simples.\n",
    "- L'historique créé par git est parfois étrange, certaines modifications peuvent changer d'auteur.\n",
    "- On peut détruire le dépôt distant involontairement.\n",
    "- Offre beaucoup de confort au responsable de la maintenance du code au détriment des contributeurs."
   ]
  },
  {
   "cell_type": "markdown",
   "metadata": {
    "slideshow": {
     "slide_type": "slide"
    }
   },
   "source": [
    "## Quelques commandes utiles\n",
    "\n",
    "- Quels fichiers différent dans deux branches distinctes ?"
   ]
  },
  {
   "cell_type": "code",
   "execution_count": 20,
   "metadata": {
    "slideshow": {
     "slide_type": "slide"
    }
   },
   "outputs": [
    {
     "name": "stderr",
     "output_type": "stream",
     "text": [
      "fatal: ambiguous argument 'master..mybranch': unknown revision or path not in the working tree.\n",
      "Use '--' to separate paths from revisions, like this:\n",
      "'git <command> [<revision>...] -- [<file>...]'\n"
     ]
    },
    {
     "ename": "CalledProcessError",
     "evalue": "Command 'b'git diff --name-status master..mybranch\\n'' returned non-zero exit status 128.",
     "output_type": "error",
     "traceback": [
      "\u001b[0;31m---------------------------------------------------------------------------\u001b[0m",
      "\u001b[0;31mCalledProcessError\u001b[0m                        Traceback (most recent call last)",
      "\u001b[0;32m<ipython-input-20-032ee5eed483>\u001b[0m in \u001b[0;36m<module>\u001b[0;34m\u001b[0m\n\u001b[0;32m----> 1\u001b[0;31m \u001b[0mget_ipython\u001b[0m\u001b[0;34m(\u001b[0m\u001b[0;34m)\u001b[0m\u001b[0;34m.\u001b[0m\u001b[0mrun_cell_magic\u001b[0m\u001b[0;34m(\u001b[0m\u001b[0;34m'bash'\u001b[0m\u001b[0;34m,\u001b[0m \u001b[0;34m''\u001b[0m\u001b[0;34m,\u001b[0m \u001b[0;34m'git diff --name-status master..mybranch\\n'\u001b[0m\u001b[0;34m)\u001b[0m\u001b[0;34m\u001b[0m\u001b[0;34m\u001b[0m\u001b[0m\n\u001b[0m",
      "\u001b[0;32m/usr/local/lib/python3.8/site-packages/IPython/core/interactiveshell.py\u001b[0m in \u001b[0;36mrun_cell_magic\u001b[0;34m(self, magic_name, line, cell)\u001b[0m\n\u001b[1;32m   2379\u001b[0m             \u001b[0;32mwith\u001b[0m \u001b[0mself\u001b[0m\u001b[0;34m.\u001b[0m\u001b[0mbuiltin_trap\u001b[0m\u001b[0;34m:\u001b[0m\u001b[0;34m\u001b[0m\u001b[0;34m\u001b[0m\u001b[0m\n\u001b[1;32m   2380\u001b[0m                 \u001b[0margs\u001b[0m \u001b[0;34m=\u001b[0m \u001b[0;34m(\u001b[0m\u001b[0mmagic_arg_s\u001b[0m\u001b[0;34m,\u001b[0m \u001b[0mcell\u001b[0m\u001b[0;34m)\u001b[0m\u001b[0;34m\u001b[0m\u001b[0;34m\u001b[0m\u001b[0m\n\u001b[0;32m-> 2381\u001b[0;31m                 \u001b[0mresult\u001b[0m \u001b[0;34m=\u001b[0m \u001b[0mfn\u001b[0m\u001b[0;34m(\u001b[0m\u001b[0;34m*\u001b[0m\u001b[0margs\u001b[0m\u001b[0;34m,\u001b[0m \u001b[0;34m**\u001b[0m\u001b[0mkwargs\u001b[0m\u001b[0;34m)\u001b[0m\u001b[0;34m\u001b[0m\u001b[0;34m\u001b[0m\u001b[0m\n\u001b[0m\u001b[1;32m   2382\u001b[0m             \u001b[0;32mreturn\u001b[0m \u001b[0mresult\u001b[0m\u001b[0;34m\u001b[0m\u001b[0;34m\u001b[0m\u001b[0m\n\u001b[1;32m   2383\u001b[0m \u001b[0;34m\u001b[0m\u001b[0m\n",
      "\u001b[0;32m/usr/local/lib/python3.8/site-packages/IPython/core/magics/script.py\u001b[0m in \u001b[0;36mnamed_script_magic\u001b[0;34m(line, cell)\u001b[0m\n\u001b[1;32m    140\u001b[0m             \u001b[0;32melse\u001b[0m\u001b[0;34m:\u001b[0m\u001b[0;34m\u001b[0m\u001b[0;34m\u001b[0m\u001b[0m\n\u001b[1;32m    141\u001b[0m                 \u001b[0mline\u001b[0m \u001b[0;34m=\u001b[0m \u001b[0mscript\u001b[0m\u001b[0;34m\u001b[0m\u001b[0;34m\u001b[0m\u001b[0m\n\u001b[0;32m--> 142\u001b[0;31m             \u001b[0;32mreturn\u001b[0m \u001b[0mself\u001b[0m\u001b[0;34m.\u001b[0m\u001b[0mshebang\u001b[0m\u001b[0;34m(\u001b[0m\u001b[0mline\u001b[0m\u001b[0;34m,\u001b[0m \u001b[0mcell\u001b[0m\u001b[0;34m)\u001b[0m\u001b[0;34m\u001b[0m\u001b[0;34m\u001b[0m\u001b[0m\n\u001b[0m\u001b[1;32m    143\u001b[0m \u001b[0;34m\u001b[0m\u001b[0m\n\u001b[1;32m    144\u001b[0m         \u001b[0;31m# write a basic docstring:\u001b[0m\u001b[0;34m\u001b[0m\u001b[0;34m\u001b[0m\u001b[0;34m\u001b[0m\u001b[0m\n",
      "\u001b[0;32m<decorator-gen-103>\u001b[0m in \u001b[0;36mshebang\u001b[0;34m(self, line, cell)\u001b[0m\n",
      "\u001b[0;32m/usr/local/lib/python3.8/site-packages/IPython/core/magic.py\u001b[0m in \u001b[0;36m<lambda>\u001b[0;34m(f, *a, **k)\u001b[0m\n\u001b[1;32m    185\u001b[0m     \u001b[0;31m# but it's overkill for just that one bit of state.\u001b[0m\u001b[0;34m\u001b[0m\u001b[0;34m\u001b[0m\u001b[0;34m\u001b[0m\u001b[0m\n\u001b[1;32m    186\u001b[0m     \u001b[0;32mdef\u001b[0m \u001b[0mmagic_deco\u001b[0m\u001b[0;34m(\u001b[0m\u001b[0marg\u001b[0m\u001b[0;34m)\u001b[0m\u001b[0;34m:\u001b[0m\u001b[0;34m\u001b[0m\u001b[0;34m\u001b[0m\u001b[0m\n\u001b[0;32m--> 187\u001b[0;31m         \u001b[0mcall\u001b[0m \u001b[0;34m=\u001b[0m \u001b[0;32mlambda\u001b[0m \u001b[0mf\u001b[0m\u001b[0;34m,\u001b[0m \u001b[0;34m*\u001b[0m\u001b[0ma\u001b[0m\u001b[0;34m,\u001b[0m \u001b[0;34m**\u001b[0m\u001b[0mk\u001b[0m\u001b[0;34m:\u001b[0m \u001b[0mf\u001b[0m\u001b[0;34m(\u001b[0m\u001b[0;34m*\u001b[0m\u001b[0ma\u001b[0m\u001b[0;34m,\u001b[0m \u001b[0;34m**\u001b[0m\u001b[0mk\u001b[0m\u001b[0;34m)\u001b[0m\u001b[0;34m\u001b[0m\u001b[0;34m\u001b[0m\u001b[0m\n\u001b[0m\u001b[1;32m    188\u001b[0m \u001b[0;34m\u001b[0m\u001b[0m\n\u001b[1;32m    189\u001b[0m         \u001b[0;32mif\u001b[0m \u001b[0mcallable\u001b[0m\u001b[0;34m(\u001b[0m\u001b[0marg\u001b[0m\u001b[0;34m)\u001b[0m\u001b[0;34m:\u001b[0m\u001b[0;34m\u001b[0m\u001b[0;34m\u001b[0m\u001b[0m\n",
      "\u001b[0;32m/usr/local/lib/python3.8/site-packages/IPython/core/magics/script.py\u001b[0m in \u001b[0;36mshebang\u001b[0;34m(self, line, cell)\u001b[0m\n\u001b[1;32m    243\u001b[0m             \u001b[0msys\u001b[0m\u001b[0;34m.\u001b[0m\u001b[0mstderr\u001b[0m\u001b[0;34m.\u001b[0m\u001b[0mflush\u001b[0m\u001b[0;34m(\u001b[0m\u001b[0;34m)\u001b[0m\u001b[0;34m\u001b[0m\u001b[0;34m\u001b[0m\u001b[0m\n\u001b[1;32m    244\u001b[0m         \u001b[0;32mif\u001b[0m \u001b[0margs\u001b[0m\u001b[0;34m.\u001b[0m\u001b[0mraise_error\u001b[0m \u001b[0;32mand\u001b[0m \u001b[0mp\u001b[0m\u001b[0;34m.\u001b[0m\u001b[0mreturncode\u001b[0m\u001b[0;34m!=\u001b[0m\u001b[0;36m0\u001b[0m\u001b[0;34m:\u001b[0m\u001b[0;34m\u001b[0m\u001b[0;34m\u001b[0m\u001b[0m\n\u001b[0;32m--> 245\u001b[0;31m             \u001b[0;32mraise\u001b[0m \u001b[0mCalledProcessError\u001b[0m\u001b[0;34m(\u001b[0m\u001b[0mp\u001b[0m\u001b[0;34m.\u001b[0m\u001b[0mreturncode\u001b[0m\u001b[0;34m,\u001b[0m \u001b[0mcell\u001b[0m\u001b[0;34m,\u001b[0m \u001b[0moutput\u001b[0m\u001b[0;34m=\u001b[0m\u001b[0mout\u001b[0m\u001b[0;34m,\u001b[0m \u001b[0mstderr\u001b[0m\u001b[0;34m=\u001b[0m\u001b[0merr\u001b[0m\u001b[0;34m)\u001b[0m\u001b[0;34m\u001b[0m\u001b[0;34m\u001b[0m\u001b[0m\n\u001b[0m\u001b[1;32m    246\u001b[0m \u001b[0;34m\u001b[0m\u001b[0m\n\u001b[1;32m    247\u001b[0m     \u001b[0;32mdef\u001b[0m \u001b[0m_run_script\u001b[0m\u001b[0;34m(\u001b[0m\u001b[0mself\u001b[0m\u001b[0;34m,\u001b[0m \u001b[0mp\u001b[0m\u001b[0;34m,\u001b[0m \u001b[0mcell\u001b[0m\u001b[0;34m,\u001b[0m \u001b[0mto_close\u001b[0m\u001b[0;34m)\u001b[0m\u001b[0;34m:\u001b[0m\u001b[0;34m\u001b[0m\u001b[0;34m\u001b[0m\u001b[0m\n",
      "\u001b[0;31mCalledProcessError\u001b[0m: Command 'b'git diff --name-status master..mybranch\\n'' returned non-zero exit status 128."
     ]
    }
   ],
   "source": [
    "%%bash\n",
    "git diff --name-status master..mybranch"
   ]
  },
  {
   "cell_type": "markdown",
   "metadata": {
    "slideshow": {
     "slide_type": "slide"
    }
   },
   "source": [
    "- Comparer la version sur la branche principale avec une autre branche"
   ]
  },
  {
   "cell_type": "code",
   "execution_count": 21,
   "metadata": {
    "slideshow": {
     "slide_type": "fragment"
    }
   },
   "outputs": [],
   "source": [
    "%%bash\n",
    "git diff mabranche master -- intro.md"
   ]
  },
  {
   "cell_type": "markdown",
   "metadata": {
    "slideshow": {
     "slide_type": "slide"
    }
   },
   "source": [
    "- Effacer tous les fichiers ignorés (a faire après un commit)"
   ]
  },
  {
   "cell_type": "markdown",
   "metadata": {
    "slideshow": {
     "slide_type": "fragment"
    }
   },
   "source": [
    "```\n",
    "git clean -xdf\n",
    "```"
   ]
  },
  {
   "cell_type": "markdown",
   "metadata": {
    "slideshow": {
     "slide_type": "slide"
    }
   },
   "source": [
    "- Ignorer tous les changements et revenir au point de départ"
   ]
  },
  {
   "cell_type": "markdown",
   "metadata": {
    "slideshow": {
     "slide_type": "fragment"
    }
   },
   "source": [
    "%%bash\n",
    "git checkout myfile.cpp\n",
    "git reset --hard"
   ]
  },
  {
   "cell_type": "markdown",
   "metadata": {
    "slideshow": {
     "slide_type": "slide"
    }
   },
   "source": [
    "## Utiliser git plus facilement\n",
    "\n",
    "- [GitHub Desktop](https://desktop.github.com/)\n",
    "- [Sourcetree](https://fr.atlassian.com/software/sourcetree)\n",
    "- [GitKraken](https://www.gitkraken.com/)\n",
    "- [Fork](https://git-fork.com)\n",
    "- [Plugin RStudio](https://www.rstudio.com/)\n",
    "- [Plugin Eclipse](https://www.eclipse.org/downloads/)\n",
    "- [Produits JetBrains](https://www.jetbrains.com/)"
   ]
  }
 ],
 "metadata": {
  "@webio": {
   "lastCommId": null,
   "lastKernelId": null
  },
  "celltoolbar": "Slideshow",
  "jupytext": {
   "cell_metadata_filter": "-all",
   "notebook_metadata_filter": "-all"
  },
  "kernelspec": {
   "display_name": "Python 3",
   "language": "python",
   "name": "python3"
  },
  "language_info": {
   "codemirror_mode": {
    "name": "ipython",
    "version": 3
   },
   "file_extension": ".py",
   "mimetype": "text/x-python",
   "name": "python",
   "nbconvert_exporter": "python",
   "pygments_lexer": "ipython3",
   "version": "3.8.5"
  }
 },
 "nbformat": 4,
 "nbformat_minor": 2
}

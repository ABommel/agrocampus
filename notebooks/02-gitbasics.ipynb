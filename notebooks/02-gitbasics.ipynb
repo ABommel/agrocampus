{
 "cells": [
  {
   "cell_type": "markdown",
   "metadata": {
    "slideshow": {
     "slide_type": "slide"
    }
   },
   "source": [
    "# Git\n",
    "\n",
    "Git est un logiciel de gestion de versions.\n",
    "\n",
    "Site officiel https://git-scm.com"
   ]
  },
  {
   "cell_type": "markdown",
   "metadata": {
    "slideshow": {
     "slide_type": "slide"
    }
   },
   "source": [
    "# GitHub\n",
    "\n",
    "- Service web utilisant Git comme gestionnaire de version. \n",
    "- Github permet d'enregistrer et partager toutes les étapes de développement d'un logiciel ou de la rédaction d'un document au format texte au cours du temps. A tout moment vous pouvez revenir à une précedente version, l'ensemble de l'historique est toujours préservé. \n",
    "- Github permet d'organiser un travail collaboratif avec différents niveaux d'accès, la gestion des bugs et hébergement de la documentation.\n",
    "- Github est la plus grande bibliothèque de codes du monde."
   ]
  },
  {
   "cell_type": "markdown",
   "metadata": {
    "slideshow": {
     "slide_type": "slide"
    }
   },
   "source": [
    "# SCM (Source Code Management)\n",
    "\n",
    "- Enregistrement des changements dans un ou plusieurs fichiers au cours du temps.\n",
    "- Vous pouvez revenir a tout moment vers une version précedente.\n",
    "- Fonctionne avec tout type de document.\n",
    "- Excellent moyen pour collaborer sur un même document.\n",
    "- Chaque modification enregistrée est datée avec le nom de son auteur.\n",
    "- Les figures proviennent du [Pro Git book](http://git-scm.com/book).\n",
    "- Ce support est fortement inspiré de \"Become a git guru\" (https://www.atlassian.com/git/tutorials)."
   ]
  },
  {
   "cell_type": "markdown",
   "metadata": {
    "slideshow": {
     "slide_type": "slide"
    }
   },
   "source": [
    "# Gestion distribuée des versions\n",
    "\n",
    "<img src=\"images/git.png\" alt=\"git\" width=\"300px\"/>\n",
    "\n",
    "- Chaque membre du projet possède ne copie totale du projet\n",
    "- On peut contribuer seul ou a plusieurs.\n",
    "- Pas besoin de connexion réseau\n",
    "- Les sauvegardes sont très nombreuses grâce à ce système.\n",
    " \n",
    " "
   ]
  },
  {
   "cell_type": "markdown",
   "metadata": {
    "slideshow": {
     "slide_type": "slide"
    }
   },
   "source": [
    "# Configuration\n",
    "\n",
    "Il faut renseigner votre identité avec votre adresse de messagerie\n",
    "\n",
    "```\n",
    "git config --global user.name “Prenom Nom\"\n",
    "git config --global user.email “prenom.nom@domaine.fr\"\n",
    "```"
   ]
  },
  {
   "cell_type": "markdown",
   "metadata": {
    "slideshow": {
     "slide_type": "slide"
    }
   },
   "source": [
    "# Clonage du dépôt\n",
    "\n",
    "git clone https://github.com/pnavaro/big-data.git"
   ]
  },
  {
   "cell_type": "markdown",
   "metadata": {
    "slideshow": {
     "slide_type": "fragment"
    }
   },
   "source": [
    "# To save your work locally create a branch\n",
    "\n",
    "```bash\n",
    "git checkout -b my_branch\n",
    "```"
   ]
  },
  {
   "cell_type": "markdown",
   "metadata": {},
   "source": [
    "# Four File status in the repository\n",
    "  \n",
    "<img src=\"images/18333fig0201-tn.png\" alt=\"git\" width=\"450px\"/>"
   ]
  },
  {
   "cell_type": "markdown",
   "metadata": {
    "slideshow": {
     "slide_type": "slide"
    }
   },
   "source": [
    "# Git Workflow\n",
    "\n",
    "<img src=\"images/four_stages.png\" alt=\"git\" width=\"150px\"/>"
   ]
  },
  {
   "cell_type": "markdown",
   "metadata": {
    "slideshow": {
     "slide_type": "slide"
    }
   },
   "source": [
    "# Locally saving your modifications\n",
    "\n",
    "Get your files status"
   ]
  },
  {
   "cell_type": "code",
   "execution_count": 1,
   "metadata": {
    "slideshow": {
     "slide_type": "slide"
    }
   },
   "outputs": [
    {
     "name": "stdout",
     "output_type": "stream",
     "text": [
      "On branch master\n",
      "Your branch is up to date with 'origin/master'.\n",
      "\n",
      "Changes not staged for commit:\n",
      "  (use \"git add <file>...\" to update what will be committed)\n",
      "  (use \"git restore <file>...\" to discard changes in working directory)\n",
      "\tmodified:   ../pyproject.toml\n",
      "\n",
      "Untracked files:\n",
      "  (use \"git add <file>...\" to include in what will be committed)\n",
      "\t../.doit.db\n",
      "\t../nbcourse.yml\n",
      "\t../pages/\n",
      "\t../theme/\n",
      "\n",
      "no changes added to commit (use \"git add\" and/or \"git commit -a\")\n"
     ]
    }
   ],
   "source": [
    "%%bash\n",
    "git status"
   ]
  },
  {
   "cell_type": "markdown",
   "metadata": {
    "slideshow": {
     "slide_type": "slide"
    }
   },
   "source": [
    "# Add the modified file to the index\n",
    "\n",
    "```bash\n",
    "git add your_notebook_copy.ipynb\n",
    "```"
   ]
  },
  {
   "cell_type": "markdown",
   "metadata": {
    "slideshow": {
     "slide_type": "fragment"
    }
   },
   "source": [
    "Checking which files are ready to be committed."
   ]
  },
  {
   "cell_type": "markdown",
   "metadata": {
    "slideshow": {
     "slide_type": "fragment"
    }
   },
   "source": [
    "```bash\n",
    "git status\n",
    "```"
   ]
  },
  {
   "cell_type": "markdown",
   "metadata": {
    "slideshow": {
     "slide_type": "slide"
    }
   },
   "source": [
    "Now save your work, the branch is local.\n",
    "\n",
    "```bash\n",
    "git commit -m 'Some modifications'\n",
    "```"
   ]
  },
  {
   "cell_type": "markdown",
   "metadata": {
    "slideshow": {
     "slide_type": "slide"
    }
   },
   "source": [
    "# Updating from the Repository\n",
    "\n",
    "If the master branch has changed. To get all new updates :"
   ]
  },
  {
   "cell_type": "markdown",
   "metadata": {
    "attributes": {
     "classes": [
      "git"
     ],
     "id": ""
    },
    "slideshow": {
     "slide_type": "fragment"
    }
   },
   "source": [
    "```bash\n",
    "git pull origin master\n",
    "```"
   ]
  },
  {
   "cell_type": "markdown",
   "metadata": {
    "slideshow": {
     "slide_type": "slide"
    }
   },
   "source": [
    "# Solve conflicts\n",
    "\n",
    "- If you have some conflicts, no problem just do :\n",
    "\n",
    "```bash\n",
    "git checkout notebook.ipynb\n",
    "```\n",
    "\n",
    "It will give you back the original version of notebook.ipynb\n",
    "\n",
    "- If you have big troubles, you can do\n",
    "\n",
    "```bash\n",
    "git reset --hard\n",
    "```\n",
    "\n",
    "Be careful with this last command, you remove uncommited changes.\n"
   ]
  },
  {
   "cell_type": "markdown",
   "metadata": {
    "slideshow": {
     "slide_type": "slide"
    }
   },
   "source": [
    "# Git through IDE\n",
    "\n",
    "- Install bash-completion and source git-prompt.sh.\n",
    "- Use Gui tools:\n",
    "\t- [GitHub Desktop](https://desktop.github.com/)\n",
    "\t- [Sourcetree](https://fr.atlassian.com/software/sourcetree)\n",
    "\t- [GitKraken](https://www.gitkraken.com/)\n",
    "- VCS plugin of IDE\n",
    "\t- [RStudio](https://www.rstudio.com/)\n",
    "\t- [Eclipse](https://www.eclipse.org/downloads/)\n",
    "\t- [JetBrains](https://www.jetbrains.com/)"
   ]
  }
 ],
 "metadata": {
  "@webio": {
   "lastCommId": null,
   "lastKernelId": null
  },
  "jupytext": {
   "formats": "ipynb,../src//py"
  },
  "kernelspec": {
   "display_name": "Python 3",
   "language": "python",
   "name": "python3"
  },
  "language_info": {
   "codemirror_mode": {
    "name": "ipython",
    "version": 3
   },
   "file_extension": ".py",
   "mimetype": "text/x-python",
   "name": "python",
   "nbconvert_exporter": "python",
   "pygments_lexer": "ipython3",
   "version": "3.8.5"
  }
 },
 "nbformat": 4,
 "nbformat_minor": 2
}

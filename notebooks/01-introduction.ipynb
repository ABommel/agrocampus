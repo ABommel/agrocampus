{
 "cells": [
  {
   "cell_type": "markdown",
   "metadata": {
    "slideshow": {
     "slide_type": "slide"
    }
   },
   "source": [
    "# Installation \n",
    "\n",
    "Pour construire note site, nous avez besoin d'une distribution Python. [Miniconda](https://conda.io/miniconda.html) est une solution légère permettant d'installer tous les packages nécessaires.\n",
    "\n",
    "Une fois installer miniconda en ayant suivi les instructions, ouvrez un terminal sur Linux/Macos ou un anaconda prompt sur Windows.\n"
   ]
  },
  {
   "cell_type": "markdown",
   "metadata": {
    "slideshow": {
     "slide_type": "slide"
    }
   },
   "source": [
    "## Environement conda\n",
    "\n",
    "```bash\n",
    "git clone https://gitlab.math.unistra.fr/navaro/agrocampus\n",
    "cd agrocampus\n",
    "conda env create\n",
    "```\n",
    "\n",
    "[documentation](https://conda.io/docs/using/envs.html)."
   ]
  },
  {
   "cell_type": "markdown",
   "metadata": {},
   "source": [
    "L'environement est créé a partir d'un fichier nommé `environment.yml` qui contient la liste des packages dont nous avons besoin.\n",
    "\n"
   ]
  },
  {
   "cell_type": "markdown",
   "metadata": {
    "slideshow": {
     "slide_type": "slide"
    }
   },
   "source": [
    "## Activer l'environment conda\n",
    "\n",
    "Lorsque vous activer l'environement conda, votre configuration du terminal est modifiée et la version\n",
    "de python qui sera disponible sera celle ou tous nos packages seront installés.\n",
    "<pre>\n",
    "$ conda activate big-data\n",
    "(big-data) $ python\n",
    "Python 3.6.2 (default, Jul 17 2017, 16:44:45) \n",
    "[GCC 4.2.1 Compatible Apple LLVM 8.1.0 (clang-802.0.42)] on darwin\n",
    "Type \"help\", \"copyright\", \"credits\" or \"license\" for more information.\n",
    ">>> quit()\n",
    "</pre>\n",
    "\n",
    "\n",
    "\n",
    "**You must do this everytime you open a new terminal**"
   ]
  },
  {
   "cell_type": "markdown",
   "metadata": {},
   "source": [
    "## Create the kernel for jupyter\n",
    "\n",
    "```bash\n",
    "python -m ipykernel install --user \\\n",
    "       --name big-data\n",
    "```"
   ]
  },
  {
   "cell_type": "markdown",
   "metadata": {},
   "source": [
    "\n",
    "# Jupyter Notebook\n",
    "\n",
    "Jupyter notebook, formerly known as the IPython notebook, is a flexible tool that helps you create readable analyses, as you can keep code, images, comments, formulae and plots together.\n",
    "\n",
    "Jupyter is quite extensible, supports many programming languages and is easily hosted on your computer or on almost any server — you only need to have ssh or http access. Best of all, it's completely free.\n",
    "\n",
    "The name Jupyter is an indirect acronyum of the three core languages it was designed for: **JU**lia, **PYT**hon, and **R**"
   ]
  },
  {
   "cell_type": "markdown",
   "metadata": {
    "slideshow": {
     "slide_type": "slide"
    }
   },
   "source": [
    "# Installation \n",
    " \n",
    "## Installation with conda\n",
    "```bash\n",
    "conda install -c conda-forge jupyter\n",
    "```\n",
    "\n",
    "## with pip\n",
    "```bash\n",
    "pip install jupyter\n",
    "```"
   ]
  },
  {
   "cell_type": "markdown",
   "metadata": {
    "slideshow": {
     "slide_type": "slide"
    }
   },
   "source": [
    "## Installing Python Packages from a Jupyter Notebook\n",
    "\n",
    "### Install a conda package in the current Jupyter kernel\n",
    "\n",
    "Example with package `numpy` from *conda-forge*\n",
    "```python\n",
    "import sys\n",
    "!conda install --yes --prefix {sys.prefix} -c conda-forge numpy\n",
    "```\n",
    "\n",
    "### Install a pip package in the current Jupyter kernel\n",
    "```\n",
    "import sys\n",
    "!{sys.executable} -m pip install numpy\n",
    "```"
   ]
  },
  {
   "cell_type": "markdown",
   "metadata": {},
   "source": [
    "## Keyboard Shortcuts\n",
    "\n",
    "- To access keyboard shortcuts, use the command palette: `Cmd + Shift + P`\n",
    "\n",
    "- `Esc` will take you into command mode where you can navigate around your notebook with arrow keys.\n",
    "- While in command mode:\n",
    "   - A to insert a new cell above the current cell, B to insert a new cell below.\n",
    "   - M to change the current cell to Markdown, Y to change it back to code\n",
    "   - D + D (press the key twice) to delete the current cell\n"
   ]
  },
  {
   "cell_type": "markdown",
   "metadata": {},
   "source": [
    "## Easy links to documentation\n",
    "\n",
    "- Shift + Tab will also show you the Docstring"
   ]
  },
  {
   "cell_type": "code",
   "execution_count": null,
   "metadata": {},
   "outputs": [],
   "source": [
    "dict"
   ]
  },
  {
   "cell_type": "markdown",
   "metadata": {},
   "source": [
    "## Plotting in notebooks"
   ]
  },
  {
   "cell_type": "code",
   "execution_count": null,
   "metadata": {},
   "outputs": [],
   "source": [
    "%matplotlib inline\n",
    "%config InlineBackend.figure_format = 'retina'\n",
    "import matplotlib.pyplot as plt\n",
    "import numpy as np"
   ]
  },
  {
   "cell_type": "code",
   "execution_count": null,
   "metadata": {},
   "outputs": [],
   "source": [
    "plt.rcParams['figure.figsize'] = (10,6)\n",
    "fig, ax = plt.subplots()\n",
    "np.random.seed(0)\n",
    "x, y = np.random.normal(size=(2, 200))\n",
    "color, size = np.random.random((2, 200))\n",
    "\n",
    "ax.scatter(x, y, c=color, s=500 * size, alpha=0.3)\n",
    "ax.grid(color='lightgray', alpha=0.7)"
   ]
  },
  {
   "cell_type": "markdown",
   "metadata": {},
   "source": [
    "```py\n",
    "import sys\n",
    "!{sys.executable} -m pip install seaborn\n",
    "```"
   ]
  },
  {
   "cell_type": "code",
   "execution_count": null,
   "metadata": {},
   "outputs": [],
   "source": [
    "# Histogram with modified axes/grid\n",
    "import seaborn as sns\n",
    "sns.set()\n",
    "fig = plt.figure()\n",
    "\n",
    "ax = fig.add_subplot(111)\n",
    "\n",
    "x = np.random.normal(size=1000)\n",
    "ax.hist(x, 30,  fc='lightblue', ec='k');"
   ]
  },
  {
   "cell_type": "markdown",
   "metadata": {
    "slideshow": {
     "slide_type": "slide"
    }
   },
   "source": [
    "## Magic commands"
   ]
  },
  {
   "cell_type": "code",
   "execution_count": null,
   "metadata": {},
   "outputs": [],
   "source": [
    "%lsmagic"
   ]
  },
  {
   "cell_type": "code",
   "execution_count": null,
   "metadata": {},
   "outputs": [],
   "source": [
    "%ls"
   ]
  },
  {
   "cell_type": "code",
   "execution_count": null,
   "metadata": {},
   "outputs": [],
   "source": [
    "%%file sample.txt\n",
    "\n",
    "write the cell content to the file sample.txt.\n",
    "The file is created when you run this cell."
   ]
  },
  {
   "cell_type": "code",
   "execution_count": null,
   "metadata": {},
   "outputs": [],
   "source": [
    "%cat sample.txt"
   ]
  },
  {
   "cell_type": "code",
   "execution_count": null,
   "metadata": {},
   "outputs": [],
   "source": [
    "%%file fibonacci.py\n",
    "\n",
    "f1, f2 = 1, 1\n",
    "for n in range(10):\n",
    "    print(f1, end=',')\n",
    "    f1, f2 = f2, f1+f2"
   ]
  },
  {
   "cell_type": "code",
   "execution_count": null,
   "metadata": {},
   "outputs": [],
   "source": [
    "%cat fibonacci.py"
   ]
  },
  {
   "cell_type": "code",
   "execution_count": null,
   "metadata": {},
   "outputs": [],
   "source": [
    "%run fibonacci.py"
   ]
  },
  {
   "cell_type": "code",
   "execution_count": null,
   "metadata": {},
   "outputs": [],
   "source": [
    "#%load fibonacci.py"
   ]
  },
  {
   "cell_type": "code",
   "execution_count": null,
   "metadata": {},
   "outputs": [],
   "source": [
    "%%time\n",
    "f1, f2 = 1, 1\n",
    "for n in range(10):\n",
    "    print(f1, end=',')\n",
    "    f1, f2 = f2, f1+f2\n",
    "print()"
   ]
  },
  {
   "cell_type": "code",
   "execution_count": null,
   "metadata": {},
   "outputs": [],
   "source": [
    "%who int"
   ]
  },
  {
   "cell_type": "code",
   "execution_count": null,
   "metadata": {},
   "outputs": [],
   "source": [
    "import numpy as np\n",
    "%timeit np.random.normal(size=100)"
   ]
  },
  {
   "cell_type": "code",
   "execution_count": null,
   "metadata": {},
   "outputs": [],
   "source": [
    "from time import sleep\n",
    "def fibonacci(n):\n",
    "    f1, f2 = 1, 1\n",
    "    res = []\n",
    "    for i in range(n):\n",
    "        f1, f2 = f2, f1+f2\n",
    "        res.append(f1)\n",
    "    return res"
   ]
  },
  {
   "cell_type": "code",
   "execution_count": null,
   "metadata": {},
   "outputs": [],
   "source": [
    "%prun fibonacci(10)"
   ]
  },
  {
   "cell_type": "code",
   "execution_count": null,
   "metadata": {},
   "outputs": [],
   "source": [
    "import sys\n",
    "!{sys.executable} -m pip install py-heat-magic"
   ]
  },
  {
   "cell_type": "code",
   "execution_count": null,
   "metadata": {},
   "outputs": [],
   "source": [
    "%load_ext heat"
   ]
  },
  {
   "cell_type": "code",
   "execution_count": null,
   "metadata": {},
   "outputs": [],
   "source": [
    "%%heat\n",
    "\n",
    "from time import sleep\n",
    "def fibonacci(n):\n",
    "    f1, f2 = 1, 1\n",
    "    res = []\n",
    "    for i in range(n):\n",
    "        f1, f2 = f2, f1+f2\n",
    "        res.append(f1)\n",
    "    return res\n",
    "\n",
    "fibonacci(100)"
   ]
  },
  {
   "cell_type": "code",
   "execution_count": null,
   "metadata": {},
   "outputs": [],
   "source": [
    "import sys\n",
    "!{sys.executable} -m pip install tqdm"
   ]
  },
  {
   "cell_type": "code",
   "execution_count": null,
   "metadata": {},
   "outputs": [],
   "source": [
    "from tqdm.notebook import tqdm\n",
    "from time import sleep\n",
    "\n",
    "n = 10\n",
    "res = [1]\n",
    "\n",
    "for x in tqdm(range(2, n)):\n",
    "    sleep(0.2)\n",
    "    for i in range(2, x):\n",
    "        if (x % i) == 0:\n",
    "            break\n",
    "        else:\n",
    "            res.append(x)\n",
    "            break\n",
    "\n",
    "res"
   ]
  },
  {
   "cell_type": "markdown",
   "metadata": {},
   "source": [
    "<!-- #endregion -->\n",
    "\n"
   ]
  },
  {
   "cell_type": "code",
   "execution_count": null,
   "metadata": {},
   "outputs": [],
   "source": []
  }
 ],
 "metadata": {
  "@webio": {
   "lastCommId": null,
   "lastKernelId": null
  },
  "jupytext": {
   "encoding": "# -*- coding: utf-8 -*-",
   "formats": "ipynb,../src//py"
  },
  "kernelspec": {
   "display_name": "Python 3",
   "language": "python",
   "name": "python3"
  },
  "language_info": {
   "codemirror_mode": {
    "name": "ipython",
    "version": 3
   },
   "file_extension": ".py",
   "mimetype": "text/x-python",
   "name": "python",
   "nbconvert_exporter": "python",
   "pygments_lexer": "ipython3",
   "version": "3.7.7"
  }
 },
 "nbformat": 4,
 "nbformat_minor": 2
}

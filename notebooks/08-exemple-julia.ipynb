{
 "cells": [
  {
   "cell_type": "markdown",
   "metadata": {},
   "source": [
    "# Example Julia"
   ]
  },
  {
   "cell_type": "code",
   "execution_count": null,
   "metadata": {},
   "outputs": [
    {
     "name": "stderr",
     "output_type": "stream",
     "text": [
      "\u001b[32m\u001b[1m   Updating\u001b[22m\u001b[39m registry at `~/.julia/registries/General`\n"
     ]
    }
   ],
   "source": [
    "using Pkg\n",
    "Pkg.add(\"Plots\")\n",
    "Pkg.add(\"DataFrames\")\n",
    "Pkg.add(\"StatsPlots\")"
   ]
  },
  {
   "cell_type": "code",
   "execution_count": null,
   "metadata": {
    "lines_to_next_cell": 0
   },
   "outputs": [],
   "source": [
    "using Random, Plots\n",
    "\n",
    "function generate_data( n = 2000, seed = 1234 )\n",
    "    seuil = 0.25\n",
    "    rng = MersenneTwister(seed)\n",
    "    X1 = rand( rng, n)\n",
    "    X2 = rand( rng, n)\n",
    "    U  = rand( rng, n)\n",
    "    Y  = zeros(Int,n)\n",
    "    Y[(X1 .<= 0.25) .& (U  .<= seuil)] .= 1\n",
    "    Y[(X1 .>  0.25) .& (X2 .>= 0.75) .& (U .<= seuil)] .= 1\n",
    "    Y[(X1 .>  0.25) .& (X2 .<  0.75) .& (U .>  seuil)] .= 1\n",
    "    return X1, X2, Y\n",
    "end\n",
    "\n",
    "X1, X2, Y = generate_data()\n",
    "scatter(X1,X2, marker_z = Y)"
   ]
  },
  {
   "cell_type": "code",
   "execution_count": null,
   "metadata": {},
   "outputs": [],
   "source": [
    "using DataFrames, StatsPlots"
   ]
  },
  {
   "cell_type": "code",
   "execution_count": null,
   "metadata": {},
   "outputs": [],
   "source": [
    "data = DataFrame( X1=X1, X2=X2, Y=Y)\n",
    "head(data)"
   ]
  },
  {
   "cell_type": "code",
   "execution_count": null,
   "metadata": {},
   "outputs": [],
   "source": [
    "@df data scatter(:X1,:X2, zcolor= :Y, xaxis = \"X1\", yaxis=\"X2\", lab=\"Y\")\n"
   ]
  },
  {
   "cell_type": "code",
   "execution_count": null,
   "metadata": {},
   "outputs": [],
   "source": [
    "\"\"\"\n",
    "[x1,x2,x1^2,x1x2,x2^2……x2^6]\n",
    "\"\"\"\n",
    "function map_features(X1,X2)\n",
    "    degree = 6\n",
    "    out = ones(size(X1[:,1]))\n",
    "    for i=1:6\n",
    "        for j=0:i\n",
    "            out = hcat(out,(X1.^(i-j)).*(X2.^j))\n",
    "        end\n",
    "    end\n",
    "    return out\n",
    "end"
   ]
  },
  {
   "cell_type": "code",
   "execution_count": null,
   "metadata": {},
   "outputs": [],
   "source": [
    "X = map_features(X1,X2)"
   ]
  },
  {
   "cell_type": "code",
   "execution_count": null,
   "metadata": {},
   "outputs": [],
   "source": []
  }
 ],
 "metadata": {
  "@webio": {
   "lastCommId": null,
   "lastKernelId": null
  },
  "jupytext": {
   "cell_metadata_filter": "-all",
   "main_language": "julia",
   "notebook_metadata_filter": "-all"
  },
  "kernelspec": {
   "display_name": "Julia 1.5.0",
   "language": "julia",
   "name": "julia-1.5"
  },
  "language_info": {
   "file_extension": ".jl",
   "mimetype": "application/julia",
   "name": "julia",
   "version": "1.5.0"
  }
 },
 "nbformat": 4,
 "nbformat_minor": 4
}

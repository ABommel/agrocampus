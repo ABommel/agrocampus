{
 "cells": [
  {
   "cell_type": "markdown",
   "metadata": {
    "slideshow": {
     "slide_type": "slide"
    }
   },
   "source": [
    "# Jupytext et pandoc\n",
    "\n",
    "Jupytext est un outil de conversion de format des notebooks. Il permet de synchroniser des \n",
    "notebooks au format ipynb avec des scripts commentés (Julia, Python ou R), ou en fichier markdown.\n",
    "\n",
    "Pandoc est un outil de conversion des fichiers markdown vers des formats d'édition ou d'impression comme html, pdf, latex ou word."
   ]
  },
  {
   "cell_type": "markdown",
   "metadata": {
    "slideshow": {
     "slide_type": "slide"
    }
   },
   "source": [
    "## Installlation\n",
    "\n",
    "```\n",
    "conda install -c conda-forge jupytext\n",
    "```\n",
    "ou\n",
    "```\n",
    "pip install jupytext\n",
    "```"
   ]
  }
 ],
 "metadata": {
  "@webio": {
   "lastCommId": null,
   "lastKernelId": null
  },
  "celltoolbar": "Slideshow",
  "kernelspec": {
   "display_name": "Python 3",
   "language": "python",
   "name": "python3"
  },
  "language_info": {
   "codemirror_mode": {
    "name": "ipython",
    "version": 3
   },
   "file_extension": ".py",
   "mimetype": "text/x-python",
   "name": "python",
   "nbconvert_exporter": "python",
   "pygments_lexer": "ipython3",
   "version": "3.8.5"
  }
 },
 "nbformat": 4,
 "nbformat_minor": 2
}

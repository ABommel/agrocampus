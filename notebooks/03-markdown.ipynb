{
 "cells": [
  {
   "cell_type": "code",
   "execution_count": 1,
   "metadata": {},
   "outputs": [
    {
     "data": {
      "text/html": [
       "<style>.container { width:100% !important; }</style>"
      ],
      "text/plain": [
       "<IPython.core.display.HTML object>"
      ]
     },
     "metadata": {},
     "output_type": "display_data"
    },
    {
     "data": {
      "text/html": [
       "<style>.output_result { width:100% !important; }</style>"
      ],
      "text/plain": [
       "<IPython.core.display.HTML object>"
      ]
     },
     "metadata": {},
     "output_type": "display_data"
    }
   ],
   "source": [
    "from IPython.core.display import display, HTML\n",
    "display(HTML(\"<style>.container { width:100% !important; }</style>\"))\n",
    "display(HTML(\"<style>.output_result { width:100% !important; }</style>\"))"
   ]
  },
  {
   "cell_type": "markdown",
   "metadata": {},
   "source": [
    "# Markdown\n",
    "\n",
    "La langage [Markdown](https://www.markdownguide.org) est un système de formatage de texte. Il est similaire au format [html](https://html.spec.whatwg.org/multipage/) utilisé pour éditer les pages hébergées sur un serveur web et le format [reStructuredText](https://docutils.sourceforge.io/rst.html) que l'on retrouve dans les wikis. \n",
    "\n",
    "Le format html utilise un système de balises qui rend le texte peu lisible. Le format rst est plus lisible avec son système de balisage plus léger. Il est utilisé notamment pour la documentation du langage Python mais son utilisation est moins répandu que le markdown. "
   ]
  },
  {
   "cell_type": "code",
   "execution_count": 5,
   "metadata": {},
   "outputs": [
    {
     "name": "stdout",
     "output_type": "stream",
     "text": [
      "\n",
      "    Return the value at x in [0,1[ of the B-spline with integer nodes of degree p with support starting at j.\n",
      "    Implemented recursively using the [De Boor's Algorithm](https://en.wikipedia.org/wiki/De_Boor%27s_algorithm)\n",
      "    \n",
      "    .. math::\n",
      "        B_{i,0}(x) := \\left\\{\n",
      "        \begin{matrix}\n",
      "        1 & \\mathrm{if}  \\quad t_i ≤ x < t_{i+1} \\\n",
      "        0 & \\mathrm{otherwise} \n",
      "        \\end{matrix}\n",
      "        \r",
      "ight.\n",
      "    \n",
      "    .. math::\n",
      "            B_{i,p}(x) := \f",
      "rac{x - t_i}{t_{i+p} - t_i} B_{i,p-1}(x) \n",
      "            + \f",
      "rac{t_{i+p+1} - x}{t_{i+p+1} - t_{i+1}} B_{i+1,p-1}(x).\n",
      "    \n",
      "     \n"
     ]
    }
   ],
   "source": [
    "print(bspline.__doc__)"
   ]
  },
  {
   "cell_type": "markdown",
   "metadata": {},
   "source": [
    "La documentation des fonctions Julia est en markdown. Il n'y a pas de système de documentation intégré pour la langage R mais [roxygen2](https://cran.r-project.org/web/packages/roxygen2/) est le package utilisé. La syntaxe a des similarités avec [$\\LaTeX$](https://fr.wikipedia.org/wiki/LaTeX)\n",
    "\n",
    "Les fichiers markdown sont identifiés par la terminaison `.md`.\n",
    "\n",
    "Dans les exemples qui vont suivre, je présente les bases du langage markdown. Il faut savoir qu'il existe un grand nombre de dialectes. Github propose des fonctionalités enrichies. Pour voir toutes les possibilités, je conseille d'aller regarder la démonstration de l'éditeur en ligne [codimd](https://demo.codimd.org/features).\n",
    "\n",
    "## Titres\n",
    "\n",
    "Recopier le texte suivant dans une cellule en mode `markdown`. Cliquer sur la partie gauche et appuyer sur `M`. Puis exécuter avec `shift-enter`.\n",
    "\n",
    "```md\n",
    "# Chapter\n",
    "\n",
    "## Section\n",
    "\n",
    "### Sous-Section\n",
    "\n",
    "Chapter\n",
    "=========\n",
    "\n",
    "Section\n",
    "---------\n",
    "```"
   ]
  },
  {
   "cell_type": "markdown",
   "metadata": {},
   "source": [
    "\n",
    "## **Gras**, *italique*, `script`\n",
    "\n"
   ]
  },
  {
   "cell_type": "markdown",
   "metadata": {},
   "source": [
    "## Citation\n",
    "\n",
    "> Labore ipsum quisquam labore."
   ]
  },
  {
   "cell_type": "markdown",
   "metadata": {},
   "source": [
    "## Liste\n",
    "- Fruits\n",
    "    * Oranges\n",
    "    * Pommes\n",
    "- Légumes\n",
    "    * Aubergines\n",
    "    * Courgettes\n",
    "\n",
    "\n"
   ]
  },
  {
   "cell_type": "markdown",
   "metadata": {},
   "source": [
    "## Liste ordonnée\n",
    "\n",
    "1. Lundi\n",
    "2. Mardi\n",
    "3. Mercredi\n",
    "\n"
   ]
  },
  {
   "cell_type": "markdown",
   "metadata": {},
   "source": [
    "<ol>\n",
    "<li>Jeudi</li>\n",
    "<li>Vendredi</li>\n",
    "<li>Samedi</li>\n",
    "<li>Dimanche</li>\n",
    "</ol>"
   ]
  },
  {
   "cell_type": "markdown",
   "metadata": {},
   "source": [
    "## Code\n",
    "\n",
    "```r\n",
    "y <-  c(1,2,3,4,5)\n",
    "x0 <- c(1,1,1,1,1)  \n",
    "x1 <- c(1,2,3,4,5)\n",
    "x2 <- c(1,4,5,7,9)\n",
    "Y <- as.matrix(y)\n",
    "X <- as.matrix(cbind(x0,x1,x2))\n",
    "beta = solve(crossprod(X), crossprod(X,y))\n",
    "```"
   ]
  },
  {
   "cell_type": "markdown",
   "metadata": {},
   "source": [
    "```py\n",
    "import numpy as np\n",
    "y =  np.array((1,2,3,4,5))\n",
    "x0 = np.array((1,1,1,1,1)) \n",
    "x1 = np.array((1,2,3,4,5))\n",
    "x2 = np.array((1,4,5,7,9))\n",
    "X = np.c_[x0,x1,x2]\n",
    "Y = y[:, np.newaxis]\n",
    "beta = np.linalg.solve(X.T @ X, X.T @ Y)\n",
    "```"
   ]
  },
  {
   "cell_type": "markdown",
   "metadata": {},
   "source": [
    "```jl\n",
    "using LinearAlgebra\n",
    "y =  [1,2,3,4,5]\n",
    "x0 = [1,1,1,1,1]\n",
    "x1 = [1,2,3,4,5]\n",
    "x2 = [1,4,5,7,9]\n",
    "X = hcat(x0,x1,x2)\n",
    "Y = y\n",
    "beta = X'X \\ X'y\n",
    "```"
   ]
  },
  {
   "cell_type": "markdown",
   "metadata": {},
   "source": [
    "## Lignes de séparation\n",
    "\n",
    "***\n",
    "---\n",
    "- - -\n",
    "*    *    *\n"
   ]
  },
  {
   "cell_type": "markdown",
   "metadata": {},
   "source": [
    "## Images\n",
    "\n",
    "\n",
    "![texte alt](https://www.agrocampus-ouest.fr/files/images/logos/header/logo-agrocampus-ouest.png \"Logo Agrocampus\")\n",
    "\n",
    "![Logo Agrocampus](https://www.agrocampus-ouest.fr/files/images/logos/header/logo-agrocampus-ouest.png)"
   ]
  },
  {
   "cell_type": "markdown",
   "metadata": {},
   "source": [
    "## Liens\n",
    "\n",
    "[Lien vers le site de l'agrocampus](https://www.agrocampus-ouest.fr/f)\n",
    "\n",
    "[Lien vers le logo](images/logo-agrocampus-ouest.png \"le logo!\")\n"
   ]
  },
  {
   "cell_type": "markdown",
   "metadata": {},
   "source": [
    "## Tableaux\n",
    "\n",
    "Colonne 1 | Colonne 2 | Colonne 3\n",
    "--- | --- | ---\n",
    "Pomme | Banane | Orange\n",
    "1 | 2 | 3\n",
    "\n",
    "---\n",
    "\n",
    "Colonne 1 | Colonne 2 | Colonne 3\n",
    ":--- | :---: | ---:\n",
    "Pomme | Banane | Orange\n",
    "1 | 2 | 3"
   ]
  },
  {
   "cell_type": "markdown",
   "metadata": {},
   "source": [
    "# Equations\n",
    "Les mathématiques sont écrites en langage $\\LaTeX$\n",
    "\n",
    "$$\n",
    "\\text{Dist}(G):=\\bigcup_{n\\ge 0} \\text{Dist}_n(G).\n",
    "$$"
   ]
  },
  {
   "cell_type": "markdown",
   "metadata": {},
   "source": [
    "\\begin{align}\n",
    "\\frac{d x_1(t) }{dt} &= \\frac{1}{\\varepsilon}v_1(t)  &\\qquad \\frac{d v_1(t) }{dt} &= E_1(t, x(t)) + \\frac{1}{\\varepsilon}v_2(t)\\\\\n",
    "\\frac{d x_2(t) }{dt} &= \\frac{1}{\\varepsilon} v_2(t) &\\qquad \\frac{d v_2(t) }{dt} &= E_2(t, x(t)) - \\frac{1}{\\varepsilon}v_1(t)\\\\\n",
    "\\frac{d x_3(t) }{dt} &= v_3(t)                       &\\qquad \\frac{d v_3(t) }{dt} &= E_3(t, x(t)) \n",
    "\\end{align}"
   ]
  },
  {
   "cell_type": "markdown",
   "metadata": {},
   "source": [
    "$$\n",
    "\\left(\n",
    "\\begin{array}{cccccc}\n",
    "a & b & c  \\\\\n",
    "d & e & f \\\\\n",
    "g & h & i  \n",
    "\\end{array}\n",
    "\\right)\n",
    "$$"
   ]
  },
  {
   "cell_type": "markdown",
   "metadata": {},
   "source": [
    "\\begin{bmatrix}\n",
    "a & b & c \\\\\n",
    "d & e & f \\\\\n",
    "g & h & i\n",
    "\\end{bmatrix}"
   ]
  },
  {
   "cell_type": "markdown",
   "metadata": {},
   "source": [
    "Les fonctionnalités peuvent être plus riches avec des emojis par example. Voir [Mastering Markdown](https://guides.github.com/features/mastering-markdown/)"
   ]
  },
  {
   "cell_type": "code",
   "execution_count": 47,
   "metadata": {},
   "outputs": [
    {
     "data": {
      "text/plain": [
       "TestResults(failed=0, attempted=0)"
      ]
     },
     "execution_count": 47,
     "metadata": {},
     "output_type": "execute_result"
    }
   ],
   "source": [
    "import doctest\n",
    "doctest.testmod()"
   ]
  },
  {
   "cell_type": "code",
   "execution_count": 52,
   "metadata": {},
   "outputs": [
    {
     "name": "stdout",
     "output_type": "stream",
     "text": [
      "Writing bspline.py\n"
     ]
    }
   ],
   "source": [
    "%%file bspline.py\n",
    "def bspline(p, j, x):\n",
    "     \"\"\"\n",
    "    Return the value at x in [0,1[ of the B-spline with integer nodes of degree p with support starting at j.\n",
    "    Implemented recursively using the [De Boor's Algorithm](https://en.wikipedia.org/wiki/De_Boor%27s_algorithm)\n",
    "\n",
    "    .. math::\n",
    "        B_{i,0}(x) := \\left\\{\n",
    "        \\begin{matrix}\n",
    "        1 & \\mathrm{if}  \\quad t_i ≤ x < t_{i+1} \\\\\n",
    "        0 & \\mathrm{otherwise} \n",
    "        \\end{matrix}\n",
    "        \\right.\n",
    "\n",
    "    .. math::\n",
    "            B_{i,p}(x) := \\frac{x - t_i}{t_{i+p} - t_i} B_{i,p-1}(x) \n",
    "            + \\frac{t_{i+p+1} - x}{t_{i+p+1} - t_{i+1}} B_{i+1,p-1}(x).\n",
    "\n",
    "     \"\"\"\n",
    "\n",
    "     assert ((x >= 0.0) & (x <= 1.0))\n",
    "     assert ((type(p) == int) & (type(j) == int))\n",
    "\n",
    "     if p == 0:\n",
    "         if j == 0:\n",
    "             return 1.0\n",
    "         else:\n",
    "             return 0.0\n",
    "     else:\n",
    "         w = (x - j) / p\n",
    "         w1 = (x - j - 1) / p\n",
    "         return w * bspline(p - 1, j, x) + (1 - w1) * bspline(p - 1, j + 1, x)"
   ]
  },
  {
   "cell_type": "code",
   "execution_count": 51,
   "metadata": {},
   "outputs": [
    {
     "name": "stdout",
     "output_type": "stream",
     "text": [
      "Help on function bspline in module __main__:\n",
      "\n",
      "bspline(p, j, x)\n",
      "    Return the value at x in [0,1[ of the B-spline with integer nodes of degree p with support starting at j.\n",
      "    Implemented recursively using the [De Boor's Algorithm](https://en.wikipedia.org/wiki/De_Boor%27s_algorithm)\n",
      "    \n",
      "    .. math::\n",
      "        B_{i,0}(x) := \\left\\{\n",
      "       egin{matrix}\n",
      "        1 & \\mathrm{if}  \\quad t_i ≤ x < t_{i+1} \\\n",
      "        0 & \\mathrm{otherwise} \n",
      "        \\end{matrix}\n",
      "        \r",
      "ight.\n",
      "    \n",
      "    .. math::\n",
      "            B_{i,p}(x) := \f",
      "rac{x - t_i}{t_{i+p} - t_i} B_{i,p-1}(x) \n",
      "            + \f",
      "rac{t_{i+p+1} - x}{t_{i+p+1} - t_{i+1}} B_{i+1,p-1}(x).\n",
      "\n"
     ]
    }
   ],
   "source": [
    "bspline"
   ]
  },
  {
   "cell_type": "markdown",
   "metadata": {},
   "source": [
    "## Documentation de code"
   ]
  },
  {
   "cell_type": "code",
   "execution_count": 6,
   "metadata": {},
   "outputs": [],
   "source": [
    "def bspline(p, j, x):\n",
    "    \"\"\"\n",
    "    Return the value at x in [0,1[ of the B-spline with integer nodes of degree p with support starting at j.\n",
    "    Implemented recursively using the [De Boor's Algorithm](https://en.wikipedia.org/wiki/De_Boor%27s_algorithm)\n",
    "    \n",
    "    .. math::\n",
    "        B_{i,0}(x) := \\left\\{\n",
    "        \\begin{matrix}\n",
    "        1 & \\mathrm{if}  \\quad t_i ≤ x < t_{i+1} \\\\\n",
    "        0 & \\mathrm{otherwise} \n",
    "        \\end{matrix}\n",
    "        \\right.\n",
    "    \n",
    "    .. math::\n",
    "            B_{i,p}(x) := \\frac{x - t_i}{t_{i+p} - t_i} B_{i,p-1}(x) \n",
    "            + \\frac{t_{i+p+1} - x}{t_{i+p+1} - t_{i+1}} B_{i+1,p-1}(x).\n",
    "    \n",
    "    \"\"\"\n",
    "\n",
    "    assert ((x >= 0.0) & (x <= 1.0))\n",
    "    assert ((type(p) == int) & (type(j) == int))\n",
    "\n",
    "    if p == 0:\n",
    "         if j == 0:\n",
    "            return 1.0\n",
    "         else:\n",
    "            return 0.0\n",
    "    else:\n",
    "        w = (x - j) / p\n",
    "        w1 = (x - j - 1) / p\n",
    "        return w * bspline(p - 1, j, x) + (1 - w1) * bspline(p - 1, j + 1, x)"
   ]
  },
  {
   "cell_type": "markdown",
   "metadata": {},
   "source": [
    "~~~julia\n",
    "\"\"\"\n",
    "    bspline(p, j, x)\n",
    "\n",
    "Return the value at x in [0,1[ of the B-spline with integer nodes of degree p with support starting at j.\n",
    "Implemented recursively using the [De Boor's Algorithm](https://en.wikipedia.org/wiki/De_Boor%27s_algorithm)\n",
    "\n",
    "```math\n",
    "B_{i,0}(x) := \\\\left\\\\{\n",
    "\\\\begin{matrix}\n",
    "1 & \\\\mathrm{if}  \\\\quad t_i ≤ x < t_{i+1} \\\\\\\\\n",
    "0 & \\\\mathrm{otherwise} \n",
    "\\\\end{matrix}\n",
    "\\\\right.\n",
    "```\n",
    "\n",
    "```math\n",
    "B_{i,p}(x) := \\\\frac{x - t_i}{t_{i+p} - t_i} B_{i,p-1}(x) \n",
    "+ \\\\frac{t_{i+p+1} - x}{t_{i+p+1} - t_{i+1}} B_{i+1,p-1}(x).\n",
    "```\n",
    "\"\"\"\n",
    "function bspline(p::Int, j::Int, x::Float64)\n",
    "   if p == 0\n",
    "       if j == 0\n",
    "           return 1.0\n",
    "       else\n",
    "           return 0.0\n",
    "       end\n",
    "   else\n",
    "       w = (x - j) / p\n",
    "       w1 = (x - j - 1) / p\n",
    "   end\n",
    "   return (w * bspline(p - 1, j, x) + (1 - w1) * bspline(p - 1, j + 1, x))\n",
    "end\n",
    "~~~"
   ]
  },
  {
   "cell_type": "code",
   "execution_count": null,
   "metadata": {},
   "outputs": [],
   "source": []
  }
 ],
 "metadata": {
  "@webio": {
   "lastCommId": null,
   "lastKernelId": null
  },
  "jupytext": {
   "cell_metadata_filter": "-all",
   "main_language": "python",
   "notebook_metadata_filter": "-all"
  },
  "kernelspec": {
   "display_name": "Python 3",
   "language": "python",
   "name": "python3"
  },
  "language_info": {
   "codemirror_mode": {
    "name": "ipython",
    "version": 3
   },
   "file_extension": ".py",
   "mimetype": "text/x-python",
   "name": "python",
   "nbconvert_exporter": "python",
   "pygments_lexer": "ipython3",
   "version": "3.8.5"
  }
 },
 "nbformat": 4,
 "nbformat_minor": 4
}

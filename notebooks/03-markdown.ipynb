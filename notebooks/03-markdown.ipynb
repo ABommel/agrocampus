{
 "cells": [
  {
   "cell_type": "markdown",
   "metadata": {},
   "source": [
    "# Markdown\n",
    "\n",
    "## Titres\n",
    "\n",
    "Recopier le texte suivant dans une cellule en mode `markdown`. Cliquer sur la partie gauche et appuyer sur `M`. Puis exécuter avec `shift-enter`.\n",
    "\n",
    "```md\n",
    "# Chapter\n",
    "\n",
    "## Section\n",
    "\n",
    "### Sous-Section\n",
    "\n",
    "Chapter\n",
    "=========\n",
    "\n",
    "Section\n",
    "---------\n",
    "```"
   ]
  },
  {
   "cell_type": "markdown",
   "metadata": {},
   "source": [
    "\n",
    "## **Gras**, *italique*, `script`\n",
    "\n"
   ]
  },
  {
   "cell_type": "markdown",
   "metadata": {},
   "source": [
    "## Citation\n",
    "\n",
    "> Labore ipsum quisquam labore."
   ]
  },
  {
   "cell_type": "markdown",
   "metadata": {},
   "source": [
    "## Liste\n",
    "- Fruits\n",
    "    * Oranges\n",
    "    * Pommes\n",
    "- Légumes\n",
    "    * Aubergines\n",
    "    * Courgettes\n",
    "\n",
    "\n"
   ]
  },
  {
   "cell_type": "markdown",
   "metadata": {},
   "source": [
    "## Liste ordonnée\n",
    "\n",
    "1. Lundi\n",
    "2. Mardi\n",
    "3. Mercredi\n",
    "\n"
   ]
  },
  {
   "cell_type": "markdown",
   "metadata": {},
   "source": [
    "<ol>\n",
    "<li>Jeudi</li>\n",
    "<li>Vendredi</li>\n",
    "<li>Samedi</li>\n",
    "<li>Dimanche</li>\n",
    "</ol>"
   ]
  },
  {
   "cell_type": "markdown",
   "metadata": {},
   "source": [
    "## Code\n",
    "\n",
    "```r\n",
    "y <-  c(1,2,3,4,5)\n",
    "x0 <- c(1,1,1,1,1)  \n",
    "x1 <- c(1,2,3,4,5)\n",
    "x2 <- c(1,4,5,7,9)\n",
    "Y <- as.matrix(y)\n",
    "X <- as.matrix(cbind(x0,x1,x2))\n",
    "beta = solve(crossprod(X), crossprod(X,y))\n",
    "```"
   ]
  },
  {
   "cell_type": "markdown",
   "metadata": {},
   "source": [
    "```py\n",
    "import numpy as np\n",
    "y =  np.array((1,2,3,4,5))\n",
    "x0 = np.array((1,1,1,1,1)) \n",
    "x1 = np.array((1,2,3,4,5))\n",
    "x2 = np.array((1,4,5,7,9))\n",
    "X = np.c_[x0,x1,x2]\n",
    "Y = y[:, np.newaxis]\n",
    "beta = np.linalg.solve(X.T @ X, X.T @ Y)\n",
    "```"
   ]
  },
  {
   "cell_type": "markdown",
   "metadata": {},
   "source": [
    "```jl\n",
    "using LinearAlgebra\n",
    "y =  [1,2,3,4,5]\n",
    "x0 = [1,1,1,1,1]\n",
    "x1 = [1,2,3,4,5]\n",
    "x2 = [1,4,5,7,9]\n",
    "X = hcat(x0,x1,x2)\n",
    "Y = y\n",
    "beta = X'X \\ X'y\n",
    "```"
   ]
  },
  {
   "cell_type": "markdown",
   "metadata": {},
   "source": [
    "## Lignes de séparation\n",
    "\n",
    "***\n",
    "---\n",
    "- - -\n",
    "*    *    *\n"
   ]
  },
  {
   "cell_type": "markdown",
   "metadata": {},
   "source": [
    "## Images\n",
    "\n",
    "\n",
    "![texte alt](https://www.agrocampus-ouest.fr/files/images/logos/header/logo-agrocampus-ouest.png \"Logo Agrocampus\")\n",
    "\n",
    "![Logo Agrocampus](https://www.agrocampus-ouest.fr/files/images/logos/header/logo-agrocampus-ouest.png)"
   ]
  },
  {
   "cell_type": "markdown",
   "metadata": {},
   "source": [
    "## Liens\n",
    "\n",
    "[Lien vers le site de l'agrocampus](https://www.agrocampus-ouest.fr/f)\n",
    "\n",
    "[Lien vers le logo](images/logo-agrocampus-ouest.png \"le logo!\")\n"
   ]
  },
  {
   "cell_type": "markdown",
   "metadata": {},
   "source": [
    "## Tableaux\n",
    "\n",
    "Colonne 1 | Colonne 2 | Colonne 3\n",
    "--- | --- | ---\n",
    "Pomme | Banane | Orange\n",
    "1 | 2 | 3"
   ]
  },
  {
   "cell_type": "markdown",
   "metadata": {},
   "source": [
    "# Equations\n",
    "\n",
    "$$\n",
    "\\text{Dist}(G):=\\bigcup_{n\\ge 0} \\text{Dist}_n(G).\n",
    "$$"
   ]
  },
  {
   "cell_type": "markdown",
   "metadata": {},
   "source": [
    "\\begin{eqnarray*}\n",
    "\\frac{d x_1(t) }{dt} &=& \\frac{1}{\\varepsilon}v_1(t) \\\\\n",
    "\\frac{d x_2(t) }{dt} &=& \\frac{1}{\\varepsilon} v_2(t) \\\\\n",
    "\\frac{d x_3(t) }{dt}&=& v_3(t) \\\\\n",
    "\\frac{d v_1(t) }{dt} &=& E_1(t, x(t)) + \\frac{1}{\\varepsilon}v_2(t)\\\\\n",
    "\\frac{d v_2(t) }{dt} &=& E_2(t, x(t)) - \\frac{1}{\\varepsilon}v_1(t)\\\\\n",
    "\\frac{d v_3(t) }{dt} &=& E_3(t, x(t)) \n",
    "\\end{eqnarray*}"
   ]
  },
  {
   "cell_type": "markdown",
   "metadata": {},
   "source": [
    "$$\n",
    "\\left(\n",
    "\\begin{array}{cccccc}\n",
    "a & b & c  \\\\\n",
    "d & e & f \\\\\n",
    "g & h & i  \n",
    "\\end{array}\n",
    "\\right)\n",
    "$$"
   ]
  },
  {
   "cell_type": "markdown",
   "metadata": {},
   "source": [
    "\\begin{bmatrix}\n",
    "a & b & c \\\\\n",
    "d & e & f \\\\\n",
    "g & h & i\n",
    "\\end{bmatrix}"
   ]
  },
  {
   "cell_type": "markdown",
   "metadata": {},
   "source": [
    "Les fonctionnalités peuvent être plus riche avec des emojis par example. Voir [Mastering Markdown](https://guides.github.com/features/mastering-markdown/)"
   ]
  },
  {
   "cell_type": "code",
   "execution_count": null,
   "metadata": {},
   "outputs": [],
   "source": []
  }
 ],
 "metadata": {
  "@webio": {
   "lastCommId": null,
   "lastKernelId": null
  },
  "jupytext": {
   "cell_metadata_filter": "-all",
   "main_language": "python",
   "notebook_metadata_filter": "-all"
  },
  "kernelspec": {
   "display_name": "Python 3",
   "language": "python",
   "name": "python3"
  },
  "language_info": {
   "codemirror_mode": {
    "name": "ipython",
    "version": 3
   },
   "file_extension": ".py",
   "mimetype": "text/x-python",
   "name": "python",
   "nbconvert_exporter": "python",
   "pygments_lexer": "ipython3",
   "version": "3.8.5"
  }
 },
 "nbformat": 4,
 "nbformat_minor": 4
}

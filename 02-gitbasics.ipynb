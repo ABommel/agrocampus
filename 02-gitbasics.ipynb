{
 "cells": [
  {
   "cell_type": "markdown",
   "metadata": {
    "slideshow": {
     "slide_type": "slide"
    }
   },
   "source": [
    "# Git\n",
    "\n",
    "Git est un logiciel de gestion de versions.\n",
    "\n",
    "Site officiel https://git-scm.com\n",
    "\n",
    "Le livre en français https://git-scm.com/book/fr/v2\n",
    "\n",
    "Installer [Git](https://git-scm.com/downloads) sur votre ordinateur"
   ]
  },
  {
   "cell_type": "markdown",
   "metadata": {},
   "source": [
    "## Pourquoi un gestionnaire de version\n",
    "\n",
    "- Toutes les modifications sont enregistrées.\n",
    "- A tout moment vous pouvez revenir sur une version précédente.\n",
    "- Vous pouvez l'utiliser pour quasiment tous les types de fichier.\n",
    "- C'est la meilleure approche pour collaborer sur un document.\n",
    "- Chaque modification est identifiée et datée."
   ]
  },
  {
   "cell_type": "markdown",
   "metadata": {
    "slideshow": {
     "slide_type": "slide"
    }
   },
   "source": [
    "## GitHub\n",
    "\n",
    "- Service web utilisant Git comme gestionnaire de version. \n",
    "- Github permet d'enregistrer et partager toutes les étapes de développement d'un logiciel ou de la rédaction d'un document au format texte au cours du temps. A tout moment vous pouvez revenir à une précedente version, l'ensemble de l'historique est toujours préservé. \n",
    "- Github permet d'organiser un travail collaboratif avec différents niveaux d'accès, la gestion des bugs et hébergement de la documentation.\n",
    "- Github est la plus grande bibliothèque de codes du monde.\n",
    "- Fonctionne de plus en plus comme un réseau social et offre une grande visibilité à vos travaux."
   ]
  },
  {
   "cell_type": "markdown",
   "metadata": {
    "slideshow": {
     "slide_type": "slide"
    }
   },
   "source": [
    "## SCM (Source Code Management)\n",
    "\n",
    "- Enregistrement des changements dans un ou plusieurs fichiers au cours du temps.\n",
    "- Vous pouvez revenir à tout moment vers une version précedente.\n",
    "- Fonctionne avec tout type de document.\n",
    "- Excellent moyen pour collaborer sur un même document.\n",
    "- Chaque modification enregistrée est datée avec le nom de son auteur.\n",
    "- Les figures proviennent du [Pro Git book](http://git-scm.com/book).\n",
    "- Ce support est fortement inspiré de [\"Become a git guru\"](https://www.atlassian.com/git/tutorials)."
   ]
  },
  {
   "cell_type": "markdown",
   "metadata": {
    "slideshow": {
     "slide_type": "slide"
    }
   },
   "source": [
    "## Gestion distribuée des versions\n",
    "\n",
    "<img src=\"images/git.png\" alt=\"git\" width=\"300px\"/>\n",
    "\n",
    "- Chaque membre du projet possède une copie totale du projet\n",
    "- On peut contribuer seul ou à plusieurs.\n",
    "- Pas besoin de connexion réseau\n",
    "- Les sauvegardes sont très nombreuses grâce à ce système."
   ]
  },
  {
   "cell_type": "markdown",
   "metadata": {
    "slideshow": {
     "slide_type": "slide"
    }
   },
   "source": [
    "## Configuration\n",
    "\n",
    "Il faut renseigner votre identité avec votre adresse de messagerie. \n",
    "Ouvrir la console « Git bash »:\n",
    "\n",
    "```\n",
    "git config --global user.name “Prenom Nom\"\n",
    "git config --global user.email “prenom.nom@domaine.fr\"\n",
    "```"
   ]
  },
  {
   "cell_type": "markdown",
   "metadata": {
    "slideshow": {
     "slide_type": "slide"
    }
   },
   "source": [
    "## Enregistrer sa clé SSH\n",
    "\n",
    "Saisissez la ligne suivante dasn le git bash:\n",
    "\n",
    "```bash\n",
    "ssh-keygen\n",
    "```\n",
    "\n",
    "Valider les questions suivantes :\n",
    "\n",
    "```\n",
    "Enter file in which to save the key (/****/****/.ssh/id_rsa):\n",
    "```\n",
    "appuyer sur « enter » ou saisir le nom du certificat puis « enter »\n",
    "\n",
    "```\n",
    "Enter passphrase (empty for no passphrase):\n",
    "```\n",
    "\n",
    "Appuyer sur \"enter\" (conseillé) ou saisir un mot de passe \n"
   ]
  },
  {
   "cell_type": "markdown",
   "metadata": {
    "slideshow": {
     "slide_type": "slide"
    }
   },
   "source": [
    "## Clonage du dépôt\n",
    "\n",
    "```bash\n",
    "git clone https://github.com/pnavaro/agrocampus.git\n",
    "```"
   ]
  },
  {
   "cell_type": "markdown",
   "metadata": {
    "slideshow": {
     "slide_type": "fragment"
    }
   },
   "source": [
    "## Branche\n",
    "\n",
    "```bash\n",
    "git checkout -b my_branch\n",
    "```\n",
    "\n",
    "Permet de \"figer\" une version personnelle locale sur laquelle vous pouvez travailler sans modifier la branche principale \"master\"."
   ]
  },
  {
   "cell_type": "markdown",
   "metadata": {},
   "source": [
    "## Les différents états des fichiers dans la copie du dépôt\n",
    "  \n",
    "<img src=\"images/18333fig0201-tn.png\" alt=\"git\" width=\"450px\"/>"
   ]
  },
  {
   "cell_type": "markdown",
   "metadata": {
    "slideshow": {
     "slide_type": "slide"
    }
   },
   "source": [
    "## Git Workflow\n",
    "\n",
    "<img src=\"images/four_stages.png\" alt=\"git\" width=\"150px\"/>"
   ]
  },
  {
   "cell_type": "markdown",
   "metadata": {
    "slideshow": {
     "slide_type": "slide"
    }
   },
   "source": [
    "## Verifier les fichiers modifiés\n"
   ]
  },
  {
   "cell_type": "code",
   "execution_count": 1,
   "metadata": {
    "slideshow": {
     "slide_type": "fragment"
    }
   },
   "outputs": [
    {
     "name": "stdout",
     "output_type": "stream",
     "text": [
      "On branch master\n",
      "Your branch is up to date with 'origin/master'.\n",
      "\n",
      "Untracked files:\n",
      "  (use \"git add <file>...\" to include in what will be committed)\n",
      "\t../.doit.db.dat\n",
      "\n",
      "nothing added to commit but untracked files present (use \"git add\" to track)\n"
     ]
    }
   ],
   "source": [
    "%%bash\n",
    "git status"
   ]
  },
  {
   "cell_type": "markdown",
   "metadata": {
    "slideshow": {
     "slide_type": "slide"
    }
   },
   "source": [
    "## Ajouter le fichier dans l'index\n",
    "\n",
    "```bash\n",
    "git add your_notebook_copy.ipynb\n",
    "```\n",
    "\n",
    "Cette commande est nécessaire pour un nouveau fichier mais aussi pour un fichier qui a été modifié."
   ]
  },
  {
   "cell_type": "markdown",
   "metadata": {
    "slideshow": {
     "slide_type": "fragment"
    }
   },
   "source": [
    "## Verification avant validation\n",
    "\n",
    "```bash\n",
    "git status\n",
    "```"
   ]
  },
  {
   "cell_type": "markdown",
   "metadata": {
    "slideshow": {
     "slide_type": "fragment"
    }
   },
   "source": [
    "## Validation et sauvegarde (commit)\n",
    "\n",
    "```bash\n",
    "git commit -m 'A propos de mes modifications'\n",
    "```"
   ]
  },
  {
   "cell_type": "markdown",
   "metadata": {
    "slideshow": {
     "slide_type": "slide"
    }
   },
   "source": [
    "## Synchroniser avec la version distante sur le dépôt\n",
    "\n",
    "La commande suivante permet de rappatrier toutes les modifications sur le dépôt distant (remote) sans modifier\n",
    "votre version locale. Toutes les branches commencant par \"origin/\\*\" seront mises à jour.\n"
   ]
  },
  {
   "cell_type": "markdown",
   "metadata": {
    "attributes": {
     "classes": [
      "git"
     ],
     "id": ""
    },
    "slideshow": {
     "slide_type": "fragment"
    }
   },
   "source": [
    "```bash\n",
    "git fetch origin\n",
    "git branch -a   # pour voir toutes les branches\n",
    "```"
   ]
  },
  {
   "cell_type": "markdown",
   "metadata": {
    "slideshow": {
     "slide_type": "slide"
    }
   },
   "source": [
    "## Fusionner la branche distante avec la branche locale\n",
    "\n",
    "```bash\n",
    "git merge origin/master\n",
    "```\n",
    "\n",
    "Les deux étapes précédentes peuvent être effectuées en une seule commande avec\n",
    "\n",
    "```bash\n",
    "git pull origin master\n",
    "```\n",
    "\n",
    "Je déconseille cette approche car avec le `git fetch` on peut anticiper des conflits.\n",
    "```bash\n",
    "git diff origin/master\n",
    "```\n",
    "ou en version graphique si l'outil st installé sur votre poste:\n",
    "```bash\n",
    "git difftool origin/master\n",
    "```"
   ]
  },
  {
   "cell_type": "markdown",
   "metadata": {
    "slideshow": {
     "slide_type": "slide"
    }
   },
   "source": [
    "## Résoudre les conflits\n",
    "\n",
    "- En cas de problèmes sur un fichier, vous pouvez annuler toutes les modifications non validées par un *commit* avec :\n",
    "\n",
    "```bash\n",
    "git checkout mon_fichier_modif\n",
    "```\n",
    "\n",
    "- Si vraiment il y a de gros soucis\n",
    "\n",
    "```bash\n",
    "git reset --hard\n",
    "```\n",
    "\n",
    "Attention cette dernière commande, annule tous les changments qui n'ont pas été validés par un *commit*."
   ]
  },
  {
   "cell_type": "markdown",
   "metadata": {},
   "source": [
    "## Prise en main\n",
    "\n",
    "\n",
    "\n",
    "\n",
    "### Local Version Control Systems\n",
    "\n",
    "![Local](images/local.png){width=50%}\n",
    "\n",
    "- One of the most saving popular was a system called RCS\n",
    "- Available with the Developer Tools with Mac OS X\n",
    "- Collaboration is not really possible.\n",
    "\n",
    "### Centralized Version Control Systems\n",
    "\n",
    "![CVS](images/cvs.png){width=50%}\n",
    "\n",
    "- Clients check out files from a central place.\n",
    "- You know what everyone else on the project is doing\n",
    "- A single server contains all the versioned files.\n",
    "- For many years, this has been the standard (CVS, SVN).\n",
    "- You always need network connection.\n",
    "- If the server is corrupted, with no backup, you lose everything !\n",
    "\n",
    "### Distributed Version Control Systems\n",
    "\n",
    "![Git](images/git.png){width=30%}\n",
    "\n",
    "- Clients fully mirror the repository.\n",
    "- You can collaborate with different groups of people in different ways simultaneously within the same project.\n",
    "- No need of network connection.\n",
    "- Multiple backups.\n",
    "\n",
    "\n",
    "#### Configure Git\n",
    "\n",
    "Install git on windows https://gitforwindows.org\n",
    "\n",
    "```bash\n",
    "$ git config --global user.name \"Pierre Navaro\"\n",
    "$ git config --global user.email \"pierre.navaro@univ-rennes1.fr\"\n",
    "$ git config --global core.editor mvim\n",
    "$ git config --global merge.tool opendiff\n",
    "```\n",
    "\n",
    "```bash\n",
    "$ git config --list\n",
    "   user.name=Pierre Navaro\n",
    "   user.email=pierre.navaro@univ-rennes1.fr\n",
    "   core.editor=mvim\n",
    "   merge.tool=opendiff\n",
    "```\n",
    "\n",
    "Settings are saved on the computer for all your git repositories.\n",
    "\n",
    "# Four File status in the repository\n",
    "\n",
    "![Status](images/18333fig0201-tn.png){width=50%}\n",
    "\n",
    "# Initializing a repository in an existing directory\n",
    "\n",
    "```\n",
    "$ ls article\n",
    "\tdocument.tex\tfigure.png\n",
    "$ git init\n",
    "\tInitialized empty Git repository in /Users/navaro/article/.git/\n",
    "$ git status\n",
    "\tOn branch master\n",
    "\tInitial commit\n",
    "\tUntracked files:\n",
    " \t (use \"git add <file>...\" to include in what will be committed)\n",
    "\n",
    "\t\tdocument.tex\n",
    "\t\tfigure.png\n",
    "\n",
    "\tnothing added to commit but untracked files present\n",
    "\t(use \"git add\" to track)\n",
    "```\n",
    "\n",
    "# Adding files in your repository\n",
    "\n",
    "```\n",
    "$ git add document.tex\n",
    "$ git add figure.png\n",
    "$ git status\n",
    "\tOn branch master\n",
    "\tInitial commit\n",
    "\tChanges to be committed:\n",
    " \t (use \"git rm --cached <file>...\" to unstage)\n",
    "\n",
    "\t\tnew file:   document.tex\n",
    "\t\tnew file:   figure.png\n",
    "\n",
    "$ git commit -m 'Initial project version'}\n",
    "\t[master (root-commit) 9d23b49] Initial project version\n",
    " \t2 files changed, 0 insertions(+), 0 deletions(-)\n",
    " \tcreate mode 100644 document.tex\n",
    " \tcreate mode 100644 figure.png\n",
    "```\n",
    "\n",
    "\n",
    "# Cloning a existing repository\n",
    "\n",
    "```\n",
    "$ git clone git@github.com:pnavaro/irmar-git-project.git\n",
    "\tCloning into 'projet'...\n",
    "\tInitialized empty Git repository in /git/repositories/plm/navaro/projet.git/\n",
    "\twarning: You appear to have cloned an empty repository.\n",
    "\tChecking connectivity... done.\n",
    "```\n",
    "\n",
    "# Add and commit your files.\n",
    "\n",
    "```\n",
    "$ cd sandbox/your_name\n",
    "$ touch document.tex figure.png\n",
    "$ git add document.tex figure.png\n",
    "$ git commit -m 'Add my contribution to the project'\n",
    "```\n",
    "\n",
    "Your files are NOT present on the server!\n",
    "\n",
    "~~~\n",
    "$ git status\n",
    "\tOn branch master\n",
    "\tYour branch is ahead of 'origin/master' by 1 commit.\n",
    "  \t(use \"git push\" to publish your local commits)\n",
    "~~~\n",
    "\n",
    "# Synchronizing your files on the server\n",
    "\n",
    "By default you are on the \"master\" branch.\n",
    "\n",
    "```\n",
    "$ git branch\n",
    "\t* master\n",
    "```\n",
    "Upload your files to the server:\n",
    "\n",
    "```\n",
    "$ git push origin master\n",
    "\t...\n",
    "\tTo https://github.com/pnavaro/irmar-git-project\n",
    "   \t\tae2ce3c..ed796ea  master -> master\n",
    "```\n",
    "\n",
    "# Git Workflow\n",
    "![4-stages](images/four_stages.png){width=30%}\n",
    "\n",
    "# Cloning an Existing Directory\n",
    "Now i change my computer.\n",
    "\n",
    "```\n",
    "$ git clone git@github.com:pnavaro/irmar-git-project.git\n",
    "\tCloning into 'irmar-git-project'...\n",
    "$ cd irmar-git-project\n",
    "$ git log\n",
    "\tcommit ed796ea1cbd15c8f7ec040b303c950569527012c (HEAD -> master, origin/master, origin/HEAD)\n",
    "\tAuthor: Pierre Navaro <pierre.navaro@univ-rennes1.fr>\n",
    "\tDate:   Thu Apr 19 13:26:01 2018 +0200\n",
    "\n",
    "    \tAdd my contribution to the project\n",
    "```\n",
    "\n",
    "# Display and Create a Branch\n",
    "\n",
    "Display all branches :\n",
    "\n",
    "```\n",
    "$ git branch -a\n",
    "\t* master\n",
    "  \t\tremotes/origin/HEAD -> origin/master\n",
    "  \t\tremotes/origin/master\n",
    "```\n",
    "\n",
    "Create your own branch and switch:\n",
    "\n",
    "```\n",
    "$ git branch pierre-branch\n",
    "$ git checkout pierre-branch\n",
    "```\n",
    "\n",
    "Switched to branch 'pierre-branch'\n",
    "\n",
    "```\n",
    "$ git branch\n",
    "  \tmaster\n",
    "\t* pierre-branch\n",
    "```\n",
    "\n",
    "Files could be different or non existant between branches but are at the same place on the file system\n",
    "\n",
    "\n",
    "# Contributing\n",
    "\n",
    "Modify the file document.tex\n",
    "\n",
    "```\n",
    "$ git status\n",
    "\tOn branch pierre-branch\n",
    "\tChanges not staged for commit:\n",
    " \t (use \"git add <file>...\" to update what will be committed)\n",
    " \t (use \"git checkout -- <file>...\" to discard changes in working directory)\n",
    "\t\tmodified:   document.tex\n",
    "\tno changes added to commit (use \"git add\" and/or \"git commit -a\")\n",
    "\n",
    "$ git diff\n",
    "\tdiff --git a/document.tex b/document.tex\n",
    "\tindex a608114..e69de29 100644\n",
    "\t--- a/document.tex\n",
    "\t+++ b/document.tex\n",
    "\t@@ -1,3 +0,0 @@\n",
    "\t-Exemple Git pour la journee de rentree\n",
    "```\n",
    "\n",
    "# Locally saving your modifications\n",
    "\n",
    "```\n",
    "$ git add document.tex\n",
    "```\n",
    "Checking which files are ready to be committed.\n",
    "\n",
    "```\n",
    "$ git status\n",
    "On branch pierre-branch\n",
    "Changes to be committed:\n",
    "  (use \"git reset HEAD <file>...\" to unstage)\n",
    "\tmodified:   document.tex\n",
    "```\n",
    "Now save your work, the branch is local.\n",
    "\n",
    "```\n",
    "$ git commit -m 'Some modifications'\n",
    "[pierre-branch 8c6bf81] Some modification is available\n",
    " 1 file changed, 3 insertions(+)\n",
    "```\n",
    "\n",
    "# Fast commit\n",
    "\n",
    "![index1](images/index1.png){width=50%}\n",
    "![index2](images/index2.png){width=50%}\n",
    "\n",
    "Use it carefully!\n",
    "\n",
    "# Share your work and make it available on the server\n",
    "\n",
    "## Option 1 : Merge to the main branch and push\n",
    "\n",
    "```\n",
    "$ git checkout master\n",
    "\n",
    "\tSwitched to branch 'master'\n",
    "\tYour branch is up-to-date with 'origin/master'.\n",
    "\n",
    "$ git merge pierre-branch\n",
    "\n",
    "\tUpdating 7cef21a..8c6bf81\n",
    "\tFast-forward\n",
    " \tdocument.tex | 3 +++\n",
    " \t1 file changed, 3 insertions(+)\n",
    "\n",
    "$ git push origin master\n",
    "\n",
    "\tCounting objects: 3, done.\n",
    "\t...\n",
    "```\n",
    "\n",
    "# Share your work and make it available on the server\n",
    "\n",
    "## Option 2 : Push your branch to the server\n",
    "\n",
    "```\n",
    "$ git checkout pierre-branch\n",
    "\n",
    "\tSwitched to branch 'pierre-branch'\n",
    "\n",
    "$ git push origin pierre-branch\n",
    "\n",
    "$ git branch -a\n",
    "  \tmaster\n",
    "\t* pierre-branch\n",
    "  \tremotes/origin/HEAD -> origin/master\n",
    "  \tremotes/origin/master\n",
    "  \tremotes/origin/pierre-branch\n",
    "```\n",
    "\n",
    "# Updating from the Repository\n",
    "\n",
    "The master branch has changed. To get all new updates :\n",
    "\n",
    "```git\n",
    "$ git checkout master\n",
    "\tSwitched to branch 'master'\n",
    "\n",
    "$ git fetch origin\n",
    "\tdownload changes from repository\n",
    "\n",
    "$ git merge origin/master\n",
    "\tupdate local branch master\n",
    "\n",
    "$ git checkout pierre-branch\n",
    "\tSwitched to branch 'pierre-branch'\n",
    "\n",
    "$ git merge master\n",
    "\tupdate your branch\n",
    "```\n",
    "If you did not push your branch, use `rebase` instead of `merge`\n",
    "\n",
    "# Merge conflicts\n",
    "\n",
    "If you have conflict, no problem just do :\n",
    "\n",
    "```\n",
    "$ git mergetool\n",
    "```\n",
    "\n",
    "A nice editor helps you to choose the right version. Close and :\n",
    "\n",
    "```\n",
    "$ git commit -m 'Update and fixed conflicts'\n",
    "```\n",
    "\n",
    "# Git cycle on a single branch\n",
    "\n",
    "![Cycle](images/git_cycle.png){width=50%}\n",
    "\n",
    "\n",
    "# Progressive-stability branching\n",
    "\n",
    "![Branches](images/lr-branches-2.png){width=50%}\n",
    "\n",
    "# Stash\n",
    "Use itwhen you want to record the current state of the working directory and the index.\n",
    "\n",
    "- Modify a file in the repository and save it with\n",
    "\n",
    "```\n",
    "$ git stash\n",
    "```\n",
    "- You can display saved changes with\n",
    "\n",
    "```\n",
    "$ git stash show\n",
    "```\n",
    "\n",
    "- Apply the modifications with\n",
    "\n",
    "```\n",
    "git stash pop (or apply)\n",
    "```\n",
    "\n",
    "or drop them with\n",
    "\n",
    "```\n",
    "$ git stash drop\n",
    "```\n",
    "\n",
    "\n",
    "\n",
    "# Why Git?\n",
    "\n",
    "- Tracking and controlling changes in the software.\n",
    "- Branches : Frictionless Context Switching, Role-Based Codelines.\n",
    "- Everything is local : Git is fast.\n",
    "- Multiple Backups.\n",
    "- It's impossible to get anything out of Git other than the exact bits you put in.\n",
    "- Staging Area : intermediate index between working directory and repository.\n",
    "- Pull-request is a nice feature for code reviewing and protect the stable branch.\n",
    "\n",
    "# Why not\n",
    "\n",
    "- Sometimes confusing for new users coming from CVS or subversion.\n",
    "- Crazy command line syntax.\n",
    "- Simple tasks need many commands.\n",
    "- Git history is often strange.\n",
    "- It is possible to destroy the repository on the remote server.\n",
    "- Power for the maintainer, at the expense of the contributor.\n",
    "\n",
    "\n",
    "# Some useful commands\n",
    "\n",
    "- Showing which files have changed between git branches\n",
    "\n",
    "```\n",
    "$ git diff --name-status master..mybranch\n",
    "```\n",
    "- Compare the master version of a file to my current branch version\n",
    "\n",
    "```\n",
    "$ git diff mybranch master -- myfile.F90\n",
    "```\n",
    "\n",
    "- Remove all ignored files (do it after a commit)\n",
    "\n",
    "```\n",
    "$ git clean -xdf\n",
    "```\n",
    "\n",
    "- To revert to a previous commit, ignoring any changes:\n",
    "\n",
    "```\n",
    "$ git checkout myfile.cpp\n",
    "$ git reset --hard\n",
    "```\n",
    "\n",
    "# Git through IDE\n",
    "\n",
    "- Install bash-completion and source git-prompt.sh.\n",
    "- Use Gui tools:\n",
    "\t- [GitHub Desktop](https://desktop.github.com/)\n",
    "\t- [Sourcetree](https://fr.atlassian.com/software/sourcetree)\n",
    "\t- [GitKraken](https://www.gitkraken.com/)\n",
    "- VCS plugin of IDE\n",
    "\t- [RStudio](https://www.rstudio.com/)\n",
    "\t- [Eclipse](https://www.eclipse.org/downloads/)\n",
    "\t- [TeXstudio](www.texstudio.org/)\n",
    "\t- [JetBrains](https://www.jetbrains.com/)"
   ]
  },
  {
   "cell_type": "markdown",
   "metadata": {
    "slideshow": {
     "slide_type": "slide"
    }
   },
   "source": [
    "## Git en version graphique\n",
    "\n",
    "- [GitHub Desktop](https://desktop.github.com/)\n",
    "- [Sourcetree](https://fr.atlassian.com/software/sourcetree)\n",
    "- [GitKraken](https://www.gitkraken.com/)\n",
    "- [Fork](https://git-fork.com)\n",
    "- Plugins\n",
    "\t- [RStudio](https://www.rstudio.com/)\n",
    "\t- [Eclipse](https://www.eclipse.org/downloads/)\n",
    "\t- [JetBrains](https://www.jetbrains.com/)"
   ]
  }
 ],
 "metadata": {
  "@webio": {
   "lastCommId": null,
   "lastKernelId": null
  },
  "celltoolbar": "Slideshow",
  "jupytext": {
   "cell_metadata_filter": "-all",
   "notebook_metadata_filter": "-all"
  },
  "kernelspec": {
   "display_name": "Python 3",
   "language": "python",
   "name": "python3"
  },
  "language_info": {
   "codemirror_mode": {
    "name": "ipython",
    "version": 3
   },
   "file_extension": ".py",
   "mimetype": "text/x-python",
   "name": "python",
   "nbconvert_exporter": "python",
   "pygments_lexer": "ipython3",
   "version": "3.8.5"
  }
 },
 "nbformat": 4,
 "nbformat_minor": 2
}
